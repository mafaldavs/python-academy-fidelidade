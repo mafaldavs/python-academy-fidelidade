{
 "cells": [
  {
   "cell_type": "markdown",
   "metadata": {
    "slideshow": {
     "slide_type": "slide"
    },
    "tags": []
   },
   "source": [
    "# Data Pre-processing\n",
    "## Session 3 - Unit 1 [Self Guided]\n",
    "\n",
    "<img src=media/cleaning.jpg width=200/>\n",
    "\n",
    "Welcome to the \"Data Pre-processing\" unit of the Python Academy! In this unit, you will learn:\n",
    "  - Data Quality\n",
    "  - String methods and Regex\n",
    "  - Date and Time Formatting\n",
    "  - Dealing with Categoricals\n",
    "  - Missing Values Imputation\n",
    "  - Merging data"
   ]
  },
  {
   "cell_type": "code",
   "execution_count": 1,
   "metadata": {
    "slideshow": {
     "slide_type": "skip"
    },
    "tags": []
   },
   "outputs": [],
   "source": [
    "import re\n",
    "import datetime\n",
    "import pandas as pd\n",
    "import numpy as np"
   ]
  },
  {
   "cell_type": "markdown",
   "metadata": {
    "slideshow": {
     "slide_type": "slide"
    },
    "tags": []
   },
   "source": [
    "## Data Quality\n",
    "\n",
    "Data is (almost) always not in the format we want and need. Data Scientists and Software Developers often find themselves investing more time that they would've wanted to standardize, clean, add and/or drop data, handle missing values, along with other steps just to make their data useable in some way. We often refer to the unofficial mantra \"Garbage In, Garbage Out\", meaning everything bad we input into our applications will come out wrong in the outputs side."
   ]
  },
  {
   "cell_type": "markdown",
   "metadata": {
    "slideshow": {
     "slide_type": "subslide"
    },
    "tags": []
   },
   "source": [
    "Data of bad quality can appear in many forms:\n",
    "  - **incomplete**: missing data, not all values are observed;\n",
    "  - **noisy**: values are observed but the measurements are not always exact;\n",
    "  - **inconsistent**: data between columns does not match in logical terms.\n",
    "\n",
    "With some intuition, you can expect how such data can affect the way we develop our applications. \n",
    "\n",
    "*Quiz: What was the most absurd data pre-processing step you had to implement?*"
   ]
  },
  {
   "cell_type": "code",
   "execution_count": 14,
   "metadata": {
    "slideshow": {
     "slide_type": "subslide"
    },
    "tags": []
   },
   "outputs": [],
   "source": [
    "SPOTIFY_FPATH = '../02_session/data/spotify_top100_2010_2019.csv'"
   ]
  },
  {
   "cell_type": "markdown",
   "metadata": {
    "slideshow": {
     "slide_type": "fragment"
    },
    "tags": []
   },
   "source": [
    "Remember how we talked about **constants** and how we should use them for variables that do not vary so much? Well, here they are. Since we will **use the file path** for our dataset **multiple times** in different code blocks, we **define it once in the beginning of the notebook**. Every time we want to load the data, we can re-use the file path by its name alone and avoid writing the full path."
   ]
  },
  {
   "cell_type": "markdown",
   "metadata": {
    "slideshow": {
     "slide_type": "slide"
    },
    "tags": []
   },
   "source": [
    "## String Methods\n",
    "\n",
    "Operations in Python are not just limited to numbers; we can also **manipulate and format text strings** with basic operations.\n",
    "\n",
    "The first operation is **adding two strings** together, or as we eloquently like to call it, ***string concatenation***. We concatenate with the `+` plus sign. Since it doesn't make much sense to \"add\" each element of a string, we use the plus sign to attach one after the other instead. \n",
    "\n",
    "Another mathematically-inspired string operation is the ***string repetition***. Can you imagine what a repetition looks like in a calculator? Since you can't actually reply, we will just say it. It's **multiplication**, using the asterisk `*` sign. Since multiplying a number is repeatedly adding that same number, we can also repeat strings in Python."
   ]
  },
  {
   "cell_type": "code",
   "execution_count": 7,
   "metadata": {
    "slideshow": {
     "slide_type": "fragment"
    },
    "tags": []
   },
   "outputs": [
    {
     "name": "stdout",
     "output_type": "stream",
     "text": [
      "my string can be split in multiple blocks, which I can later concatenate. But if I fail to add whitespaces in-between, thiswillhappen\n",
      "repeat after me: Python! Python! Python! Python! Python! \n"
     ]
    }
   ],
   "source": [
    "print(\"my string\" + \" can be split\" + \" in multiple blocks,\" + \" which I can\" + \" later concatenate. But if \" + \"I fail to add whitespaces in-between, \" + \"this\"+\"will\"+\"happen\")\n",
    "\n",
    "print(\"repeat after me: \" + \"Python! \"  * 5)"
   ]
  },
  {
   "cell_type": "markdown",
   "metadata": {
    "slideshow": {
     "slide_type": "subslide"
    },
    "tags": []
   },
   "source": [
    "We may also want to **format values as strings**, which we can use the built-in `str()` method. This is required to concatenate strings, for example."
   ]
  },
  {
   "cell_type": "code",
   "execution_count": 4,
   "metadata": {
    "slideshow": {
     "slide_type": "fragment"
    },
    "tags": []
   },
   "outputs": [
    {
     "name": "stdout",
     "output_type": "stream",
     "text": [
      "What is the value of the gold ratio? 1.618033988749895\n"
     ]
    }
   ],
   "source": [
    "print(\"What is the value of the gold ratio? \" + str( 1/2 + 5**0.5/2))"
   ]
  },
  {
   "cell_type": "markdown",
   "metadata": {
    "slideshow": {
     "slide_type": "subslide"
    },
    "tags": []
   },
   "source": [
    "From the multiple available ways to format strings, we advise the use **[f-strings](https://peps.python.org/pep-0498/)** that allow **literal string interpolation** and, as such, make their syntax quite intelligible at first glance. We **prefix** the strings with the letter `f` and encapsulate each expression we want to **evaluate within curly braces** `{}`. They also allow formatting of specific type of variables, like the 5 decimal point float we use below. Notice the syntax?"
   ]
  },
  {
   "cell_type": "code",
   "execution_count": 8,
   "metadata": {},
   "outputs": [
    {
     "name": "stdout",
     "output_type": "stream",
     "text": [
      "What is the value of the gold ratio? 1.61803\n"
     ]
    }
   ],
   "source": [
    "print(f\"What is the value of the gold ratio? {1/2 + 5**0.5/2:.5f}\")"
   ]
  },
  {
   "cell_type": "markdown",
   "metadata": {
    "slideshow": {
     "slide_type": "subslide"
    },
    "tags": []
   },
   "source": [
    "A single string can be also formatted with **methods** called directly into the string we want to format. There are a lot of [string methods](https://docs.python.org/3/library/stdtypes.html#string-methods) available and you (probably) won't remember them all. So we advise you to just glance at all the available methods to get an idea for now. Later, when you find yourself at a crossroads, remember this cheatsheet and see how far you can go!"
   ]
  },
  {
   "cell_type": "code",
   "execution_count": 9,
   "metadata": {
    "slideshow": {
     "slide_type": "fragment"
    },
    "tags": []
   },
   "outputs": [
    {
     "name": "stdout",
     "output_type": "stream",
     "text": [
      "hiatus kayote - tawk tomahawk\n",
      "Hiatus kayote - tawk tomahawk\n",
      "Hiatus Kayote - Tawk Tomahawk\n",
      "['hiatus kayote', 'tawk tomahawk']\n",
      "..........hiatus kayote - tawk tomahawk...........\n"
     ]
    }
   ],
   "source": [
    "album = \"hiatus kayote - tawk tomahawk\"\n",
    "print(album)\n",
    "print(album.capitalize())                   # capitalize - first letter capitalized, rest lowercase\n",
    "print(album.title())                        # title - titlecase, each word starts with capitalized then lowercase\n",
    "print(album.split(' - '))                   # split - list of words in string, splitted by a given separator\n",
    "print(album.center(50, '.'))                # center - define a width and fill with character"
   ]
  },
  {
   "cell_type": "markdown",
   "metadata": {
    "slideshow": {
     "slide_type": "subslide"
    },
    "tags": []
   },
   "source": [
    "On top of everything we just saw for formatting strings, `pandas` also supports string formatting with the `.str` accessor (more info [here](https://pandas.pydata.org/docs/user_guide/text.html)). But we will get there in a minute (or two)."
   ]
  },
  {
   "cell_type": "markdown",
   "metadata": {
    "slideshow": {
     "slide_type": "slide"
    },
    "tags": []
   },
   "source": [
    "## Regex\n",
    "\n",
    "Regular expressions are **sequences of characters** that specify a **search pattern** in text. They allow us to search, search-and-replace or validate text inputs."
   ]
  },
  {
   "cell_type": "markdown",
   "metadata": {
    "slideshow": {
     "slide_type": "fragment"
    },
    "tags": []
   },
   "source": [
    "There are a lot of patterns available (see [cheatsheet](https://regexr.com/) table below) and, by hearth, Regex takes some time to master. It's quite normal for developers to refer back to interactive regex helpers (that make the expressions come to life) so it is easier to understand whether some search pattern is working as intented. Some useful helpers include [RegExr](https://regexr.com/), [regex101](https://regex101.com/)."
   ]
  },
  {
   "cell_type": "markdown",
   "metadata": {
    "slideshow": {
     "slide_type": "subslide"
    },
    "tags": []
   },
   "source": [
    "| Pattern      | Description                    | Type                     |\n",
    "| ------------ | ------------------------------ | ------------------------ |\n",
    "| `.`          | any character except newline   | Character classess       |\n",
    "| `\\w \\d \\s`   | word, digit, whitespace        | Character classess       |\n",
    "| `\\W \\D \\S`   | not word, digit, whitespace    | Character classess       |\n",
    "| `[abc]`      | any of a, b, or c              | Character classess       |\n",
    "| `[^abc]`     | not a, b, or c                 | Character classess       |\n",
    "| `[a-g]`      | character between a & g        | Character classess       |\n",
    "| `^abc$`      | start / end of the string      | Anchors                  |\n",
    "| `\\b\\B`       | word, not-word boundary        | Anchors                  |"
   ]
  },
  {
   "cell_type": "markdown",
   "metadata": {
    "slideshow": {
     "slide_type": "subslide"
    },
    "tags": []
   },
   "source": [
    "| Pattern      | Description                    | Type                     |\n",
    "| ------------ | ------------------------------ | ------------------------ |\n",
    "| `\\. \\* \\\\`   | escaped special characters     | Escaped characters       |\n",
    "| `\\t \\n \\r`   | tab, linefeed, carriage return | Escaped characters       |\n",
    "| `(abc)`      | capture group                  | Groups & Lookaround      |\n",
    "| `\\1`         | backreference to group #1      | Groups & Lookaround      |\n",
    "| `(?:abc)`    | non-capturing group            | Groups & Lookaround      |\n",
    "| `(?=abc)`    | positive lookahead             | Groups & Lookaround      |\n",
    "| `(?!abc)`    | negative lookahead             | Groups & Lookaround      |\n",
    "| `a* a+ a?`   | 0 or more, 1 or more, 0 or 1   | Quantifies & Alternation |\n",
    "| `a{5} a{2,}` | exactly five, two or more      | Quantifies & Alternation |\n",
    "| `a{1,3}`     | between one & three            | Quantifies & Alternation |\n",
    "| `a+? a{2,}?` | match as few as possible       | Quantifies & Alternation |\n",
    "| `ab\\|cd`     | match ab or cd                 | Quantifies & Alternation |"
   ]
  },
  {
   "cell_type": "markdown",
   "metadata": {
    "slideshow": {
     "slide_type": "subslide"
    },
    "tags": []
   },
   "source": [
    "In the Python standard library, a `re` module provides the matching operations we need to learn Regex. \n",
    "\n",
    "Regex works by **combining patterns** (things we want to find) **and texts** (where we want to find such things)."
   ]
  },
  {
   "cell_type": "code",
   "execution_count": 19,
   "metadata": {
    "slideshow": {
     "slide_type": "fragment"
    },
    "tags": []
   },
   "outputs": [
    {
     "data": {
      "text/plain": [
       "['Michael', 'Shaun', 'Larnell', 'Lewis']"
      ]
     },
     "execution_count": 19,
     "metadata": {},
     "output_type": "execute_result"
    }
   ],
   "source": [
    "pattern = '[A-Z][a-z]+'                 # capitall letter, followed by 1 or more lowercase\n",
    "text = 'Michael league bill laurance Shaun martin Larnell Lewis'\n",
    "re.findall(pattern, text)"
   ]
  },
  {
   "cell_type": "markdown",
   "metadata": {
    "slideshow": {
     "slide_type": "subslide"
    },
    "tags": []
   },
   "source": [
    "Alternatively, we can also use pandas to match text columns by regex patterns. This is available as a string accessor `.str` on a Series (e.g. DataFrame's column). We have multiple ways to interact with our search patterns on DataFrames (see table below).\n",
    "\n",
    "| Method   | Description                                                    |\n",
    "| -------- | -------------------------------------------------------------- |\n",
    "| replace  | replace the search pattern with given value                    |\n",
    "| contains | boolean whether search pattern is contained in target string   |\n",
    "| extract  | extract and return capture groups of search pattern as columns |\n",
    "| findall  | find all occurrences of search pattern similar to `re.findall` |\n",
    "| match    | whether string matches search pattern                          |\n",
    "| split    | string split, equivalent to `str.split()`                      |\n",
    "| rsplit   | right string split, equivalent to `str.rsplit()`               |\n"
   ]
  },
  {
   "cell_type": "markdown",
   "metadata": {},
   "source": [
    "# <span style=\"color:red\"> NÃO ENTENDO QUE PATTERN É ESTA... </span>"
   ]
  },
  {
   "cell_type": "code",
   "execution_count": 4,
   "metadata": {
    "slideshow": {
     "slide_type": "subslide"
    },
    "tags": []
   },
   "outputs": [],
   "source": [
    "def featuring_artists(fpath: str):\n",
    "    df = pd.read_csv(fpath)\n",
    "    df['feat'] = df['title'].str.contains(pat='feat')\n",
    "    df['feat_artist'] = df['title'].str.extract(pat='.*feat.(.*)\\)')\n",
    "    df = df[['title', 'artist', 'feat', 'feat_artist']]\n",
    "    return df"
   ]
  },
  {
   "cell_type": "code",
   "execution_count": 5,
   "metadata": {
    "slideshow": {
     "slide_type": "fragment"
    },
    "tags": []
   },
   "outputs": [
    {
     "data": {
      "text/html": [
       "<div>\n",
       "<style scoped>\n",
       "    .dataframe tbody tr th:only-of-type {\n",
       "        vertical-align: middle;\n",
       "    }\n",
       "\n",
       "    .dataframe tbody tr th {\n",
       "        vertical-align: top;\n",
       "    }\n",
       "\n",
       "    .dataframe thead th {\n",
       "        text-align: right;\n",
       "    }\n",
       "</style>\n",
       "<table border=\"1\" class=\"dataframe\">\n",
       "  <thead>\n",
       "    <tr style=\"text-align: right;\">\n",
       "      <th></th>\n",
       "      <th>title</th>\n",
       "      <th>artist</th>\n",
       "      <th>feat</th>\n",
       "      <th>feat_artist</th>\n",
       "    </tr>\n",
       "  </thead>\n",
       "  <tbody>\n",
       "    <tr>\n",
       "      <th>0</th>\n",
       "      <td>STARSTRUKK (feat. Katy Perry)</td>\n",
       "      <td>3OH!3</td>\n",
       "      <td>True</td>\n",
       "      <td>Katy Perry</td>\n",
       "    </tr>\n",
       "    <tr>\n",
       "      <th>1</th>\n",
       "      <td>My First Kiss (feat. Ke$ha)</td>\n",
       "      <td>3OH!3</td>\n",
       "      <td>True</td>\n",
       "      <td>Ke$ha</td>\n",
       "    </tr>\n",
       "    <tr>\n",
       "      <th>2</th>\n",
       "      <td>I Need A Dollar</td>\n",
       "      <td>Aloe Blacc</td>\n",
       "      <td>False</td>\n",
       "      <td>NaN</td>\n",
       "    </tr>\n",
       "    <tr>\n",
       "      <th>3</th>\n",
       "      <td>Airplanes (feat. Hayley Williams of Paramore)</td>\n",
       "      <td>B.o.B</td>\n",
       "      <td>True</td>\n",
       "      <td>Hayley Williams of Paramore</td>\n",
       "    </tr>\n",
       "    <tr>\n",
       "      <th>4</th>\n",
       "      <td>Nothin' on You (feat. Bruno Mars)</td>\n",
       "      <td>B.o.B</td>\n",
       "      <td>True</td>\n",
       "      <td>Bruno Mars</td>\n",
       "    </tr>\n",
       "  </tbody>\n",
       "</table>\n",
       "</div>"
      ],
      "text/plain": [
       "                                           title      artist   feat  \\\n",
       "0                  STARSTRUKK (feat. Katy Perry)       3OH!3   True   \n",
       "1                    My First Kiss (feat. Ke$ha)       3OH!3   True   \n",
       "2                                I Need A Dollar  Aloe Blacc  False   \n",
       "3  Airplanes (feat. Hayley Williams of Paramore)       B.o.B   True   \n",
       "4              Nothin' on You (feat. Bruno Mars)       B.o.B   True   \n",
       "\n",
       "                    feat_artist  \n",
       "0                    Katy Perry  \n",
       "1                         Ke$ha  \n",
       "2                           NaN  \n",
       "3   Hayley Williams of Paramore  \n",
       "4                    Bruno Mars  "
      ]
     },
     "execution_count": 5,
     "metadata": {},
     "output_type": "execute_result"
    }
   ],
   "source": [
    "featuring_artists('data/spotify_1.csv').head()\n"
   ]
  },
  {
   "cell_type": "markdown",
   "metadata": {},
   "source": [
    "## Merging data\n",
    "\n",
    "Merging data is a common data manipulation task in data science, analysis and engineering. It involves combining data from multiple sources based on common columns or indexes. Pandas provides several functions for merging dataframes, including **merge**, **join**, and **concat**.\n",
    "\n",
    "The merge function allows us to merge dataframes based on one or more common columns, while the join function is used to join dataframes based on their index or column. The concat function, on the other hand, is used to concatenate dataframes vertically or horizontally. \n"
   ]
  },
  {
   "cell_type": "markdown",
   "metadata": {},
   "source": [
    "### Merging"
   ]
  },
  {
   "cell_type": "markdown",
   "metadata": {},
   "source": [
    "# <span style=\"color:red\"> NÃO PERCEBO COMO USARIA AQUI O JOIN/ QUAL A DIFERENÇA COM O MERGE </span>"
   ]
  },
  {
   "cell_type": "code",
   "execution_count": 6,
   "metadata": {},
   "outputs": [],
   "source": [
    "# store first 5 and last 5 rows in two different dataframes\n",
    "\n",
    "song_artist = featuring_artists('data/spotify_1.csv')[['title','artist']]\n",
    "song_feat =  featuring_artists('data/spotify_1.csv')[['title','feat_artist']]"
   ]
  },
  {
   "cell_type": "code",
   "execution_count": 35,
   "metadata": {},
   "outputs": [
    {
     "data": {
      "text/html": [
       "<div>\n",
       "<style scoped>\n",
       "    .dataframe tbody tr th:only-of-type {\n",
       "        vertical-align: middle;\n",
       "    }\n",
       "\n",
       "    .dataframe tbody tr th {\n",
       "        vertical-align: top;\n",
       "    }\n",
       "\n",
       "    .dataframe thead th {\n",
       "        text-align: right;\n",
       "    }\n",
       "</style>\n",
       "<table border=\"1\" class=\"dataframe\">\n",
       "  <thead>\n",
       "    <tr style=\"text-align: right;\">\n",
       "      <th></th>\n",
       "      <th>title</th>\n",
       "      <th>artist</th>\n",
       "      <th>feat_artist</th>\n",
       "    </tr>\n",
       "  </thead>\n",
       "  <tbody>\n",
       "    <tr>\n",
       "      <th>0</th>\n",
       "      <td>STARSTRUKK (feat. Katy Perry)</td>\n",
       "      <td>3OH!3</td>\n",
       "      <td>Katy Perry</td>\n",
       "    </tr>\n",
       "    <tr>\n",
       "      <th>1</th>\n",
       "      <td>My First Kiss (feat. Ke$ha)</td>\n",
       "      <td>3OH!3</td>\n",
       "      <td>Ke$ha</td>\n",
       "    </tr>\n",
       "    <tr>\n",
       "      <th>2</th>\n",
       "      <td>I Need A Dollar</td>\n",
       "      <td>Aloe Blacc</td>\n",
       "      <td>NaN</td>\n",
       "    </tr>\n",
       "    <tr>\n",
       "      <th>3</th>\n",
       "      <td>Airplanes (feat. Hayley Williams of Paramore)</td>\n",
       "      <td>B.o.B</td>\n",
       "      <td>Hayley Williams of Paramore</td>\n",
       "    </tr>\n",
       "    <tr>\n",
       "      <th>4</th>\n",
       "      <td>Nothin' on You (feat. Bruno Mars)</td>\n",
       "      <td>B.o.B</td>\n",
       "      <td>Bruno Mars</td>\n",
       "    </tr>\n",
       "    <tr>\n",
       "      <th>5</th>\n",
       "      <td>Magic (feat. Rivers Cuomo)</td>\n",
       "      <td>B.o.B</td>\n",
       "      <td>Rivers Cuomo</td>\n",
       "    </tr>\n",
       "    <tr>\n",
       "      <th>6</th>\n",
       "      <td>The Time (Dirty Bit)</td>\n",
       "      <td>Black Eyed Peas</td>\n",
       "      <td>NaN</td>\n",
       "    </tr>\n",
       "    <tr>\n",
       "      <th>7</th>\n",
       "      <td>Imma Be</td>\n",
       "      <td>Black Eyed Peas</td>\n",
       "      <td>NaN</td>\n",
       "    </tr>\n",
       "    <tr>\n",
       "      <th>8</th>\n",
       "      <td>Talking to the Moon</td>\n",
       "      <td>Bruno Mars</td>\n",
       "      <td>NaN</td>\n",
       "    </tr>\n",
       "    <tr>\n",
       "      <th>9</th>\n",
       "      <td>Just the Way You Are</td>\n",
       "      <td>Bruno Mars</td>\n",
       "      <td>NaN</td>\n",
       "    </tr>\n",
       "  </tbody>\n",
       "</table>\n",
       "</div>"
      ],
      "text/plain": [
       "                                           title           artist  \\\n",
       "0                  STARSTRUKK (feat. Katy Perry)            3OH!3   \n",
       "1                    My First Kiss (feat. Ke$ha)            3OH!3   \n",
       "2                                I Need A Dollar       Aloe Blacc   \n",
       "3  Airplanes (feat. Hayley Williams of Paramore)            B.o.B   \n",
       "4              Nothin' on You (feat. Bruno Mars)            B.o.B   \n",
       "5                     Magic (feat. Rivers Cuomo)            B.o.B   \n",
       "6                           The Time (Dirty Bit)  Black Eyed Peas   \n",
       "7                                        Imma Be  Black Eyed Peas   \n",
       "8                            Talking to the Moon       Bruno Mars   \n",
       "9                           Just the Way You Are       Bruno Mars   \n",
       "\n",
       "                    feat_artist  \n",
       "0                    Katy Perry  \n",
       "1                         Ke$ha  \n",
       "2                           NaN  \n",
       "3   Hayley Williams of Paramore  \n",
       "4                    Bruno Mars  \n",
       "5                  Rivers Cuomo  \n",
       "6                           NaN  \n",
       "7                           NaN  \n",
       "8                           NaN  \n",
       "9                           NaN  "
      ]
     },
     "execution_count": 35,
     "metadata": {},
     "output_type": "execute_result"
    }
   ],
   "source": [
    "# merging on song title\n",
    "\n",
    "song_artist.merge(\n",
    "   song_feat,\n",
    "   how= 'inner',\n",
    "   on= 'title' \n",
    ")"
   ]
  },
  {
   "cell_type": "code",
   "execution_count": 41,
   "metadata": {},
   "outputs": [],
   "source": [
    "### Concat\n",
    "\n",
    "first5_songs = featuring_artists('data/spotify_1.csv').head()\n",
    "last5_songs =  featuring_artists('data/spotify_1.csv').tail()"
   ]
  },
  {
   "cell_type": "code",
   "execution_count": 44,
   "metadata": {},
   "outputs": [
    {
     "data": {
      "text/html": [
       "<div>\n",
       "<style scoped>\n",
       "    .dataframe tbody tr th:only-of-type {\n",
       "        vertical-align: middle;\n",
       "    }\n",
       "\n",
       "    .dataframe tbody tr th {\n",
       "        vertical-align: top;\n",
       "    }\n",
       "\n",
       "    .dataframe thead th {\n",
       "        text-align: right;\n",
       "    }\n",
       "</style>\n",
       "<table border=\"1\" class=\"dataframe\">\n",
       "  <thead>\n",
       "    <tr style=\"text-align: right;\">\n",
       "      <th></th>\n",
       "      <th>title</th>\n",
       "      <th>artist</th>\n",
       "      <th>feat</th>\n",
       "      <th>feat_artist</th>\n",
       "    </tr>\n",
       "  </thead>\n",
       "  <tbody>\n",
       "    <tr>\n",
       "      <th>0</th>\n",
       "      <td>STARSTRUKK (feat. Katy Perry)</td>\n",
       "      <td>3OH!3</td>\n",
       "      <td>True</td>\n",
       "      <td>Katy Perry</td>\n",
       "    </tr>\n",
       "    <tr>\n",
       "      <th>1</th>\n",
       "      <td>My First Kiss (feat. Ke$ha)</td>\n",
       "      <td>3OH!3</td>\n",
       "      <td>True</td>\n",
       "      <td>Ke$ha</td>\n",
       "    </tr>\n",
       "    <tr>\n",
       "      <th>2</th>\n",
       "      <td>I Need A Dollar</td>\n",
       "      <td>Aloe Blacc</td>\n",
       "      <td>False</td>\n",
       "      <td>NaN</td>\n",
       "    </tr>\n",
       "    <tr>\n",
       "      <th>3</th>\n",
       "      <td>Airplanes (feat. Hayley Williams of Paramore)</td>\n",
       "      <td>B.o.B</td>\n",
       "      <td>True</td>\n",
       "      <td>Hayley Williams of Paramore</td>\n",
       "    </tr>\n",
       "    <tr>\n",
       "      <th>4</th>\n",
       "      <td>Nothin' on You (feat. Bruno Mars)</td>\n",
       "      <td>B.o.B</td>\n",
       "      <td>True</td>\n",
       "      <td>Bruno Mars</td>\n",
       "    </tr>\n",
       "    <tr>\n",
       "      <th>5</th>\n",
       "      <td>Magic (feat. Rivers Cuomo)</td>\n",
       "      <td>B.o.B</td>\n",
       "      <td>True</td>\n",
       "      <td>Rivers Cuomo</td>\n",
       "    </tr>\n",
       "    <tr>\n",
       "      <th>6</th>\n",
       "      <td>The Time (Dirty Bit)</td>\n",
       "      <td>Black Eyed Peas</td>\n",
       "      <td>False</td>\n",
       "      <td>NaN</td>\n",
       "    </tr>\n",
       "    <tr>\n",
       "      <th>7</th>\n",
       "      <td>Imma Be</td>\n",
       "      <td>Black Eyed Peas</td>\n",
       "      <td>False</td>\n",
       "      <td>NaN</td>\n",
       "    </tr>\n",
       "    <tr>\n",
       "      <th>8</th>\n",
       "      <td>Talking to the Moon</td>\n",
       "      <td>Bruno Mars</td>\n",
       "      <td>False</td>\n",
       "      <td>NaN</td>\n",
       "    </tr>\n",
       "    <tr>\n",
       "      <th>9</th>\n",
       "      <td>Just the Way You Are</td>\n",
       "      <td>Bruno Mars</td>\n",
       "      <td>False</td>\n",
       "      <td>NaN</td>\n",
       "    </tr>\n",
       "  </tbody>\n",
       "</table>\n",
       "</div>"
      ],
      "text/plain": [
       "                                           title           artist   feat  \\\n",
       "0                  STARSTRUKK (feat. Katy Perry)            3OH!3   True   \n",
       "1                    My First Kiss (feat. Ke$ha)            3OH!3   True   \n",
       "2                                I Need A Dollar       Aloe Blacc  False   \n",
       "3  Airplanes (feat. Hayley Williams of Paramore)            B.o.B   True   \n",
       "4              Nothin' on You (feat. Bruno Mars)            B.o.B   True   \n",
       "5                     Magic (feat. Rivers Cuomo)            B.o.B   True   \n",
       "6                           The Time (Dirty Bit)  Black Eyed Peas  False   \n",
       "7                                        Imma Be  Black Eyed Peas  False   \n",
       "8                            Talking to the Moon       Bruno Mars  False   \n",
       "9                           Just the Way You Are       Bruno Mars  False   \n",
       "\n",
       "                    feat_artist  \n",
       "0                    Katy Perry  \n",
       "1                         Ke$ha  \n",
       "2                           NaN  \n",
       "3   Hayley Williams of Paramore  \n",
       "4                    Bruno Mars  \n",
       "5                  Rivers Cuomo  \n",
       "6                           NaN  \n",
       "7                           NaN  \n",
       "8                           NaN  \n",
       "9                           NaN  "
      ]
     },
     "execution_count": 44,
     "metadata": {},
     "output_type": "execute_result"
    }
   ],
   "source": [
    "ten_songs = pd.concat([first5_songs, last5_songs], axis = 0)"
   ]
  },
  {
   "cell_type": "markdown",
   "metadata": {
    "slideshow": {
     "slide_type": "slide"
    },
    "tags": []
   },
   "source": [
    "## Missing Values\n",
    "\n",
    "In Data Science and Software Development, something being *missing* or *absent of value* is often considered in the same way and broadly referred as **missing values**. Missing values can also be referred as NA (not available) or NaN (not a number).\n",
    "\n",
    "In Python, we can define a missing value with `None`, a reserved keyword that symbolizes a null value (absent) or no value at all (missing). See the difference?"
   ]
  },
  {
   "cell_type": "markdown",
   "metadata": {
    "slideshow": {
     "slide_type": "subslide"
    },
    "tags": []
   },
   "source": [
    "With `pandas`, support for [missing data](https://pandas.pydata.org/pandas-docs/stable/user_guide/missing_data.html) is much more flexible and can even depend on the type of data you are working with (e.g. NaN for numericals, NaT for datetime). Some of the most useful functionalities include:\n",
    "  - `.isna()` creates a **mask of booleans identifying missing** values;\n",
    "  - `.fillna()` **replaces missing values** with non-NA;\n",
    "  - `.dropna()` **excludes data** (rows and/or columns) that include missings.\n",
    "\n",
    "\n",
    "Let's look at our data again and simulate some missingness. Afterwards, we can try out the new tools we just saw to fix it!"
   ]
  },
  {
   "cell_type": "code",
   "execution_count": 15,
   "metadata": {
    "slideshow": {
     "slide_type": "skip"
    },
    "tags": []
   },
   "outputs": [],
   "source": [
    "def missing_data(fpath: str, pct_missing: float = 0.8):\n",
    "    df = pd.read_csv(fpath)                                     # read data\n",
    "    df = df.mask(np.random.rand(*df.shape) > pct_missing)       # create random missing data\n",
    "    df = df.iloc[:, :3]                                         # get first 3 columns only\n",
    "    return df\n",
    "\n",
    "miss_df = missing_data(SPOTIFY_FPATH)"
   ]
  },
  {
   "cell_type": "code",
   "execution_count": 18,
   "metadata": {},
   "outputs": [
    {
     "data": {
      "text/html": [
       "<div>\n",
       "<style scoped>\n",
       "    .dataframe tbody tr th:only-of-type {\n",
       "        vertical-align: middle;\n",
       "    }\n",
       "\n",
       "    .dataframe tbody tr th {\n",
       "        vertical-align: top;\n",
       "    }\n",
       "\n",
       "    .dataframe thead th {\n",
       "        text-align: right;\n",
       "    }\n",
       "</style>\n",
       "<table border=\"1\" class=\"dataframe\">\n",
       "  <thead>\n",
       "    <tr style=\"text-align: right;\">\n",
       "      <th></th>\n",
       "      <th>title</th>\n",
       "      <th>artist</th>\n",
       "      <th>top genre</th>\n",
       "      <th>year released</th>\n",
       "      <th>added</th>\n",
       "      <th>bpm</th>\n",
       "      <th>nrgy</th>\n",
       "      <th>dnce</th>\n",
       "      <th>dB</th>\n",
       "      <th>live</th>\n",
       "      <th>val</th>\n",
       "      <th>dur</th>\n",
       "      <th>acous</th>\n",
       "      <th>spch</th>\n",
       "      <th>pop</th>\n",
       "      <th>top year</th>\n",
       "      <th>artist type</th>\n",
       "    </tr>\n",
       "  </thead>\n",
       "  <tbody>\n",
       "    <tr>\n",
       "      <th>0</th>\n",
       "      <td>STARSTRUKK (feat. Katy Perry)</td>\n",
       "      <td>3OH!3</td>\n",
       "      <td>dance pop</td>\n",
       "      <td>2009</td>\n",
       "      <td>2022‑02‑17</td>\n",
       "      <td>140</td>\n",
       "      <td>81</td>\n",
       "      <td>61</td>\n",
       "      <td>-6</td>\n",
       "      <td>23</td>\n",
       "      <td>23</td>\n",
       "      <td>203</td>\n",
       "      <td>0</td>\n",
       "      <td>6</td>\n",
       "      <td>70</td>\n",
       "      <td>2010</td>\n",
       "      <td>Duo</td>\n",
       "    </tr>\n",
       "    <tr>\n",
       "      <th>1</th>\n",
       "      <td>My First Kiss (feat. Ke$ha)</td>\n",
       "      <td>3OH!3</td>\n",
       "      <td>dance pop</td>\n",
       "      <td>2010</td>\n",
       "      <td>2022‑02‑17</td>\n",
       "      <td>138</td>\n",
       "      <td>89</td>\n",
       "      <td>68</td>\n",
       "      <td>-4</td>\n",
       "      <td>36</td>\n",
       "      <td>83</td>\n",
       "      <td>192</td>\n",
       "      <td>1</td>\n",
       "      <td>8</td>\n",
       "      <td>68</td>\n",
       "      <td>2010</td>\n",
       "      <td>Duo</td>\n",
       "    </tr>\n",
       "    <tr>\n",
       "      <th>2</th>\n",
       "      <td>I Need A Dollar</td>\n",
       "      <td>Aloe Blacc</td>\n",
       "      <td>pop soul</td>\n",
       "      <td>2010</td>\n",
       "      <td>2022‑02‑17</td>\n",
       "      <td>95</td>\n",
       "      <td>48</td>\n",
       "      <td>84</td>\n",
       "      <td>-7</td>\n",
       "      <td>9</td>\n",
       "      <td>96</td>\n",
       "      <td>243</td>\n",
       "      <td>20</td>\n",
       "      <td>3</td>\n",
       "      <td>72</td>\n",
       "      <td>2010</td>\n",
       "      <td>Solo</td>\n",
       "    </tr>\n",
       "    <tr>\n",
       "      <th>3</th>\n",
       "      <td>Airplanes (feat. Hayley Williams of Paramore)</td>\n",
       "      <td>B.o.B</td>\n",
       "      <td>atl hip hop</td>\n",
       "      <td>2010</td>\n",
       "      <td>2022‑02‑17</td>\n",
       "      <td>93</td>\n",
       "      <td>87</td>\n",
       "      <td>66</td>\n",
       "      <td>-4</td>\n",
       "      <td>4</td>\n",
       "      <td>38</td>\n",
       "      <td>180</td>\n",
       "      <td>11</td>\n",
       "      <td>12</td>\n",
       "      <td>80</td>\n",
       "      <td>2010</td>\n",
       "      <td>Solo</td>\n",
       "    </tr>\n",
       "    <tr>\n",
       "      <th>4</th>\n",
       "      <td>Nothin' on You (feat. Bruno Mars)</td>\n",
       "      <td>B.o.B</td>\n",
       "      <td>atl hip hop</td>\n",
       "      <td>2010</td>\n",
       "      <td>2022‑02‑17</td>\n",
       "      <td>104</td>\n",
       "      <td>85</td>\n",
       "      <td>69</td>\n",
       "      <td>-6</td>\n",
       "      <td>9</td>\n",
       "      <td>74</td>\n",
       "      <td>268</td>\n",
       "      <td>39</td>\n",
       "      <td>5</td>\n",
       "      <td>79</td>\n",
       "      <td>2010</td>\n",
       "      <td>Solo</td>\n",
       "    </tr>\n",
       "  </tbody>\n",
       "</table>\n",
       "</div>"
      ],
      "text/plain": [
       "                                           title      artist    top genre  \\\n",
       "0                  STARSTRUKK (feat. Katy Perry)       3OH!3    dance pop   \n",
       "1                    My First Kiss (feat. Ke$ha)       3OH!3    dance pop   \n",
       "2                                I Need A Dollar  Aloe Blacc     pop soul   \n",
       "3  Airplanes (feat. Hayley Williams of Paramore)       B.o.B  atl hip hop   \n",
       "4              Nothin' on You (feat. Bruno Mars)       B.o.B  atl hip hop   \n",
       "\n",
       "   year released       added  bpm  nrgy  dnce  dB  live  val  dur  acous  \\\n",
       "0           2009  2022‑02‑17  140    81    61  -6    23   23  203      0   \n",
       "1           2010  2022‑02‑17  138    89    68  -4    36   83  192      1   \n",
       "2           2010  2022‑02‑17   95    48    84  -7     9   96  243     20   \n",
       "3           2010  2022‑02‑17   93    87    66  -4     4   38  180     11   \n",
       "4           2010  2022‑02‑17  104    85    69  -6     9   74  268     39   \n",
       "\n",
       "   spch  pop  top year artist type  \n",
       "0     6   70      2010         Duo  \n",
       "1     8   68      2010         Duo  \n",
       "2     3   72      2010        Solo  \n",
       "3    12   80      2010        Solo  \n",
       "4     5   79      2010        Solo  "
      ]
     },
     "execution_count": 18,
     "metadata": {},
     "output_type": "execute_result"
    }
   ],
   "source": [
    "df = pd.read_csv(SPOTIFY_FPATH)\n",
    "df.head()"
   ]
  },
  {
   "cell_type": "code",
   "execution_count": 17,
   "metadata": {},
   "outputs": [
    {
     "data": {
      "text/html": [
       "<div>\n",
       "<style scoped>\n",
       "    .dataframe tbody tr th:only-of-type {\n",
       "        vertical-align: middle;\n",
       "    }\n",
       "\n",
       "    .dataframe tbody tr th {\n",
       "        vertical-align: top;\n",
       "    }\n",
       "\n",
       "    .dataframe thead th {\n",
       "        text-align: right;\n",
       "    }\n",
       "</style>\n",
       "<table border=\"1\" class=\"dataframe\">\n",
       "  <thead>\n",
       "    <tr style=\"text-align: right;\">\n",
       "      <th></th>\n",
       "      <th>title</th>\n",
       "      <th>artist</th>\n",
       "      <th>top genre</th>\n",
       "    </tr>\n",
       "  </thead>\n",
       "  <tbody>\n",
       "    <tr>\n",
       "      <th>0</th>\n",
       "      <td>NaN</td>\n",
       "      <td>3OH!3</td>\n",
       "      <td>dance pop</td>\n",
       "    </tr>\n",
       "    <tr>\n",
       "      <th>1</th>\n",
       "      <td>My First Kiss (feat. Ke$ha)</td>\n",
       "      <td>3OH!3</td>\n",
       "      <td>NaN</td>\n",
       "    </tr>\n",
       "    <tr>\n",
       "      <th>2</th>\n",
       "      <td>I Need A Dollar</td>\n",
       "      <td>NaN</td>\n",
       "      <td>pop soul</td>\n",
       "    </tr>\n",
       "    <tr>\n",
       "      <th>3</th>\n",
       "      <td>Airplanes (feat. Hayley Williams of Paramore)</td>\n",
       "      <td>B.o.B</td>\n",
       "      <td>NaN</td>\n",
       "    </tr>\n",
       "    <tr>\n",
       "      <th>4</th>\n",
       "      <td>Nothin' on You (feat. Bruno Mars)</td>\n",
       "      <td>B.o.B</td>\n",
       "      <td>NaN</td>\n",
       "    </tr>\n",
       "  </tbody>\n",
       "</table>\n",
       "</div>"
      ],
      "text/plain": [
       "                                           title artist  top genre\n",
       "0                                            NaN  3OH!3  dance pop\n",
       "1                    My First Kiss (feat. Ke$ha)  3OH!3        NaN\n",
       "2                                I Need A Dollar    NaN   pop soul\n",
       "3  Airplanes (feat. Hayley Williams of Paramore)  B.o.B        NaN\n",
       "4              Nothin' on You (feat. Bruno Mars)  B.o.B        NaN"
      ]
     },
     "execution_count": 17,
     "metadata": {},
     "output_type": "execute_result"
    }
   ],
   "source": [
    "miss_df.head()"
   ]
  },
  {
   "cell_type": "code",
   "execution_count": 16,
   "metadata": {
    "slideshow": {
     "slide_type": "fragment"
    },
    "tags": []
   },
   "outputs": [
    {
     "data": {
      "text/plain": [
       "title        189\n",
       "artist       185\n",
       "top genre    201\n",
       "dtype: int64"
      ]
     },
     "execution_count": 16,
     "metadata": {},
     "output_type": "execute_result"
    }
   ],
   "source": [
    "# number of missings per column\n",
    "miss_df.isna().sum() "
   ]
  },
  {
   "cell_type": "code",
   "execution_count": 28,
   "metadata": {
    "slideshow": {
     "slide_type": "subslide"
    },
    "tags": []
   },
   "outputs": [
    {
     "data": {
      "text/html": [
       "<div>\n",
       "<style scoped>\n",
       "    .dataframe tbody tr th:only-of-type {\n",
       "        vertical-align: middle;\n",
       "    }\n",
       "\n",
       "    .dataframe tbody tr th {\n",
       "        vertical-align: top;\n",
       "    }\n",
       "\n",
       "    .dataframe thead th {\n",
       "        text-align: right;\n",
       "    }\n",
       "</style>\n",
       "<table border=\"1\" class=\"dataframe\">\n",
       "  <thead>\n",
       "    <tr style=\"text-align: right;\">\n",
       "      <th></th>\n",
       "      <th>title</th>\n",
       "      <th>artist</th>\n",
       "      <th>top genre</th>\n",
       "    </tr>\n",
       "  </thead>\n",
       "  <tbody>\n",
       "    <tr>\n",
       "      <th>0</th>\n",
       "      <td>???</td>\n",
       "      <td>3OH!3</td>\n",
       "      <td>dance pop</td>\n",
       "    </tr>\n",
       "    <tr>\n",
       "      <th>1</th>\n",
       "      <td>???</td>\n",
       "      <td>3OH!3</td>\n",
       "      <td>???</td>\n",
       "    </tr>\n",
       "    <tr>\n",
       "      <th>2</th>\n",
       "      <td>I Need A Dollar</td>\n",
       "      <td>Aloe Blacc</td>\n",
       "      <td>pop soul</td>\n",
       "    </tr>\n",
       "    <tr>\n",
       "      <th>3</th>\n",
       "      <td>Airplanes (feat. Hayley Williams of Paramore)</td>\n",
       "      <td>???</td>\n",
       "      <td>atl hip hop</td>\n",
       "    </tr>\n",
       "    <tr>\n",
       "      <th>4</th>\n",
       "      <td>???</td>\n",
       "      <td>B.o.B</td>\n",
       "      <td>atl hip hop</td>\n",
       "    </tr>\n",
       "  </tbody>\n",
       "</table>\n",
       "</div>"
      ],
      "text/plain": [
       "                                           title      artist    top genre\n",
       "0                                            ???       3OH!3    dance pop\n",
       "1                                            ???       3OH!3          ???\n",
       "2                                I Need A Dollar  Aloe Blacc     pop soul\n",
       "3  Airplanes (feat. Hayley Williams of Paramore)         ???  atl hip hop\n",
       "4                                            ???       B.o.B  atl hip hop"
      ]
     },
     "execution_count": 28,
     "metadata": {},
     "output_type": "execute_result"
    }
   ],
   "source": [
    "# replace the missings by a symbolic ??? mark\n",
    "miss_df.fillna('???').head()"
   ]
  },
  {
   "cell_type": "markdown",
   "metadata": {
    "slideshow": {
     "slide_type": "slide"
    },
    "tags": []
   },
   "source": [
    "## Recap\n",
    "\n",
    "Congratulations, you made it all the way the \"Data Pre-Processing\" unit! We covered a LOT of different parts of data cleaning and your head must be spinning right now, but rest assured these topics will turn out to be useful in the future and you will be able to learn them on a deeper level. For now, let's just recap and appreciate the ride we just did. By the end of this notebook, you should have a clear idea of:\n",
    "  1. Why Data Cleaning is an unwanted, ever-present aspect of developing software;\n",
    "  2. How string methods can help you with text data (incl. Regex and search patterns);\n",
    "  3. Merging and concatenating data;\n",
    "  4. Missing Values."
   ]
  },
  {
   "cell_type": "markdown",
   "metadata": {},
   "source": []
  }
 ],
 "metadata": {
  "interpreter": {
   "hash": "62450144029c700d9828a520a84c849f57ec997bbb5cd86252d9dcd358a93bcf"
  },
  "kernelspec": {
   "display_name": "Python 3 (ipykernel)",
   "language": "python",
   "name": "python3"
  },
  "language_info": {
   "codemirror_mode": {
    "name": "ipython",
    "version": 3
   },
   "file_extension": ".py",
   "mimetype": "text/x-python",
   "name": "python",
   "nbconvert_exporter": "python",
   "pygments_lexer": "ipython3",
   "version": "3.10.9"
  }
 },
 "nbformat": 4,
 "nbformat_minor": 4
}
