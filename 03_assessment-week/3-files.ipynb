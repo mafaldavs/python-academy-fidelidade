{
 "cells": [
  {
   "cell_type": "markdown",
   "metadata": {
    "slideshow": {
     "slide_type": "slide"
    },
    "tags": []
   },
   "source": [
    "# Load Data from Files\n",
    "## Session 3 - Unit 2 [Self Guided]\n",
    "\n",
    "<img src=media/files.jpg width=200/>\n",
    "\n",
    "Welcome to the \"Load Data from Files\" unit of the Python Academy! In this unit, you will learn:\n",
    "  - File Formats (DSV, JSON, Excel)\n",
    "  - Pandas read methods\n",
    "  - Open a file in Python\n",
    "  - Slicing\n",
    "  - Alternative File Formats"
   ]
  },
  {
   "cell_type": "code",
   "execution_count": 1,
   "metadata": {
    "slideshow": {
     "slide_type": "skip"
    },
    "tags": []
   },
   "outputs": [],
   "source": [
    "import pandas as pd"
   ]
  },
  {
   "cell_type": "markdown",
   "metadata": {
    "slideshow": {
     "slide_type": "slide"
    },
    "tags": []
   },
   "source": [
    "## File Formats\n",
    "\n",
    "Learning how to handle the most common file formats is a fundamental skill for Python developers. Technically, a **file format** is a **standard way to encode information for storage** in a computer file. Such standardization means that we can (roughly) use the same way to handle files that are within the same format. Learn once, use forever. Cool, right?\n",
    "\n",
    "There are three fundamental types we need to look out for:\n",
    "  - Delimiter Separated Values (CSV, TSV, etc.)\n",
    "  - Excel\n",
    "  - JSON"
   ]
  },
  {
   "cell_type": "markdown",
   "metadata": {
    "slideshow": {
     "slide_type": "subslide"
    },
    "tags": []
   },
   "source": [
    "### Delimiter Separated Values\n",
    "\n",
    "A [DSV](https://en.wikipedia.org/wiki/Delimiter-separated_values) is a two-dimensional, **tabular-like** storage; each row represents a data entry and the values are separated into columns by specific delimiter characters. They are **widely supported**, which makes them great for exchanging data between multiple applications.\n",
    "\n",
    "The most common delimiters include:\n",
    "  - comma (`,`), *aka comma separated values or CSV*\n",
    "  - tab (`\\t`), *aka tab separated values or TSV*\n",
    "  - semicolon (`;`)\n",
    "  - pipe (`|`)"
   ]
  },
  {
   "cell_type": "markdown",
   "metadata": {
    "slideshow": {
     "slide_type": "subslide"
    },
    "tags": []
   },
   "source": [
    "Before we import them to Python, let's take a look at a CSV to understand better how data is stored. We will use the first 3 rows of [Spotify's Top 100 Songs of 2010-2019](https://www.kaggle.com/datasets/muhmores/spotify-top-100-songs-of-20152019) dataset.\n",
    "\n",
    "<img src=media/csv_example.png />\n",
    "\n",
    "We highlighted each column with a different color to make things clearer. Do you see how the **comma delimiter** works? For each row, we start at the far left and whenever we find a new delimiter (e.g. comma) or we reach the end of the line (cf. [newline](https://en.wikipedia.org/wiki/Newline)), we consider all text to be within the same column."
   ]
  },
  {
   "cell_type": "markdown",
   "metadata": {
    "slideshow": {
     "slide_type": "subslide"
    },
    "tags": []
   },
   "source": [
    "### Excel\n",
    "\n",
    "[Excel](https://www.microsoft.com/en-us/microsoft-365/excel) is a proprietary **spreadsheet** software developed by Microsoft, used for numerical computation, data visualization, data re-arranging and macro programming. The spreadsheets are organized in a **tabular form**, using a grid of cells arranged in rows and columns. By being flexible on its data capabilities, Excel files can be used to both **store and manipulate data** within the same Excel file.\n",
    "\n",
    "Despite being widely used, Excel faces an uphill climb on development efficiency when we incorporate higher levels of complexity within our data processing flow. Incorporating complex if-else conditional logic or applying the same operation multiple tipes (e.g. while, for loops) is possible but cumbersome. **This is when we should migrate data into Python**."
   ]
  },
  {
   "cell_type": "markdown",
   "metadata": {
    "slideshow": {
     "slide_type": "subslide"
    },
    "tags": []
   },
   "source": [
    "### JSON\n",
    "\n",
    "JSON is a **language-independent, human-readable** data format. It was derived from JavaScript but, being languange independent, many languages have built-in support to parse (i.e. read) and generate JSON data. It is a very common format for electronic communication between browsers, servers, databases; so expect to see it a lot!\n",
    "\n",
    "The data stored in JSONs is typically represented wth key-value pairs (similar to `dict`) and arrays (similar to `list`)."
   ]
  },
  {
   "cell_type": "code",
   "execution_count": 2,
   "metadata": {
    "slideshow": {
     "slide_type": "fragment"
    },
    "tags": []
   },
   "outputs": [],
   "source": [
    "# example of JSON file\n",
    "# {\n",
    "#     \"title\": {\n",
    "#         \"0\": \"STARSTRUKK (feat. Katy Perry)\",\n",
    "#         \"1\": \"My First Kiss (feat. Ke$ha)\"\n",
    "#     },\n",
    "#     \"artist\": {\n",
    "#         \"0\": \"3OH!3\",\n",
    "#         \"1\": \"3OH!3\"\n",
    "#     }\n",
    "# }"
   ]
  },
  {
   "cell_type": "markdown",
   "metadata": {
    "slideshow": {
     "slide_type": "slide"
    },
    "tags": []
   },
   "source": [
    "## Pandas `read_*` methods \n",
    "\n",
    "Remember when we said the `pandas` package has a lot of built-in functionality for data analysis and manipulation? Well, this is just one example of it.\n",
    "\n",
    "Pandas provides an [extensive API](https://pandas.pydata.org/pandas-docs/stable/reference/io.html#) to perform **input/output** operations with **data files**. It ranges from classical file formats (e.g. json, csv), to newer alternatives (e.g. parquet) and even databases (e.g. SQL, which we'll cover in a following Unit).\n",
    "\n",
    "The standard way to input data is with `pd.read_{format}`, where format is the abbreviated name of the file format. Conversely, to output data into a file you can use `DataFrame.to_{format}`. Let's see a couple of examples with a small sample of the Spotify's dataset."
   ]
  },
  {
   "cell_type": "code",
   "execution_count": 2,
   "metadata": {
    "slideshow": {
     "slide_type": "subslide"
    },
    "tags": []
   },
   "outputs": [
    {
     "data": {
      "text/html": [
       "<div>\n",
       "<style scoped>\n",
       "    .dataframe tbody tr th:only-of-type {\n",
       "        vertical-align: middle;\n",
       "    }\n",
       "\n",
       "    .dataframe tbody tr th {\n",
       "        vertical-align: top;\n",
       "    }\n",
       "\n",
       "    .dataframe thead th {\n",
       "        text-align: right;\n",
       "    }\n",
       "</style>\n",
       "<table border=\"1\" class=\"dataframe\">\n",
       "  <thead>\n",
       "    <tr style=\"text-align: right;\">\n",
       "      <th></th>\n",
       "      <th>title</th>\n",
       "      <th>artist</th>\n",
       "      <th>top genre</th>\n",
       "      <th>year released</th>\n",
       "      <th>added</th>\n",
       "      <th>bpm</th>\n",
       "      <th>nrgy</th>\n",
       "      <th>dnce</th>\n",
       "      <th>dB</th>\n",
       "      <th>live</th>\n",
       "      <th>val</th>\n",
       "      <th>dur</th>\n",
       "      <th>acous</th>\n",
       "      <th>spch</th>\n",
       "      <th>pop</th>\n",
       "      <th>top year</th>\n",
       "      <th>artist type</th>\n",
       "    </tr>\n",
       "  </thead>\n",
       "  <tbody>\n",
       "    <tr>\n",
       "      <th>0</th>\n",
       "      <td>STARSTRUKK (feat. Katy Perry)</td>\n",
       "      <td>3OH!3</td>\n",
       "      <td>dance pop</td>\n",
       "      <td>2009</td>\n",
       "      <td>2022‑02‑17</td>\n",
       "      <td>140</td>\n",
       "      <td>81</td>\n",
       "      <td>61</td>\n",
       "      <td>-6</td>\n",
       "      <td>23</td>\n",
       "      <td>23</td>\n",
       "      <td>203</td>\n",
       "      <td>0</td>\n",
       "      <td>6</td>\n",
       "      <td>70</td>\n",
       "      <td>2010</td>\n",
       "      <td>Duo</td>\n",
       "    </tr>\n",
       "    <tr>\n",
       "      <th>1</th>\n",
       "      <td>My First Kiss (feat. Ke$ha)</td>\n",
       "      <td>3OH!3</td>\n",
       "      <td>dance pop</td>\n",
       "      <td>2010</td>\n",
       "      <td>2022‑02‑17</td>\n",
       "      <td>138</td>\n",
       "      <td>89</td>\n",
       "      <td>68</td>\n",
       "      <td>-4</td>\n",
       "      <td>36</td>\n",
       "      <td>83</td>\n",
       "      <td>192</td>\n",
       "      <td>1</td>\n",
       "      <td>8</td>\n",
       "      <td>68</td>\n",
       "      <td>2010</td>\n",
       "      <td>Duo</td>\n",
       "    </tr>\n",
       "    <tr>\n",
       "      <th>2</th>\n",
       "      <td>I Need A Dollar</td>\n",
       "      <td>Aloe Blacc</td>\n",
       "      <td>pop soul</td>\n",
       "      <td>2010</td>\n",
       "      <td>2022‑02‑17</td>\n",
       "      <td>95</td>\n",
       "      <td>48</td>\n",
       "      <td>84</td>\n",
       "      <td>-7</td>\n",
       "      <td>9</td>\n",
       "      <td>96</td>\n",
       "      <td>243</td>\n",
       "      <td>20</td>\n",
       "      <td>3</td>\n",
       "      <td>72</td>\n",
       "      <td>2010</td>\n",
       "      <td>Solo</td>\n",
       "    </tr>\n",
       "    <tr>\n",
       "      <th>3</th>\n",
       "      <td>Airplanes (feat. Hayley Williams of Paramore)</td>\n",
       "      <td>B.o.B</td>\n",
       "      <td>atl hip hop</td>\n",
       "      <td>2010</td>\n",
       "      <td>2022‑02‑17</td>\n",
       "      <td>93</td>\n",
       "      <td>87</td>\n",
       "      <td>66</td>\n",
       "      <td>-4</td>\n",
       "      <td>4</td>\n",
       "      <td>38</td>\n",
       "      <td>180</td>\n",
       "      <td>11</td>\n",
       "      <td>12</td>\n",
       "      <td>80</td>\n",
       "      <td>2010</td>\n",
       "      <td>Solo</td>\n",
       "    </tr>\n",
       "    <tr>\n",
       "      <th>4</th>\n",
       "      <td>Nothin' on You (feat. Bruno Mars)</td>\n",
       "      <td>B.o.B</td>\n",
       "      <td>atl hip hop</td>\n",
       "      <td>2010</td>\n",
       "      <td>2022‑02‑17</td>\n",
       "      <td>104</td>\n",
       "      <td>85</td>\n",
       "      <td>69</td>\n",
       "      <td>-6</td>\n",
       "      <td>9</td>\n",
       "      <td>74</td>\n",
       "      <td>268</td>\n",
       "      <td>39</td>\n",
       "      <td>5</td>\n",
       "      <td>79</td>\n",
       "      <td>2010</td>\n",
       "      <td>Solo</td>\n",
       "    </tr>\n",
       "  </tbody>\n",
       "</table>\n",
       "</div>"
      ],
      "text/plain": [
       "                                           title      artist    top genre  \\\n",
       "0                  STARSTRUKK (feat. Katy Perry)       3OH!3    dance pop   \n",
       "1                    My First Kiss (feat. Ke$ha)       3OH!3    dance pop   \n",
       "2                                I Need A Dollar  Aloe Blacc     pop soul   \n",
       "3  Airplanes (feat. Hayley Williams of Paramore)       B.o.B  atl hip hop   \n",
       "4              Nothin' on You (feat. Bruno Mars)       B.o.B  atl hip hop   \n",
       "\n",
       "   year released       added  bpm  nrgy  dnce  dB  live  val  dur  acous  \\\n",
       "0           2009  2022‑02‑17  140    81    61  -6    23   23  203      0   \n",
       "1           2010  2022‑02‑17  138    89    68  -4    36   83  192      1   \n",
       "2           2010  2022‑02‑17   95    48    84  -7     9   96  243     20   \n",
       "3           2010  2022‑02‑17   93    87    66  -4     4   38  180     11   \n",
       "4           2010  2022‑02‑17  104    85    69  -6     9   74  268     39   \n",
       "\n",
       "   spch  pop  top year artist type  \n",
       "0     6   70      2010         Duo  \n",
       "1     8   68      2010         Duo  \n",
       "2     3   72      2010        Solo  \n",
       "3    12   80      2010        Solo  \n",
       "4     5   79      2010        Solo  "
      ]
     },
     "execution_count": 2,
     "metadata": {},
     "output_type": "execute_result"
    }
   ],
   "source": [
    "# comma separated values\n",
    "df1 = pd.read_csv('data/spotify_1.csv')\n",
    "df1.head()"
   ]
  },
  {
   "cell_type": "markdown",
   "metadata": {
    "slideshow": {
     "slide_type": "fragment"
    },
    "tags": []
   },
   "source": [
    "There are a **lot of ways we can configure** the `pd.read_csv` ([API Reference](https://pandas.pydata.org/pandas-docs/stable/reference/api/pandas.read_csv.html)), but for now let's focus on the simpler stuff. The file is loaded with commas as delimiters (extension `.csv`) and the header is inferred."
   ]
  },
  {
   "cell_type": "markdown",
   "metadata": {
    "slideshow": {
     "slide_type": "subslide"
    },
    "tags": []
   },
   "source": [
    "But what if my file is separated by another delimiter? Let's see how pandas loads a CSV which is poorly configured."
   ]
  },
  {
   "cell_type": "code",
   "execution_count": 3,
   "metadata": {
    "slideshow": {
     "slide_type": "fragment"
    },
    "tags": []
   },
   "outputs": [
    {
     "data": {
      "text/html": [
       "<div>\n",
       "<style scoped>\n",
       "    .dataframe tbody tr th:only-of-type {\n",
       "        vertical-align: middle;\n",
       "    }\n",
       "\n",
       "    .dataframe tbody tr th {\n",
       "        vertical-align: top;\n",
       "    }\n",
       "\n",
       "    .dataframe thead th {\n",
       "        text-align: right;\n",
       "    }\n",
       "</style>\n",
       "<table border=\"1\" class=\"dataframe\">\n",
       "  <thead>\n",
       "    <tr style=\"text-align: right;\">\n",
       "      <th></th>\n",
       "      <th>title;artist;top genre;year released;added;bpm;nrgy;dnce;dB;live;val;dur;acous;spch;pop;top year;artist type</th>\n",
       "    </tr>\n",
       "  </thead>\n",
       "  <tbody>\n",
       "    <tr>\n",
       "      <th>0</th>\n",
       "      <td>STARSTRUKK (feat. Katy Perry);3OH!3;dance pop;...</td>\n",
       "    </tr>\n",
       "    <tr>\n",
       "      <th>1</th>\n",
       "      <td>My First Kiss (feat. Ke$ha);3OH!3;dance pop;20...</td>\n",
       "    </tr>\n",
       "    <tr>\n",
       "      <th>2</th>\n",
       "      <td>I Need A Dollar;Aloe Blacc;pop soul;2010;2022‑...</td>\n",
       "    </tr>\n",
       "  </tbody>\n",
       "</table>\n",
       "</div>"
      ],
      "text/plain": [
       "  title;artist;top genre;year released;added;bpm;nrgy;dnce;dB;live;val;dur;acous;spch;pop;top year;artist type\n",
       "0  STARSTRUKK (feat. Katy Perry);3OH!3;dance pop;...                                                          \n",
       "1  My First Kiss (feat. Ke$ha);3OH!3;dance pop;20...                                                          \n",
       "2  I Need A Dollar;Aloe Blacc;pop soul;2010;2022‑...                                                          "
      ]
     },
     "execution_count": 3,
     "metadata": {},
     "output_type": "execute_result"
    }
   ],
   "source": [
    "# not really comma separated right?\n",
    "pd.read_csv('data/spotify_2.csv').head(3)"
   ]
  },
  {
   "cell_type": "markdown",
   "metadata": {
    "slideshow": {
     "slide_type": "fragment"
    },
    "tags": []
   },
   "source": [
    "What we see is that the **delimiters** are rather **semicolons** (`;`) than commas, and that is messing up the data loading. The engine doesn't find any comma, it doesn't create any new column and what we get is 5 rows of data all bundled together. Not cool. \n",
    "\n",
    "To fix this, we can provide a `sep` argument (or `delimiter`) that specifies by which **separator** should the data loading engine break columns by."
   ]
  },
  {
   "cell_type": "code",
   "execution_count": 4,
   "metadata": {
    "slideshow": {
     "slide_type": "subslide"
    },
    "tags": []
   },
   "outputs": [
    {
     "data": {
      "text/html": [
       "<div>\n",
       "<style scoped>\n",
       "    .dataframe tbody tr th:only-of-type {\n",
       "        vertical-align: middle;\n",
       "    }\n",
       "\n",
       "    .dataframe tbody tr th {\n",
       "        vertical-align: top;\n",
       "    }\n",
       "\n",
       "    .dataframe thead th {\n",
       "        text-align: right;\n",
       "    }\n",
       "</style>\n",
       "<table border=\"1\" class=\"dataframe\">\n",
       "  <thead>\n",
       "    <tr style=\"text-align: right;\">\n",
       "      <th></th>\n",
       "      <th>title</th>\n",
       "      <th>artist</th>\n",
       "      <th>top genre</th>\n",
       "      <th>year released</th>\n",
       "      <th>added</th>\n",
       "      <th>bpm</th>\n",
       "      <th>nrgy</th>\n",
       "      <th>dnce</th>\n",
       "      <th>dB</th>\n",
       "      <th>live</th>\n",
       "      <th>val</th>\n",
       "      <th>dur</th>\n",
       "      <th>acous</th>\n",
       "      <th>spch</th>\n",
       "      <th>pop</th>\n",
       "      <th>top year</th>\n",
       "      <th>artist type</th>\n",
       "    </tr>\n",
       "  </thead>\n",
       "  <tbody>\n",
       "    <tr>\n",
       "      <th>0</th>\n",
       "      <td>STARSTRUKK (feat. Katy Perry)</td>\n",
       "      <td>3OH!3</td>\n",
       "      <td>dance pop</td>\n",
       "      <td>2009</td>\n",
       "      <td>2022‑02‑17</td>\n",
       "      <td>140</td>\n",
       "      <td>81</td>\n",
       "      <td>61</td>\n",
       "      <td>-6</td>\n",
       "      <td>23</td>\n",
       "      <td>23</td>\n",
       "      <td>203</td>\n",
       "      <td>0</td>\n",
       "      <td>6</td>\n",
       "      <td>70</td>\n",
       "      <td>2010</td>\n",
       "      <td>Duo</td>\n",
       "    </tr>\n",
       "    <tr>\n",
       "      <th>1</th>\n",
       "      <td>My First Kiss (feat. Ke$ha)</td>\n",
       "      <td>3OH!3</td>\n",
       "      <td>dance pop</td>\n",
       "      <td>2010</td>\n",
       "      <td>2022‑02‑17</td>\n",
       "      <td>138</td>\n",
       "      <td>89</td>\n",
       "      <td>68</td>\n",
       "      <td>-4</td>\n",
       "      <td>36</td>\n",
       "      <td>83</td>\n",
       "      <td>192</td>\n",
       "      <td>1</td>\n",
       "      <td>8</td>\n",
       "      <td>68</td>\n",
       "      <td>2010</td>\n",
       "      <td>Duo</td>\n",
       "    </tr>\n",
       "    <tr>\n",
       "      <th>2</th>\n",
       "      <td>I Need A Dollar</td>\n",
       "      <td>Aloe Blacc</td>\n",
       "      <td>pop soul</td>\n",
       "      <td>2010</td>\n",
       "      <td>2022‑02‑17</td>\n",
       "      <td>95</td>\n",
       "      <td>48</td>\n",
       "      <td>84</td>\n",
       "      <td>-7</td>\n",
       "      <td>9</td>\n",
       "      <td>96</td>\n",
       "      <td>243</td>\n",
       "      <td>20</td>\n",
       "      <td>3</td>\n",
       "      <td>72</td>\n",
       "      <td>2010</td>\n",
       "      <td>Solo</td>\n",
       "    </tr>\n",
       "  </tbody>\n",
       "</table>\n",
       "</div>"
      ],
      "text/plain": [
       "                           title      artist  top genre  year released  \\\n",
       "0  STARSTRUKK (feat. Katy Perry)       3OH!3  dance pop           2009   \n",
       "1    My First Kiss (feat. Ke$ha)       3OH!3  dance pop           2010   \n",
       "2                I Need A Dollar  Aloe Blacc   pop soul           2010   \n",
       "\n",
       "        added  bpm  nrgy  dnce  dB  live  val  dur  acous  spch  pop  \\\n",
       "0  2022‑02‑17  140    81    61  -6    23   23  203      0     6   70   \n",
       "1  2022‑02‑17  138    89    68  -4    36   83  192      1     8   68   \n",
       "2  2022‑02‑17   95    48    84  -7     9   96  243     20     3   72   \n",
       "\n",
       "   top year artist type  \n",
       "0      2010         Duo  \n",
       "1      2010         Duo  \n",
       "2      2010        Solo  "
      ]
     },
     "execution_count": 4,
     "metadata": {},
     "output_type": "execute_result"
    }
   ],
   "source": [
    "# this is more like\n",
    "pd.read_csv('data/spotify_2.csv', sep=';').head(3)"
   ]
  },
  {
   "cell_type": "markdown",
   "metadata": {
    "slideshow": {
     "slide_type": "fragment"
    },
    "tags": []
   },
   "source": [
    "Despite the extension name, the CSV above is not really a comma-separated-values, but a semicolon-separated-values file. The naming of the `.csv` extension is not the most appropriate, but you will often find this scenarios in the wild; so better to get used to them.\n",
    "\n",
    "**As a good developer should, use your intuition but be skeptically about it.**"
   ]
  },
  {
   "cell_type": "markdown",
   "metadata": {},
   "source": [
    "---"
   ]
  },
  {
   "cell_type": "markdown",
   "metadata": {
    "slideshow": {
     "slide_type": "subslide"
    },
    "tags": []
   },
   "source": [
    "Alternatively, we can load the same data with pandas from [JSON](https://pandas.pydata.org/pandas-docs/stable/reference/api/pandas.read_json.html) and [Excel](https://pandas.pydata.org/pandas-docs/stable/reference/api/pandas.read_excel.html) files."
   ]
  },
  {
   "cell_type": "code",
   "execution_count": 5,
   "metadata": {
    "slideshow": {
     "slide_type": "subslide"
    },
    "tags": []
   },
   "outputs": [
    {
     "data": {
      "text/html": [
       "<div>\n",
       "<style scoped>\n",
       "    .dataframe tbody tr th:only-of-type {\n",
       "        vertical-align: middle;\n",
       "    }\n",
       "\n",
       "    .dataframe tbody tr th {\n",
       "        vertical-align: top;\n",
       "    }\n",
       "\n",
       "    .dataframe thead th {\n",
       "        text-align: right;\n",
       "    }\n",
       "</style>\n",
       "<table border=\"1\" class=\"dataframe\">\n",
       "  <thead>\n",
       "    <tr style=\"text-align: right;\">\n",
       "      <th></th>\n",
       "      <th>title</th>\n",
       "      <th>artist</th>\n",
       "      <th>top genre</th>\n",
       "      <th>year released</th>\n",
       "      <th>added</th>\n",
       "      <th>bpm</th>\n",
       "      <th>nrgy</th>\n",
       "      <th>dnce</th>\n",
       "      <th>dB</th>\n",
       "      <th>live</th>\n",
       "      <th>val</th>\n",
       "      <th>dur</th>\n",
       "      <th>acous</th>\n",
       "      <th>spch</th>\n",
       "      <th>pop</th>\n",
       "      <th>top year</th>\n",
       "      <th>artist type</th>\n",
       "    </tr>\n",
       "  </thead>\n",
       "  <tbody>\n",
       "    <tr>\n",
       "      <th>0</th>\n",
       "      <td>STARSTRUKK (feat. Katy Perry)</td>\n",
       "      <td>3OH!3</td>\n",
       "      <td>dance pop</td>\n",
       "      <td>2009</td>\n",
       "      <td>2022‑02‑17</td>\n",
       "      <td>140</td>\n",
       "      <td>81</td>\n",
       "      <td>61</td>\n",
       "      <td>-6</td>\n",
       "      <td>23</td>\n",
       "      <td>23</td>\n",
       "      <td>203</td>\n",
       "      <td>0</td>\n",
       "      <td>6</td>\n",
       "      <td>70</td>\n",
       "      <td>2010</td>\n",
       "      <td>Duo</td>\n",
       "    </tr>\n",
       "    <tr>\n",
       "      <th>1</th>\n",
       "      <td>My First Kiss (feat. Ke$ha)</td>\n",
       "      <td>3OH!3</td>\n",
       "      <td>dance pop</td>\n",
       "      <td>2010</td>\n",
       "      <td>2022‑02‑17</td>\n",
       "      <td>138</td>\n",
       "      <td>89</td>\n",
       "      <td>68</td>\n",
       "      <td>-4</td>\n",
       "      <td>36</td>\n",
       "      <td>83</td>\n",
       "      <td>192</td>\n",
       "      <td>1</td>\n",
       "      <td>8</td>\n",
       "      <td>68</td>\n",
       "      <td>2010</td>\n",
       "      <td>Duo</td>\n",
       "    </tr>\n",
       "    <tr>\n",
       "      <th>2</th>\n",
       "      <td>I Need A Dollar</td>\n",
       "      <td>Aloe Blacc</td>\n",
       "      <td>pop soul</td>\n",
       "      <td>2010</td>\n",
       "      <td>2022‑02‑17</td>\n",
       "      <td>95</td>\n",
       "      <td>48</td>\n",
       "      <td>84</td>\n",
       "      <td>-7</td>\n",
       "      <td>9</td>\n",
       "      <td>96</td>\n",
       "      <td>243</td>\n",
       "      <td>20</td>\n",
       "      <td>3</td>\n",
       "      <td>72</td>\n",
       "      <td>2010</td>\n",
       "      <td>Solo</td>\n",
       "    </tr>\n",
       "  </tbody>\n",
       "</table>\n",
       "</div>"
      ],
      "text/plain": [
       "                           title      artist  top genre  year released  \\\n",
       "0  STARSTRUKK (feat. Katy Perry)       3OH!3  dance pop           2009   \n",
       "1    My First Kiss (feat. Ke$ha)       3OH!3  dance pop           2010   \n",
       "2                I Need A Dollar  Aloe Blacc   pop soul           2010   \n",
       "\n",
       "        added  bpm  nrgy  dnce  dB  live  val  dur  acous  spch  pop  \\\n",
       "0  2022‑02‑17  140    81    61  -6    23   23  203      0     6   70   \n",
       "1  2022‑02‑17  138    89    68  -4    36   83  192      1     8   68   \n",
       "2  2022‑02‑17   95    48    84  -7     9   96  243     20     3   72   \n",
       "\n",
       "   top year artist type  \n",
       "0      2010         Duo  \n",
       "1      2010         Duo  \n",
       "2      2010        Solo  "
      ]
     },
     "execution_count": 5,
     "metadata": {},
     "output_type": "execute_result"
    }
   ],
   "source": [
    "# read with JSON\n",
    "pd.read_json('data/spotify_1.json').head(3)\n",
    "\n",
    "# read from Excel file\n",
    "pd.read_excel('data/spotify_1.xlsx').head(3)"
   ]
  },
  {
   "cell_type": "markdown",
   "metadata": {
    "slideshow": {
     "slide_type": "slide"
    },
    "tags": []
   },
   "source": [
    "## Open a file in Python \n",
    "\n",
    "Besides the alternatives provided by pandas, Python allows to **open any text file** with the `open()` function used for **reading and writing data**. This built-in function takes the filepath as argument and an optional access mode (besides other parameters). The **access mode** specifies the main purpose of opening the file.\n",
    "\n",
    "| Access Mode   | Purpose               |\n",
    "|---------------|-----------------------|\n",
    "| `r`           | read only (default)\n",
    "| `w`           | write only. if file already exists, deletes existing contents and adds new from start of the file\n",
    "| `x`           | exclusive creation. if file already exists, operation fails.\n",
    "| `a`           | append only. adds new content to end of file.\n",
    "| `b`           | binary mode\n",
    "| `+`           | updating (reading and writing)"
   ]
  },
  {
   "cell_type": "markdown",
   "metadata": {
    "slideshow": {
     "slide_type": "subslide"
    },
    "tags": []
   },
   "source": [
    "Let's see what happens when we try to read the data. Notice that the `open()` function **does not return the text contents of the file immediately** (tip: get `type(f)`). Instead, we need to use the `.readlines()` method in order to store each line as an element of a list. Alternatively, we could read the whole file contents with `.read()`.\n",
    "\n",
    "After we are done with the file, it is a **good practice** to **close the connection** to the file object with `.close()`. Check this [StackOverflow's answer](https://stackoverflow.com/a/25070939) on \"Why should I close files in Python?\" for more context."
   ]
  },
  {
   "cell_type": "code",
   "execution_count": 2,
   "metadata": {
    "slideshow": {
     "slide_type": "fragment"
    },
    "tags": []
   },
   "outputs": [],
   "source": [
    "# create a file object\n",
    "f = open('data/spotify_2.csv', 'r')\n",
    "\n",
    "# create a list of lines\n",
    "lines_list = f.readlines()\n",
    "\n",
    "# close the connection\n",
    "f.close()"
   ]
  },
  {
   "cell_type": "markdown",
   "metadata": {
    "slideshow": {
     "slide_type": "slide"
    },
    "tags": []
   },
   "source": [
    "### Slicing\n",
    "\n",
    "To check the results of opening our file, notice how we use a **different type of indexing** we haven't seen before: a **slice**. Instead of specifying a given element of the list (proper indexing), we provide a ***start*** and ***stop* indices** and it returns the contiguous elements between them. If nothing is provided, the **default** is to **start at 0** (first element) and to **stop at -1** (last element). So, whenever we write `lines_list[:3]`, we are saying: get me the elements of `lines_list` between the start (0, since it's not specified) and the stop at 3 (not included), so we are basically asking for the first 3 elements.\n",
    "\n",
    "Additionally, we can add an **optional third argument** to a slice which is called the **step**. The *step* sets the interval at which the elements are included in the slice."
   ]
  },
  {
   "cell_type": "code",
   "execution_count": 7,
   "metadata": {
    "slideshow": {
     "slide_type": "fragment"
    },
    "tags": []
   },
   "outputs": [
    {
     "data": {
      "text/plain": [
       "['title;artist;top genre;year released;added;bpm;nrgy;dnce;dB;live;val;dur;acous;spch;pop;top year;artist type\\n',\n",
       " 'STARSTRUKK (feat. Katy Perry);3OH!3;dance pop;2009;2022‑02‑17;140;81;61;-6;23;23;203;0;6;70;2010;Duo\\n',\n",
       " 'My First Kiss (feat. Ke$ha);3OH!3;dance pop;2010;2022‑02‑17;138;89;68;-4;36;83;192;1;8;68;2010;Duo\\n']"
      ]
     },
     "execution_count": 7,
     "metadata": {},
     "output_type": "execute_result"
    }
   ],
   "source": [
    "# slicing - get first 3 lines\n",
    "lines_list[:3]"
   ]
  },
  {
   "cell_type": "code",
   "execution_count": 3,
   "metadata": {},
   "outputs": [
    {
     "data": {
      "text/plain": [
       "['STARSTRUKK (feat. Katy Perry);3OH!3;dance pop;2009;2022â€‘02â€‘17;140;81;61;-6;23;23;203;0;6;70;2010;Duo\\n']"
      ]
     },
     "execution_count": 3,
     "metadata": {},
     "output_type": "execute_result"
    }
   ],
   "source": [
    "lines_list[1:2:2]"
   ]
  },
  {
   "cell_type": "code",
   "execution_count": 8,
   "metadata": {
    "slideshow": {
     "slide_type": "subslide"
    },
    "tags": []
   },
   "outputs": [
    {
     "data": {
      "text/plain": [
       "['STARSTRUKK (feat. Katy Perry);3OH!3;dance pop;2009;2022‑02‑17;140;81;61;-6;23;23;203;0;6;70;2010;Duo\\n',\n",
       " 'I Need A Dollar;Aloe Blacc;pop soul;2010;2022‑02‑17;95;48;84;-7;9;96;243;20;3;72;2010;Solo\\n',\n",
       " \"Nothin' on You (feat. Bruno Mars);B.o.B;atl hip hop;2010;2022‑02‑17;104;85;69;-6;9;74;268;39;5;79;2010;Solo\\n\",\n",
       " 'The Time (Dirty Bit);Black Eyed Peas;dance pop;2010;2022‑02‑17;128;81;82;-8;60;44;308;7;7;75;2010;Band/Group\\n',\n",
       " 'Talking to the Moon;Bruno Mars;dance pop;2010;2022‑02‑17;146;59;50;-5;11;8;218;51;3;87;2010;Solo\\n']"
      ]
     },
     "execution_count": 8,
     "metadata": {},
     "output_type": "execute_result"
    }
   ],
   "source": [
    "# slicing - get all the lines, except the first, with steps of 2 (e.g. lines 1, 3, 5, 7, 9 if 0-indexed)\n",
    "lines_list[1::2]"
   ]
  },
  {
   "cell_type": "markdown",
   "metadata": {
    "slideshow": {
     "slide_type": "subslide"
    },
    "tags": []
   },
   "source": [
    "### `with` statement\n",
    "\n",
    "The `with` statement simplifies the way to open and handle files in Python. Using `with`, Python:\n",
    "  1. **automatically closes** the file you are working with;\n",
    "  2. creates a **context manager** that helps exception handling.\n",
    "\n",
    "Instead of specifying a variable to hold the file we want to open, we name the `file_object` we want to use and indent the code relevant in the same code block.\n",
    "\n",
    "\n",
    "```python\n",
    "with open('my_file.txt') as file_object:\n",
    "    <my code here>\n",
    "```"
   ]
  },
  {
   "cell_type": "code",
   "execution_count": 9,
   "metadata": {
    "slideshow": {
     "slide_type": "fragment"
    },
    "tags": []
   },
   "outputs": [],
   "source": [
    "# write a single phrase to a file\n",
    "with open('data/my_file.txt', 'w') as file:\n",
    "    file.write(\"My first file!\")"
   ]
  },
  {
   "cell_type": "markdown",
   "metadata": {
    "slideshow": {
     "slide_type": "slide"
    },
    "tags": []
   },
   "source": [
    "## Other File Formats\n",
    "\n",
    "Beyond the traditional file types we've already covered, you should also be aware of some alternatives that may be better suited to your needs depending on the type of application you are developing. \n",
    "\n",
    "\n",
    "| Format     | Properties                                                                  | Appropriate For                      | Extension     |\n",
    "|------------|-----------------------------------------------------------------------------|--------------------------------------|---------------|\n",
    "| parquet    | columnar file format, stores metadata, optimized to speed up column queries | big data. hadoop ecosystem.          | `.parquet`      |\n",
    "| pickle     | serialize objects and save them to a file                                   | any python object                    | `.pickle`, `.pkl` |\n",
    "| plain text | unformatted text                                                            | unstructured data; small data files  | `.txt`          |\n",
    "| feather    | fast, lightweight, language-agnostic.                                       | dataframes                           | `.feather`      |"
   ]
  },
  {
   "cell_type": "markdown",
   "metadata": {
    "slideshow": {
     "slide_type": "slide"
    },
    "tags": []
   },
   "source": [
    "## Recap\n",
    "\n",
    "Congratulations, you made it all the way \"Load Data from Files\" unit! By now, you should already be able to get some data into Python, transform it and save it afterwards. By the end of this notebook, you should have a clear idea of:\n",
    "  1. File Formats\n",
    "  2. How to leverage pandas to read/write data\n",
    "  3. Using the pythonic way to read & write data\n",
    "  4. Alternative file formats"
   ]
  }
 ],
 "metadata": {
  "interpreter": {
   "hash": "62450144029c700d9828a520a84c849f57ec997bbb5cd86252d9dcd358a93bcf"
  },
  "kernelspec": {
   "display_name": "Python 3 (ipykernel)",
   "language": "python",
   "name": "python3"
  },
  "language_info": {
   "codemirror_mode": {
    "name": "ipython",
    "version": 3
   },
   "file_extension": ".py",
   "mimetype": "text/x-python",
   "name": "python",
   "nbconvert_exporter": "python",
   "pygments_lexer": "ipython3",
   "version": "3.10.9"
  }
 },
 "nbformat": 4,
 "nbformat_minor": 4
}
