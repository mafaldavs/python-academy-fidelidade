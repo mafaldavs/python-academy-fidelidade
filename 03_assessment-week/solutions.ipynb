{
 "cells": [
  {
   "cell_type": "markdown",
   "id": "6dc536ad-6d73-4049-a245-a8736190ac02",
   "metadata": {},
   "source": [
    "# Session 3 - Exercises"
   ]
  },
  {
   "cell_type": "code",
   "execution_count": 15,
   "id": "e9fe2129",
   "metadata": {},
   "outputs": [],
   "source": [
    "import pandas as pd"
   ]
  },
  {
   "cell_type": "markdown",
   "id": "a314e4be-6fef-436b-a37e-711e4b8a81c0",
   "metadata": {},
   "source": [
    "## Unit 1 - Files"
   ]
  },
  {
   "cell_type": "markdown",
   "id": "fef98309-b711-423c-b526-1c47033112cd",
   "metadata": {},
   "source": [
    "## Exercise 1 - `open` all things\n",
    "\n",
    "1. Get the type of file `f`. Is this something we case use to get the contents directly?\n",
    "1. Call `f.read()` once. What do you get as a result?\n",
    "1. Call `f.read()` again. What do you get as a result? Were you expecting this?!\n",
    "1. Try reading with `f.readlines()` instead. What differs from the result in step \\#2? "
   ]
  },
  {
   "cell_type": "code",
   "execution_count": 1,
   "id": "7e1a875c-888b-41bd-a084-81021f97deef",
   "metadata": {},
   "outputs": [],
   "source": [
    "# uncomment this\n",
    "f = open('data/spotify_2.csv', 'r')"
   ]
  },
  {
   "cell_type": "code",
   "execution_count": 2,
   "id": "8e938dc7-9fc5-48b3-9d56-f9c52b9bcdfe",
   "metadata": {},
   "outputs": [
    {
     "data": {
      "text/plain": [
       "_io.TextIOWrapper"
      ]
     },
     "execution_count": 2,
     "metadata": {},
     "output_type": "execute_result"
    }
   ],
   "source": [
    "### BEGIN SOLUTION\n",
    "# 1. type of f\n",
    "type(f)"
   ]
  },
  {
   "cell_type": "code",
   "execution_count": 3,
   "id": "129ad185",
   "metadata": {},
   "outputs": [
    {
     "data": {
      "text/plain": [
       "\"title;artist;top genre;year released;added;bpm;nrgy;dnce;dB;live;val;dur;acous;spch;pop;top year;artist type\\nSTARSTRUKK (feat. Katy Perry);3OH!3;dance pop;2009;2022‑02‑17;140;81;61;-6;23;23;203;0;6;70;2010;Duo\\nMy First Kiss (feat. Ke$ha);3OH!3;dance pop;2010;2022‑02‑17;138;89;68;-4;36;83;192;1;8;68;2010;Duo\\nI Need A Dollar;Aloe Blacc;pop soul;2010;2022‑02‑17;95;48;84;-7;9;96;243;20;3;72;2010;Solo\\nAirplanes (feat. Hayley Williams of Paramore);B.o.B;atl hip hop;2010;2022‑02‑17;93;87;66;-4;4;38;180;11;12;80;2010;Solo\\nNothin' on You (feat. Bruno Mars);B.o.B;atl hip hop;2010;2022‑02‑17;104;85;69;-6;9;74;268;39;5;79;2010;Solo\\nMagic (feat. Rivers Cuomo);B.o.B;atl hip hop;2010;2022‑02‑17;82;93;55;-4;35;79;196;1;34;71;2010;Solo\\nThe Time (Dirty Bit);Black Eyed Peas;dance pop;2010;2022‑02‑17;128;81;82;-8;60;44;308;7;7;75;2010;Band/Group\\nImma Be;Black Eyed Peas;dance pop;2009;2022‑02‑17;92;52;60;-7;31;41;258;18;37;71;2010;Band/Group\\nTalking to the Moon;Bruno Mars;dance pop;2010;2022‑02‑17;146;59;50;-5;11;8;218;51;3;87;2010;Solo\\nJust the Way You Are;Bruno Mars;dance pop;2010;2022‑02‑17;109;84;64;-5;6;42;221;1;4;86;2010;Solo\\n\""
      ]
     },
     "execution_count": 3,
     "metadata": {},
     "output_type": "execute_result"
    }
   ],
   "source": [
    "# 2. call f.read() once\n",
    "f.read()"
   ]
  },
  {
   "cell_type": "code",
   "execution_count": 4,
   "id": "01b015d8",
   "metadata": {},
   "outputs": [
    {
     "data": {
      "text/plain": [
       "''"
      ]
     },
     "execution_count": 4,
     "metadata": {},
     "output_type": "execute_result"
    }
   ],
   "source": [
    "# 3. call f.read() again\n",
    "f.read()"
   ]
  },
  {
   "cell_type": "code",
   "execution_count": 5,
   "id": "c6574134",
   "metadata": {},
   "outputs": [
    {
     "data": {
      "text/plain": [
       "['title;artist;top genre;year released;added;bpm;nrgy;dnce;dB;live;val;dur;acous;spch;pop;top year;artist type\\n',\n",
       " 'STARSTRUKK (feat. Katy Perry);3OH!3;dance pop;2009;2022‑02‑17;140;81;61;-6;23;23;203;0;6;70;2010;Duo\\n',\n",
       " 'My First Kiss (feat. Ke$ha);3OH!3;dance pop;2010;2022‑02‑17;138;89;68;-4;36;83;192;1;8;68;2010;Duo\\n',\n",
       " 'I Need A Dollar;Aloe Blacc;pop soul;2010;2022‑02‑17;95;48;84;-7;9;96;243;20;3;72;2010;Solo\\n',\n",
       " 'Airplanes (feat. Hayley Williams of Paramore);B.o.B;atl hip hop;2010;2022‑02‑17;93;87;66;-4;4;38;180;11;12;80;2010;Solo\\n',\n",
       " \"Nothin' on You (feat. Bruno Mars);B.o.B;atl hip hop;2010;2022‑02‑17;104;85;69;-6;9;74;268;39;5;79;2010;Solo\\n\",\n",
       " 'Magic (feat. Rivers Cuomo);B.o.B;atl hip hop;2010;2022‑02‑17;82;93;55;-4;35;79;196;1;34;71;2010;Solo\\n',\n",
       " 'The Time (Dirty Bit);Black Eyed Peas;dance pop;2010;2022‑02‑17;128;81;82;-8;60;44;308;7;7;75;2010;Band/Group\\n',\n",
       " 'Imma Be;Black Eyed Peas;dance pop;2009;2022‑02‑17;92;52;60;-7;31;41;258;18;37;71;2010;Band/Group\\n',\n",
       " 'Talking to the Moon;Bruno Mars;dance pop;2010;2022‑02‑17;146;59;50;-5;11;8;218;51;3;87;2010;Solo\\n',\n",
       " 'Just the Way You Are;Bruno Mars;dance pop;2010;2022‑02‑17;109;84;64;-5;6;42;221;1;4;86;2010;Solo\\n']"
      ]
     },
     "execution_count": 5,
     "metadata": {},
     "output_type": "execute_result"
    }
   ],
   "source": [
    "# 4. read with .readlines()\n",
    "f = open('data/spotify_2.csv', 'r')\n",
    "f.readlines()"
   ]
  },
  {
   "cell_type": "markdown",
   "id": "cd423e7d-63ca-4c32-accc-89614c7aa3f7",
   "metadata": {},
   "source": [
    "### Exercise 2 - Master Slicer\n",
    "\n",
    "1. What is the difference between indexing and slicing?\n",
    "1. From the `lines_list`, get:\n",
    "    1. The column names (i.e. header)\n",
    "    1. The first 3 rows (without the header)\n",
    "    1. The rows with pair index (without the header)\n",
    "    1. The last 4 rows"
   ]
  },
  {
   "cell_type": "code",
   "execution_count": 6,
   "id": "137ce198-41da-46b0-886c-d2cc1be050e5",
   "metadata": {},
   "outputs": [],
   "source": [
    "lines_list = open('data/spotify_2.csv', 'r').readlines()"
   ]
  },
  {
   "cell_type": "code",
   "execution_count": 7,
   "id": "84422cb5-2fb4-40f0-a279-b5bcb5e8771a",
   "metadata": {},
   "outputs": [],
   "source": [
    "### BEGIN SOLUTION\n",
    "# 1.\n",
    "# Indexing gets you the value by an exact match; sclicing returns a range of results"
   ]
  },
  {
   "cell_type": "code",
   "execution_count": 8,
   "id": "d4440c08",
   "metadata": {},
   "outputs": [
    {
     "data": {
      "text/plain": [
       "'title;artist;top genre;year released;added;bpm;nrgy;dnce;dB;live;val;dur;acous;spch;pop;top year;artist type\\n'"
      ]
     },
     "execution_count": 8,
     "metadata": {},
     "output_type": "execute_result"
    }
   ],
   "source": [
    "# 2.1 column names\n",
    "lines_list[0]"
   ]
  },
  {
   "cell_type": "code",
   "execution_count": 9,
   "id": "1b0fee8f",
   "metadata": {},
   "outputs": [
    {
     "data": {
      "text/plain": [
       "['STARSTRUKK (feat. Katy Perry);3OH!3;dance pop;2009;2022‑02‑17;140;81;61;-6;23;23;203;0;6;70;2010;Duo\\n',\n",
       " 'My First Kiss (feat. Ke$ha);3OH!3;dance pop;2010;2022‑02‑17;138;89;68;-4;36;83;192;1;8;68;2010;Duo\\n',\n",
       " 'I Need A Dollar;Aloe Blacc;pop soul;2010;2022‑02‑17;95;48;84;-7;9;96;243;20;3;72;2010;Solo\\n']"
      ]
     },
     "execution_count": 9,
     "metadata": {},
     "output_type": "execute_result"
    }
   ],
   "source": [
    "# 2.2 first 3 rows (withou the header)\n",
    "lines_list[1:4]"
   ]
  },
  {
   "cell_type": "code",
   "execution_count": 10,
   "id": "5b85643e",
   "metadata": {},
   "outputs": [
    {
     "data": {
      "text/plain": [
       "['STARSTRUKK (feat. Katy Perry);3OH!3;dance pop;2009;2022‑02‑17;140;81;61;-6;23;23;203;0;6;70;2010;Duo\\n',\n",
       " 'I Need A Dollar;Aloe Blacc;pop soul;2010;2022‑02‑17;95;48;84;-7;9;96;243;20;3;72;2010;Solo\\n',\n",
       " \"Nothin' on You (feat. Bruno Mars);B.o.B;atl hip hop;2010;2022‑02‑17;104;85;69;-6;9;74;268;39;5;79;2010;Solo\\n\",\n",
       " 'The Time (Dirty Bit);Black Eyed Peas;dance pop;2010;2022‑02‑17;128;81;82;-8;60;44;308;7;7;75;2010;Band/Group\\n',\n",
       " 'Talking to the Moon;Bruno Mars;dance pop;2010;2022‑02‑17;146;59;50;-5;11;8;218;51;3;87;2010;Solo\\n']"
      ]
     },
     "execution_count": 10,
     "metadata": {},
     "output_type": "execute_result"
    }
   ],
   "source": [
    "# 2.3 rows with pair index\n",
    "lines_list[1::2]"
   ]
  },
  {
   "cell_type": "code",
   "execution_count": 11,
   "id": "897ed1e5",
   "metadata": {},
   "outputs": [
    {
     "data": {
      "text/plain": [
       "['The Time (Dirty Bit);Black Eyed Peas;dance pop;2010;2022‑02‑17;128;81;82;-8;60;44;308;7;7;75;2010;Band/Group\\n',\n",
       " 'Imma Be;Black Eyed Peas;dance pop;2009;2022‑02‑17;92;52;60;-7;31;41;258;18;37;71;2010;Band/Group\\n',\n",
       " 'Talking to the Moon;Bruno Mars;dance pop;2010;2022‑02‑17;146;59;50;-5;11;8;218;51;3;87;2010;Solo\\n',\n",
       " 'Just the Way You Are;Bruno Mars;dance pop;2010;2022‑02‑17;109;84;64;-5;6;42;221;1;4;86;2010;Solo\\n']"
      ]
     },
     "execution_count": 11,
     "metadata": {},
     "output_type": "execute_result"
    }
   ],
   "source": [
    "# 2.4 last 4 rows\n",
    "lines_list[-4:]"
   ]
  },
  {
   "cell_type": "markdown",
   "id": "f3487b25-e4a2-435b-9bbd-0f65a96994a9",
   "metadata": {},
   "source": [
    "### Exercise 3 - `open_file` function\n",
    "\n",
    "As we've seen, the way we open files in python built-in functions is pretty much standardized: we open the file, read its contents into a list of lines, and close the file afterwards. In the \"Functions\" unit, we saw that each code that is reusable for the future should be encapsulated in the future. So, try to:\n",
    "  1. Define the `open_file` function\n",
    "  2. The function should receive a file path as an argument and return a list of strings as content\n",
    "  3. Make sure you *automatically* close the file after usage\n",
    "  4. Bonus. Add the encoding and access mode (used in `open()`) as optional parameters of `open_file`"
   ]
  },
  {
   "cell_type": "code",
   "execution_count": 12,
   "id": "9da7f323",
   "metadata": {},
   "outputs": [],
   "source": [
    "def open_file(file_path: str, encoding: str = None, access_mode: str = 'r') -> list[str]:\n",
    "    with open(file_path, mode=access_mode, encoding=encoding) as f:\n",
    "        lines = f.readlines()\n",
    "    return lines"
   ]
  },
  {
   "cell_type": "code",
   "execution_count": 13,
   "id": "d9e37eff",
   "metadata": {},
   "outputs": [
    {
     "data": {
      "text/plain": [
       "['title;artist;top genre;year released;added;bpm;nrgy;dnce;dB;live;val;dur;acous;spch;pop;top year;artist type\\n',\n",
       " 'STARSTRUKK (feat. Katy Perry);3OH!3;dance pop;2009;2022‑02‑17;140;81;61;-6;23;23;203;0;6;70;2010;Duo\\n',\n",
       " 'My First Kiss (feat. Ke$ha);3OH!3;dance pop;2010;2022‑02‑17;138;89;68;-4;36;83;192;1;8;68;2010;Duo\\n',\n",
       " 'I Need A Dollar;Aloe Blacc;pop soul;2010;2022‑02‑17;95;48;84;-7;9;96;243;20;3;72;2010;Solo\\n',\n",
       " 'Airplanes (feat. Hayley Williams of Paramore);B.o.B;atl hip hop;2010;2022‑02‑17;93;87;66;-4;4;38;180;11;12;80;2010;Solo\\n',\n",
       " \"Nothin' on You (feat. Bruno Mars);B.o.B;atl hip hop;2010;2022‑02‑17;104;85;69;-6;9;74;268;39;5;79;2010;Solo\\n\",\n",
       " 'Magic (feat. Rivers Cuomo);B.o.B;atl hip hop;2010;2022‑02‑17;82;93;55;-4;35;79;196;1;34;71;2010;Solo\\n',\n",
       " 'The Time (Dirty Bit);Black Eyed Peas;dance pop;2010;2022‑02‑17;128;81;82;-8;60;44;308;7;7;75;2010;Band/Group\\n',\n",
       " 'Imma Be;Black Eyed Peas;dance pop;2009;2022‑02‑17;92;52;60;-7;31;41;258;18;37;71;2010;Band/Group\\n',\n",
       " 'Talking to the Moon;Bruno Mars;dance pop;2010;2022‑02‑17;146;59;50;-5;11;8;218;51;3;87;2010;Solo\\n',\n",
       " 'Just the Way You Are;Bruno Mars;dance pop;2010;2022‑02‑17;109;84;64;-5;6;42;221;1;4;86;2010;Solo\\n']"
      ]
     },
     "execution_count": 13,
     "metadata": {},
     "output_type": "execute_result"
    }
   ],
   "source": [
    "open_file('data/spotify_2.csv', access_mode='r')"
   ]
  },
  {
   "cell_type": "markdown",
   "id": "437b194d-ff1d-4fcd-a2b4-7f8b7c430f2b",
   "metadata": {},
   "source": [
    "## Session 2 - Databases\n",
    "\n",
    "*Make sure you run the Learning Notebook first to guarantee the SportsDb database is created.*\n",
    "\n",
    "Using `pandas` and `sqlite3`, perform the following Data Analysis in our dataset:\n",
    "- What is the strongest player? What about the fastest?\n",
    "- Get the retired players born outside the USA\n",
    "- What is the average speed and strength?\n",
    "- What is the max speed and strength per RETIRED status?\n",
    "- Add the `new_players` DataFrame (code below) to our Database. Do not override the data we already have. Check insert operation was correct."
   ]
  },
  {
   "cell_type": "code",
   "execution_count": 16,
   "id": "ef5c9015-756b-4d71-9122-a9d8df86e701",
   "metadata": {},
   "outputs": [],
   "source": [
    "# new players dataframe\n",
    "new_players = pd.DataFrame.from_dict({'NAME': ['Tony Parker'], 'DOB': ['17-05-1982'], 'NATIONALITY': ['FRA'], 'POSITION': ['PG'], 'SPEED': [99], 'STRENGTH': [50], 'RETIRED': [1]})"
   ]
  },
  {
   "cell_type": "code",
   "execution_count": 17,
   "id": "f684ce6f",
   "metadata": {},
   "outputs": [],
   "source": [
    "import sqlite3"
   ]
  },
  {
   "cell_type": "code",
   "execution_count": 18,
   "id": "53a7fd00-5149-4812-a8a4-7758565fa4da",
   "metadata": {},
   "outputs": [],
   "source": [
    "### BEGIN SOLUTION\n",
    "\n",
    "# Establish the connection\n",
    "con = sqlite3.connect('data/SportsDB/SportsDB.db')"
   ]
  },
  {
   "cell_type": "code",
   "execution_count": 25,
   "id": "e88bac3b",
   "metadata": {},
   "outputs": [
    {
     "data": {
      "text/html": [
       "<div>\n",
       "<style scoped>\n",
       "    .dataframe tbody tr th:only-of-type {\n",
       "        vertical-align: middle;\n",
       "    }\n",
       "\n",
       "    .dataframe tbody tr th {\n",
       "        vertical-align: top;\n",
       "    }\n",
       "\n",
       "    .dataframe thead th {\n",
       "        text-align: right;\n",
       "    }\n",
       "</style>\n",
       "<table border=\"1\" class=\"dataframe\">\n",
       "  <thead>\n",
       "    <tr style=\"text-align: right;\">\n",
       "      <th></th>\n",
       "      <th>ID</th>\n",
       "      <th>NAME</th>\n",
       "      <th>DOB</th>\n",
       "      <th>NATIONALITY</th>\n",
       "      <th>POSITION</th>\n",
       "      <th>SPEED</th>\n",
       "      <th>STRENGTH</th>\n",
       "      <th>RETIRED</th>\n",
       "    </tr>\n",
       "  </thead>\n",
       "  <tbody>\n",
       "    <tr>\n",
       "      <th>0</th>\n",
       "      <td>5</td>\n",
       "      <td>Manu Ginobili</td>\n",
       "      <td>28-07-1977</td>\n",
       "      <td>ARG</td>\n",
       "      <td>SG/SF</td>\n",
       "      <td>92</td>\n",
       "      <td>80</td>\n",
       "      <td>1</td>\n",
       "    </tr>\n",
       "  </tbody>\n",
       "</table>\n",
       "</div>"
      ],
      "text/plain": [
       "   ID           NAME         DOB NATIONALITY POSITION  SPEED  STRENGTH  \\\n",
       "0   5  Manu Ginobili  28-07-1977         ARG    SG/SF     92        80   \n",
       "\n",
       "   RETIRED  \n",
       "0        1  "
      ]
     },
     "execution_count": 25,
     "metadata": {},
     "output_type": "execute_result"
    }
   ],
   "source": [
    "# 1. Strongest Player\n",
    "pd.read_sql(\"SELECT * FROM players ORDER BY STRENGTH DESC LIMIT 1\", con=con)"
   ]
  },
  {
   "cell_type": "code",
   "execution_count": 26,
   "id": "a3cd3f6f",
   "metadata": {},
   "outputs": [
    {
     "data": {
      "text/html": [
       "<div>\n",
       "<style scoped>\n",
       "    .dataframe tbody tr th:only-of-type {\n",
       "        vertical-align: middle;\n",
       "    }\n",
       "\n",
       "    .dataframe tbody tr th {\n",
       "        vertical-align: top;\n",
       "    }\n",
       "\n",
       "    .dataframe thead th {\n",
       "        text-align: right;\n",
       "    }\n",
       "</style>\n",
       "<table border=\"1\" class=\"dataframe\">\n",
       "  <thead>\n",
       "    <tr style=\"text-align: right;\">\n",
       "      <th></th>\n",
       "      <th>ID</th>\n",
       "      <th>NAME</th>\n",
       "      <th>DOB</th>\n",
       "      <th>NATIONALITY</th>\n",
       "      <th>POSITION</th>\n",
       "      <th>SPEED</th>\n",
       "      <th>STRENGTH</th>\n",
       "      <th>RETIRED</th>\n",
       "    </tr>\n",
       "  </thead>\n",
       "  <tbody>\n",
       "    <tr>\n",
       "      <th>0</th>\n",
       "      <td>5</td>\n",
       "      <td>Manu Ginobili</td>\n",
       "      <td>28-07-1977</td>\n",
       "      <td>ARG</td>\n",
       "      <td>SG/SF</td>\n",
       "      <td>92</td>\n",
       "      <td>80</td>\n",
       "      <td>1</td>\n",
       "    </tr>\n",
       "  </tbody>\n",
       "</table>\n",
       "</div>"
      ],
      "text/plain": [
       "   ID           NAME         DOB NATIONALITY POSITION  SPEED  STRENGTH  \\\n",
       "0   5  Manu Ginobili  28-07-1977         ARG    SG/SF     92        80   \n",
       "\n",
       "   RETIRED  \n",
       "0        1  "
      ]
     },
     "execution_count": 26,
     "metadata": {},
     "output_type": "execute_result"
    }
   ],
   "source": [
    "# 1. Fastest Player\n",
    "pd.read_sql(\"SELECT * FROM players ORDER BY SPEED DESC LIMIT 1\", con=con)\n"
   ]
  },
  {
   "cell_type": "code",
   "execution_count": 28,
   "id": "312aa1ac",
   "metadata": {},
   "outputs": [
    {
     "data": {
      "text/html": [
       "<div>\n",
       "<style scoped>\n",
       "    .dataframe tbody tr th:only-of-type {\n",
       "        vertical-align: middle;\n",
       "    }\n",
       "\n",
       "    .dataframe tbody tr th {\n",
       "        vertical-align: top;\n",
       "    }\n",
       "\n",
       "    .dataframe thead th {\n",
       "        text-align: right;\n",
       "    }\n",
       "</style>\n",
       "<table border=\"1\" class=\"dataframe\">\n",
       "  <thead>\n",
       "    <tr style=\"text-align: right;\">\n",
       "      <th></th>\n",
       "      <th>ID</th>\n",
       "      <th>NAME</th>\n",
       "      <th>DOB</th>\n",
       "      <th>NATIONALITY</th>\n",
       "      <th>POSITION</th>\n",
       "      <th>SPEED</th>\n",
       "      <th>STRENGTH</th>\n",
       "      <th>RETIRED</th>\n",
       "    </tr>\n",
       "  </thead>\n",
       "  <tbody>\n",
       "    <tr>\n",
       "      <th>0</th>\n",
       "      <td>4</td>\n",
       "      <td>Dirk Nowitzki</td>\n",
       "      <td>19-06-1978</td>\n",
       "      <td>DEU</td>\n",
       "      <td>PF/C</td>\n",
       "      <td>65</td>\n",
       "      <td>82</td>\n",
       "      <td>1</td>\n",
       "    </tr>\n",
       "    <tr>\n",
       "      <th>1</th>\n",
       "      <td>5</td>\n",
       "      <td>Manu Ginobili</td>\n",
       "      <td>28-07-1977</td>\n",
       "      <td>ARG</td>\n",
       "      <td>SG/SF</td>\n",
       "      <td>92</td>\n",
       "      <td>80</td>\n",
       "      <td>1</td>\n",
       "    </tr>\n",
       "  </tbody>\n",
       "</table>\n",
       "</div>"
      ],
      "text/plain": [
       "   ID           NAME         DOB NATIONALITY POSITION  SPEED  STRENGTH  \\\n",
       "0   4  Dirk Nowitzki  19-06-1978         DEU     PF/C     65        82   \n",
       "1   5  Manu Ginobili  28-07-1977         ARG    SG/SF     92        80   \n",
       "\n",
       "   RETIRED  \n",
       "0        1  \n",
       "1        1  "
      ]
     },
     "execution_count": 28,
     "metadata": {},
     "output_type": "execute_result"
    }
   ],
   "source": [
    "# 2. retired players outside USA\n",
    "pd.read_sql(\"SELECT * FROM players WHERE RETIRED = 1 and NATIONALITY != 'USA'\", con=con)\n"
   ]
  },
  {
   "cell_type": "code",
   "execution_count": 29,
   "id": "ad8036b4",
   "metadata": {},
   "outputs": [
    {
     "data": {
      "text/html": [
       "<div>\n",
       "<style scoped>\n",
       "    .dataframe tbody tr th:only-of-type {\n",
       "        vertical-align: middle;\n",
       "    }\n",
       "\n",
       "    .dataframe tbody tr th {\n",
       "        vertical-align: top;\n",
       "    }\n",
       "\n",
       "    .dataframe thead th {\n",
       "        text-align: right;\n",
       "    }\n",
       "</style>\n",
       "<table border=\"1\" class=\"dataframe\">\n",
       "  <thead>\n",
       "    <tr style=\"text-align: right;\">\n",
       "      <th></th>\n",
       "      <th>AVG(SPEED)</th>\n",
       "      <th>AVG(STRENGTH)</th>\n",
       "    </tr>\n",
       "  </thead>\n",
       "  <tbody>\n",
       "    <tr>\n",
       "      <th>0</th>\n",
       "      <td>78.6</td>\n",
       "      <td>86.8</td>\n",
       "    </tr>\n",
       "  </tbody>\n",
       "</table>\n",
       "</div>"
      ],
      "text/plain": [
       "   AVG(SPEED)  AVG(STRENGTH)\n",
       "0        78.6           86.8"
      ]
     },
     "execution_count": 29,
     "metadata": {},
     "output_type": "execute_result"
    }
   ],
   "source": [
    "# 3. average speed and strength\n",
    "pd.read_sql(\"SELECT AVG(SPEED), AVG(STRENGTH) FROM players\", con=con)\n"
   ]
  },
  {
   "cell_type": "code",
   "execution_count": 31,
   "id": "2a2a55a7",
   "metadata": {},
   "outputs": [
    {
     "data": {
      "text/html": [
       "<div>\n",
       "<style scoped>\n",
       "    .dataframe tbody tr th:only-of-type {\n",
       "        vertical-align: middle;\n",
       "    }\n",
       "\n",
       "    .dataframe tbody tr th {\n",
       "        vertical-align: top;\n",
       "    }\n",
       "\n",
       "    .dataframe thead th {\n",
       "        text-align: right;\n",
       "    }\n",
       "</style>\n",
       "<table border=\"1\" class=\"dataframe\">\n",
       "  <thead>\n",
       "    <tr style=\"text-align: right;\">\n",
       "      <th></th>\n",
       "      <th>RETIRED</th>\n",
       "      <th>MAX(SPEED)</th>\n",
       "    </tr>\n",
       "  </thead>\n",
       "  <tbody>\n",
       "    <tr>\n",
       "      <th>0</th>\n",
       "      <td>0</td>\n",
       "      <td>90</td>\n",
       "    </tr>\n",
       "    <tr>\n",
       "      <th>1</th>\n",
       "      <td>1</td>\n",
       "      <td>92</td>\n",
       "    </tr>\n",
       "  </tbody>\n",
       "</table>\n",
       "</div>"
      ],
      "text/plain": [
       "   RETIRED  MAX(SPEED)\n",
       "0        0          90\n",
       "1        1          92"
      ]
     },
     "execution_count": 31,
     "metadata": {},
     "output_type": "execute_result"
    }
   ],
   "source": [
    "# 4. max speed per RETIRED status\n",
    "pd.read_sql(\"SELECT RETIRED, MAX(SPEED) FROM players GROUP BY RETIRED\", con=con)\n"
   ]
  },
  {
   "cell_type": "code",
   "execution_count": 35,
   "id": "459ec570",
   "metadata": {},
   "outputs": [
    {
     "data": {
      "text/plain": [
       "1"
      ]
     },
     "execution_count": 35,
     "metadata": {},
     "output_type": "execute_result"
    }
   ],
   "source": [
    "# 5. add new_players dataframe\n",
    "new_players.to_sql('players', con=con, if_exists='append', index=False)\n"
   ]
  },
  {
   "cell_type": "code",
   "execution_count": 36,
   "id": "e265b54d",
   "metadata": {},
   "outputs": [
    {
     "data": {
      "text/html": [
       "<div>\n",
       "<style scoped>\n",
       "    .dataframe tbody tr th:only-of-type {\n",
       "        vertical-align: middle;\n",
       "    }\n",
       "\n",
       "    .dataframe tbody tr th {\n",
       "        vertical-align: top;\n",
       "    }\n",
       "\n",
       "    .dataframe thead th {\n",
       "        text-align: right;\n",
       "    }\n",
       "</style>\n",
       "<table border=\"1\" class=\"dataframe\">\n",
       "  <thead>\n",
       "    <tr style=\"text-align: right;\">\n",
       "      <th></th>\n",
       "      <th>ID</th>\n",
       "      <th>NAME</th>\n",
       "      <th>DOB</th>\n",
       "      <th>NATIONALITY</th>\n",
       "      <th>POSITION</th>\n",
       "      <th>SPEED</th>\n",
       "      <th>STRENGTH</th>\n",
       "      <th>RETIRED</th>\n",
       "    </tr>\n",
       "  </thead>\n",
       "  <tbody>\n",
       "    <tr>\n",
       "      <th>0</th>\n",
       "      <td>1</td>\n",
       "      <td>Nikola Jokic</td>\n",
       "      <td>19-02-1995</td>\n",
       "      <td>SRB</td>\n",
       "      <td>C</td>\n",
       "      <td>63</td>\n",
       "      <td>93</td>\n",
       "      <td>0</td>\n",
       "    </tr>\n",
       "    <tr>\n",
       "      <th>1</th>\n",
       "      <td>2</td>\n",
       "      <td>Bruce Bowen</td>\n",
       "      <td>14-06-1971</td>\n",
       "      <td>USA</td>\n",
       "      <td>SF/SG</td>\n",
       "      <td>83</td>\n",
       "      <td>85</td>\n",
       "      <td>1</td>\n",
       "    </tr>\n",
       "    <tr>\n",
       "      <th>2</th>\n",
       "      <td>3</td>\n",
       "      <td>Giannis Antetokounmpo</td>\n",
       "      <td>06-12-1994</td>\n",
       "      <td>GRC</td>\n",
       "      <td>PF/C</td>\n",
       "      <td>90</td>\n",
       "      <td>94</td>\n",
       "      <td>0</td>\n",
       "    </tr>\n",
       "    <tr>\n",
       "      <th>3</th>\n",
       "      <td>4</td>\n",
       "      <td>Dirk Nowitzki</td>\n",
       "      <td>19-06-1978</td>\n",
       "      <td>DEU</td>\n",
       "      <td>PF/C</td>\n",
       "      <td>65</td>\n",
       "      <td>82</td>\n",
       "      <td>1</td>\n",
       "    </tr>\n",
       "    <tr>\n",
       "      <th>4</th>\n",
       "      <td>5</td>\n",
       "      <td>Manu Ginobili</td>\n",
       "      <td>28-07-1977</td>\n",
       "      <td>ARG</td>\n",
       "      <td>SG/SF</td>\n",
       "      <td>92</td>\n",
       "      <td>80</td>\n",
       "      <td>1</td>\n",
       "    </tr>\n",
       "    <tr>\n",
       "      <th>5</th>\n",
       "      <td>6</td>\n",
       "      <td>Tony Parker</td>\n",
       "      <td>17-05-1982</td>\n",
       "      <td>FRA</td>\n",
       "      <td>PG</td>\n",
       "      <td>99</td>\n",
       "      <td>50</td>\n",
       "      <td>1</td>\n",
       "    </tr>\n",
       "  </tbody>\n",
       "</table>\n",
       "</div>"
      ],
      "text/plain": [
       "   ID                   NAME         DOB NATIONALITY POSITION  SPEED  \\\n",
       "0   1           Nikola Jokic  19-02-1995         SRB        C     63   \n",
       "1   2            Bruce Bowen  14-06-1971         USA    SF/SG     83   \n",
       "2   3  Giannis Antetokounmpo  06-12-1994         GRC     PF/C     90   \n",
       "3   4          Dirk Nowitzki  19-06-1978         DEU     PF/C     65   \n",
       "4   5          Manu Ginobili  28-07-1977         ARG    SG/SF     92   \n",
       "5   6            Tony Parker  17-05-1982         FRA       PG     99   \n",
       "\n",
       "   STRENGTH  RETIRED  \n",
       "0        93        0  \n",
       "1        85        1  \n",
       "2        94        0  \n",
       "3        82        1  \n",
       "4        80        1  \n",
       "5        50        1  "
      ]
     },
     "execution_count": 36,
     "metadata": {},
     "output_type": "execute_result"
    }
   ],
   "source": [
    "# get results\n",
    "pd.read_sql(\"SELECT * FROM players\", con=con)"
   ]
  },
  {
   "cell_type": "markdown",
   "id": "d379fb40-b5ca-457d-a0be-efc84dc19152",
   "metadata": {},
   "source": [
    "## Session 3 - Data Pre-processing\n",
    "\n",
    "Based on our SportsDB database, calculate the following new columns:\n",
    "- Split the NAME column into FIRST_NAME and LAST_NAME columns\n",
    "- Calculate a boolean column if a player plays in multiple positions (e.g. C is False, but SF/SG is True)\n",
    "- Calculate a PHYSICAL STATS column that sums SPEED and STRENGTH\n",
    "- Bonus: Calculate each player's age"
   ]
  },
  {
   "cell_type": "code",
   "execution_count": 37,
   "id": "10d64cbd-1c93-45f0-8dc4-7d066783a266",
   "metadata": {},
   "outputs": [],
   "source": [
    "### BEGIN SOLUTION\n",
    "\n",
    "df = pd.read_sql(\"SELECT * FROM players\", con=con)"
   ]
  },
  {
   "cell_type": "code",
   "execution_count": 48,
   "id": "d30b5787",
   "metadata": {},
   "outputs": [],
   "source": [
    "def preprocess_data(df: pd.DataFrame):\n",
    "    \n",
    "    # 1. Split NAME into FIRST_NAME, LAST_NAME\n",
    "    df[['FIRST_NAME', 'LAST_NAME']] = df['NAME'].str.split(' ', expand=True)\n",
    "\n",
    "    # 2. Boolean if player plays multiple positions\n",
    "    df['VERSATILE'] = df['POSITION'].str.contains('/')\n",
    "\n",
    "    # 3. Sum of physical stats\n",
    "    df['PHYSICAL STATS'] = df['STRENGTH'] + df['SPEED']\n",
    "\n",
    "    # 4. Bonus. Calculate each players age\n",
    "    df['DOB'] = pd.to_datetime(df['DOB'], format='%d-%M-%Y')\n",
    "    df['AGE'] = ((pd.Timestamp.now() - df['DOB']).dt.days / 365).astype(int)\n",
    "    \n",
    "    return df"
   ]
  },
  {
   "cell_type": "code",
   "execution_count": 49,
   "id": "f6b0427a",
   "metadata": {},
   "outputs": [
    {
     "data": {
      "text/html": [
       "<div>\n",
       "<style scoped>\n",
       "    .dataframe tbody tr th:only-of-type {\n",
       "        vertical-align: middle;\n",
       "    }\n",
       "\n",
       "    .dataframe tbody tr th {\n",
       "        vertical-align: top;\n",
       "    }\n",
       "\n",
       "    .dataframe thead th {\n",
       "        text-align: right;\n",
       "    }\n",
       "</style>\n",
       "<table border=\"1\" class=\"dataframe\">\n",
       "  <thead>\n",
       "    <tr style=\"text-align: right;\">\n",
       "      <th></th>\n",
       "      <th>ID</th>\n",
       "      <th>NAME</th>\n",
       "      <th>DOB</th>\n",
       "      <th>NATIONALITY</th>\n",
       "      <th>POSITION</th>\n",
       "      <th>SPEED</th>\n",
       "      <th>STRENGTH</th>\n",
       "      <th>RETIRED</th>\n",
       "      <th>FIRST_NAME</th>\n",
       "      <th>LAST_NAME</th>\n",
       "      <th>VERSATILE</th>\n",
       "      <th>PHYSICAL STATS</th>\n",
       "      <th>AGE</th>\n",
       "    </tr>\n",
       "  </thead>\n",
       "  <tbody>\n",
       "    <tr>\n",
       "      <th>0</th>\n",
       "      <td>1</td>\n",
       "      <td>Nikola Jokic</td>\n",
       "      <td>1995-01-19 00:02:00</td>\n",
       "      <td>SRB</td>\n",
       "      <td>C</td>\n",
       "      <td>63</td>\n",
       "      <td>93</td>\n",
       "      <td>0</td>\n",
       "      <td>Nikola</td>\n",
       "      <td>Jokic</td>\n",
       "      <td>False</td>\n",
       "      <td>156</td>\n",
       "      <td>27</td>\n",
       "    </tr>\n",
       "    <tr>\n",
       "      <th>1</th>\n",
       "      <td>2</td>\n",
       "      <td>Bruce Bowen</td>\n",
       "      <td>1971-01-14 00:06:00</td>\n",
       "      <td>USA</td>\n",
       "      <td>SF/SG</td>\n",
       "      <td>83</td>\n",
       "      <td>85</td>\n",
       "      <td>1</td>\n",
       "      <td>Bruce</td>\n",
       "      <td>Bowen</td>\n",
       "      <td>True</td>\n",
       "      <td>168</td>\n",
       "      <td>51</td>\n",
       "    </tr>\n",
       "    <tr>\n",
       "      <th>2</th>\n",
       "      <td>3</td>\n",
       "      <td>Giannis Antetokounmpo</td>\n",
       "      <td>1994-01-06 00:12:00</td>\n",
       "      <td>GRC</td>\n",
       "      <td>PF/C</td>\n",
       "      <td>90</td>\n",
       "      <td>94</td>\n",
       "      <td>0</td>\n",
       "      <td>Giannis</td>\n",
       "      <td>Antetokounmpo</td>\n",
       "      <td>True</td>\n",
       "      <td>184</td>\n",
       "      <td>28</td>\n",
       "    </tr>\n",
       "    <tr>\n",
       "      <th>3</th>\n",
       "      <td>4</td>\n",
       "      <td>Dirk Nowitzki</td>\n",
       "      <td>1978-01-19 00:06:00</td>\n",
       "      <td>DEU</td>\n",
       "      <td>PF/C</td>\n",
       "      <td>65</td>\n",
       "      <td>82</td>\n",
       "      <td>1</td>\n",
       "      <td>Dirk</td>\n",
       "      <td>Nowitzki</td>\n",
       "      <td>True</td>\n",
       "      <td>147</td>\n",
       "      <td>44</td>\n",
       "    </tr>\n",
       "    <tr>\n",
       "      <th>4</th>\n",
       "      <td>5</td>\n",
       "      <td>Manu Ginobili</td>\n",
       "      <td>1977-01-28 00:07:00</td>\n",
       "      <td>ARG</td>\n",
       "      <td>SG/SF</td>\n",
       "      <td>92</td>\n",
       "      <td>80</td>\n",
       "      <td>1</td>\n",
       "      <td>Manu</td>\n",
       "      <td>Ginobili</td>\n",
       "      <td>True</td>\n",
       "      <td>172</td>\n",
       "      <td>45</td>\n",
       "    </tr>\n",
       "    <tr>\n",
       "      <th>5</th>\n",
       "      <td>6</td>\n",
       "      <td>Tony Parker</td>\n",
       "      <td>1982-01-17 00:05:00</td>\n",
       "      <td>FRA</td>\n",
       "      <td>PG</td>\n",
       "      <td>99</td>\n",
       "      <td>50</td>\n",
       "      <td>1</td>\n",
       "      <td>Tony</td>\n",
       "      <td>Parker</td>\n",
       "      <td>False</td>\n",
       "      <td>149</td>\n",
       "      <td>40</td>\n",
       "    </tr>\n",
       "  </tbody>\n",
       "</table>\n",
       "</div>"
      ],
      "text/plain": [
       "   ID                   NAME                 DOB NATIONALITY POSITION  SPEED  \\\n",
       "0   1           Nikola Jokic 1995-01-19 00:02:00         SRB        C     63   \n",
       "1   2            Bruce Bowen 1971-01-14 00:06:00         USA    SF/SG     83   \n",
       "2   3  Giannis Antetokounmpo 1994-01-06 00:12:00         GRC     PF/C     90   \n",
       "3   4          Dirk Nowitzki 1978-01-19 00:06:00         DEU     PF/C     65   \n",
       "4   5          Manu Ginobili 1977-01-28 00:07:00         ARG    SG/SF     92   \n",
       "5   6            Tony Parker 1982-01-17 00:05:00         FRA       PG     99   \n",
       "\n",
       "   STRENGTH  RETIRED FIRST_NAME      LAST_NAME  VERSATILE  PHYSICAL STATS  AGE  \n",
       "0        93        0     Nikola          Jokic      False             156   27  \n",
       "1        85        1      Bruce          Bowen       True             168   51  \n",
       "2        94        0    Giannis  Antetokounmpo       True             184   28  \n",
       "3        82        1       Dirk       Nowitzki       True             147   44  \n",
       "4        80        1       Manu       Ginobili       True             172   45  \n",
       "5        50        1       Tony         Parker      False             149   40  "
      ]
     },
     "execution_count": 49,
     "metadata": {},
     "output_type": "execute_result"
    }
   ],
   "source": [
    "preprocess_data(df)"
   ]
  }
 ],
 "metadata": {
  "interpreter": {
   "hash": "62450144029c700d9828a520a84c849f57ec997bbb5cd86252d9dcd358a93bcf"
  },
  "kernelspec": {
   "display_name": "Python 3 (ipykernel)",
   "language": "python",
   "name": "python3"
  },
  "language_info": {
   "codemirror_mode": {
    "name": "ipython",
    "version": 3
   },
   "file_extension": ".py",
   "mimetype": "text/x-python",
   "name": "python",
   "nbconvert_exporter": "python",
   "pygments_lexer": "ipython3",
   "version": "3.10.9"
  }
 },
 "nbformat": 4,
 "nbformat_minor": 5
}
