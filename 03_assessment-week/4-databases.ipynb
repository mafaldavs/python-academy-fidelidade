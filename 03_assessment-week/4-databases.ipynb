{
 "cells": [
  {
   "cell_type": "markdown",
   "metadata": {
    "slideshow": {
     "slide_type": "slide"
    },
    "tags": []
   },
   "source": [
    "# Databases\n",
    "## Session 3 - Unit 3 [Self Guided]\n",
    "\n",
    "<img src=media/databases.jpg width=200/>\n",
    "\n",
    "Welcome to the \"Databases\" unit of the Python Academy! In this unit, you will learn:\n",
    "  - Databases\n",
    "  - SQL\n",
    "  - Use Case with SQLite"
   ]
  },
  {
   "cell_type": "markdown",
   "metadata": {
    "slideshow": {
     "slide_type": "slide"
    },
    "tags": []
   },
   "source": [
    "## Databases\n",
    "\n",
    "A [**database**](https://en.wikipedia.org/wiki/Database) is a **organized collection of data**. In particular, we are interested in databases supported by a database-management system (**DBMS**), think MySQL or Oracle. DBMS provide an interface to perform various management operations, like creating databases, storing and updating data, creating tables, managing users and a lot more. When we talk about databases, we are often referring to the combination of the actual database and the corresponding DBMS."
   ]
  },
  {
   "cell_type": "markdown",
   "metadata": {
    "slideshow": {
     "slide_type": "subslide"
    },
    "tags": []
   },
   "source": [
    "### Relational vs Non-Relational Databases\n",
    "\n",
    "In a **relational database**, the data is modelled as *rows and columns* in a series of tables and relationships between them. The vast majority uses **SQL** (Structured Query Language) for reading and writing data and, as such, they are also known as SQL databases."
   ]
  },
  {
   "cell_type": "markdown",
   "metadata": {
    "slideshow": {
     "slide_type": "fragment"
    },
    "tags": []
   },
   "source": [
    "On the other side we have **non-relational databases** that may vary in how they store data (e.g. key-value, document, graph). These are also referred as **NoSQL** because they are based in other query languages. Key advantages include that they are **often fast** and **do not require fixed table schemas**. The choice for a particular NoSQL is much **more dependent on the problem** it must solve. The **data structures** used by NoSQL are different from relational databases and include a wide variety of structures (e.g. key-value, document, graph, wide column)."
   ]
  },
  {
   "cell_type": "markdown",
   "metadata": {
    "slideshow": {
     "slide_type": "fragment"
    },
    "tags": []
   },
   "source": [
    "Since the APIs are much more specific for NoSQL applications, we will present a SQL-based use case instead to showcase managing databases with Python. If you want to experiment with NoSQL on your own, you can try [Redis (key-value cache)](https://docs.redis.com/latest/rs/references/client_references/client_python/), [Neo4j (graph)](https://neo4j.com/developer/python/) or [MongoDB (document)](https://www.mongodb.com/languages/python)."
   ]
  },
  {
   "cell_type": "markdown",
   "metadata": {
    "slideshow": {
     "slide_type": "slide"
    },
    "tags": []
   },
   "source": [
    "## SQL\n",
    "\n",
    "To help our introduction to SQL, let's imagine we are building a database **SportsDb** for an electronic sports game, like [NBA 2K](https://en.wikipedia.org/wiki/NBA_2K) or [EA Sports FIFA](https://en.wikipedia.org/wiki/FIFA_(video_game_series). Our goal is to leverage a SQL database to **store and interact with our data**.\n",
    "\n",
    "The SQL **syntax may differ** between multiple DBMS (e.g. MysQL, PostgreSQL), so our goal is to get the gist of how SQL works in broad terms. For specific details, refer to the documentation of the specific DMBS.\n",
    "\n",
    "*This is a **(very) simplified overview of SQL**, just to enable you to use it with the other contents this workshop. If you will use SQL on a frequent basis, we (heavily) advise you to learn it on a deeper level.*"
   ]
  },
  {
   "cell_type": "markdown",
   "metadata": {
    "slideshow": {
     "slide_type": "subslide"
    },
    "tags": []
   },
   "source": [
    "### Tables\n",
    "\n",
    "All right, so we already know we want to build a database for a sports game. So, what will we need? Sports are made of players, teams and venues. To start, our **first challenge** is to **model the *player* entity**. Each player can be described by the *name*, *date of birth*, *nationality*, *playing position*, *speed*, *strength*, *active/retired* properties.\n",
    "\n",
    "To store our players, we will need to create a **table**, called `players` (innovative name, right?). It's common practice to use singular nouns as table names.\n",
    "\n",
    "The table is the basic building block of a SQL Database; it is composed by:\n",
    "  - **rows**, aka records, that aggregate a single entry of data for the entity being modeled\n",
    "  - **columns**, aka fields, that are the properties characterizing the entity."
   ]
  },
  {
   "cell_type": "markdown",
   "metadata": {
    "slideshow": {
     "slide_type": "subslide"
    },
    "tags": []
   },
   "source": [
    "### Data Types\n",
    "\n",
    "Similar to the \"Data Types\" unit we saw earlier, each column in SQL has an associated data type (all values belong to the same data type).\n",
    "\n",
    "| Data Type   | Description                                           | Python Equivalent                     |\n",
    "|-------------|-------------------------------------------------------|---------------------------------------|\n",
    "| INTEGER     | Integer numeric                                       | `int`                                 |\n",
    "| FLOAT       | decimal numeric                                       | `float`                               |\n",
    "| VARCHAR(n)  | variable length character string, up to n characters. | `str`                                 |\n",
    "| DATE        | year, month, day                                      | `datetime.date`                       |\n",
    "| TIMESTAMP   | year, month, day, hour, minute, second, millisecond   | `datetime.datetime`, `pd.Timestamp`   |\n",
    "| BOOLEAN     | true or false                                         | `bool`                                |"
   ]
  },
  {
   "cell_type": "markdown",
   "metadata": {
    "slideshow": {
     "slide_type": "fragment"
    },
    "tags": []
   },
   "source": [
    "### Exercise - Table Data Types\n",
    "\n",
    "What is the data type we should assign to each column of our *players* table?\n",
    "\n",
    "*name*, *date of birth*, *nationality*, *playing position*, *speed*, *strength*, *active/retired* "
   ]
  },
  {
   "cell_type": "markdown",
   "metadata": {
    "slideshow": {
     "slide_type": "subslide"
    },
    "tags": []
   },
   "source": [
    "### Contraints\n",
    "\n",
    "We can define **constraints** on the values to **limit the type of data that can be stored in a table**. These rules determine if a certain value may belong to a column or not. This ensures accuracy and reliability of data; any action that violates the constraints is aborted. \n",
    "\n",
    "Constraints can be applicable at **column-level** (limit column data only) or at **table-level** (limit whole table).\n",
    "\n",
    "We advise you to check the full list of [SQL Constraints](https://www.studytonight.com/dbms/sql-constraints.php) at ease afterwards this unit. For now, we will highlight some of the most common and useful constraints.\n",
    "\n",
    "| Constraint                | Description                                                                                       |\n",
    "| ------------------------- | ------------------------------------------------------------------------------------------------- |\n",
    "| NOT NULL                  | column may not have NULL values (i.e. missing)                                                    |\n",
    "| UNIQUE                    | column values may not be duplicates                                                               |\n",
    "| DEFAULT                   | when inserting records, if no value is specified for the column, the default value is used        |\n",
    "| CHECK                     | restrict column values between a range                                                            |\n",
    "\n"
   ]
  },
  {
   "cell_type": "markdown",
   "metadata": {
    "slideshow": {
     "slide_type": "subslide"
    },
    "tags": []
   },
   "source": [
    "### Index, Keys\n",
    "\n",
    "Remember how we use indices as key elements to retrieve data in a faster way with `pandas.DataFrame`? The same concept applies to SQL databases.\n",
    "\n",
    "Using **indexed columns** is advised for tables that are consulted frequently. On the flipside, indexing slows data operations (insert, delete, update), as such tables need to be reindexed when the data changes.\n",
    "\n",
    "---\n",
    "\n",
    "Besides the indices, **keys** are used to identify records in a table and create relationship between tables.\n",
    "  - A **primary key** uniquely identifies each record in a table. By definition, it must be NOT NULL and UNIQUE, otherwise we couldn't uniquely identify the records. It can be a single column or a combination of multiple columns.\n",
    "  - A **foreign key** references the primary key in another table, working as a mapping on how to relate two tables."
   ]
  },
  {
   "cell_type": "markdown",
   "metadata": {
    "slideshow": {
     "slide_type": "slide"
    },
    "tags": []
   },
   "source": [
    "## Practical Use Case\n",
    "\n",
    "Let's get our hands dirty! We will build our SportsDB database from scratch and start loading some data to get our project up and running.\n",
    "\n",
    "To speed things up, we will use [SQLite](https://docs.python.org/3/library/sqlite3.html). Using a syntax similar to SQL, **SQLite**\n",
    "is a **lightweight**, **self-contained**, disk-based database that doesn't require a separate server process. This makes it very useful for **very small projects**, and education purposes like this class!\n",
    "\n",
    "We will use `pandas` package to perform generic data writing and loading tasks, and `sqlite3` to handle QSLite specific tasks. Note: we are just doing this now, but **imports should always be put at the top of the file!** Don't just take our word for it, it is actually a [PEP8 convention](https://peps.python.org/pep-0008/#imports) to do it so!"
   ]
  },
  {
   "cell_type": "code",
   "execution_count": 8,
   "metadata": {
    "slideshow": {
     "slide_type": "fragment"
    },
    "tags": []
   },
   "outputs": [],
   "source": [
    "import sqlite3\n",
    "import pandas as pd"
   ]
  },
  {
   "cell_type": "markdown",
   "metadata": {
    "slideshow": {
     "slide_type": "subslide"
    },
    "tags": []
   },
   "source": [
    "To create a database, we first establish a [Connection](https://docs.python.org/3/library/sqlite3.html#connection-objects) that represents the database. Afterwards, from the connection we get a [Cursor](https://docs.python.org/3/library/sqlite3.html#cursor-objects) to execute our commands. \n",
    "\n",
    "*Don't worry too much about theses details for now, just keep in mind the main objective we want to achieve.*"
   ]
  },
  {
   "cell_type": "code",
   "execution_count": 9,
   "metadata": {
    "slideshow": {
     "slide_type": "fragment"
    },
    "tags": []
   },
   "outputs": [],
   "source": [
    "# establish a connection. creates database if doesn't exist\n",
    "con = sqlite3.connect('data/SportsDB/SportsDB.db')\n",
    "\n",
    "# get the cursor\n",
    "cur = con.cursor()"
   ]
  },
  {
   "cell_type": "markdown",
   "metadata": {
    "slideshow": {
     "slide_type": "subslide"
    },
    "tags": []
   },
   "source": [
    "We already have some players data in a `players.csv` to start building our table in the database. We will load the data into pandas, get a sense of the data, and create the table afterwards.\n"
   ]
  },
  {
   "cell_type": "code",
   "execution_count": 10,
   "metadata": {
    "slideshow": {
     "slide_type": "fragment"
    },
    "tags": []
   },
   "outputs": [
    {
     "data": {
      "text/html": [
       "<div>\n",
       "<style scoped>\n",
       "    .dataframe tbody tr th:only-of-type {\n",
       "        vertical-align: middle;\n",
       "    }\n",
       "\n",
       "    .dataframe tbody tr th {\n",
       "        vertical-align: top;\n",
       "    }\n",
       "\n",
       "    .dataframe thead th {\n",
       "        text-align: right;\n",
       "    }\n",
       "</style>\n",
       "<table border=\"1\" class=\"dataframe\">\n",
       "  <thead>\n",
       "    <tr style=\"text-align: right;\">\n",
       "      <th></th>\n",
       "      <th>NAME</th>\n",
       "      <th>DOB</th>\n",
       "      <th>NATIONALITY</th>\n",
       "      <th>POSITION</th>\n",
       "      <th>SPEED</th>\n",
       "      <th>STRENGTH</th>\n",
       "      <th>RETIRED</th>\n",
       "    </tr>\n",
       "  </thead>\n",
       "  <tbody>\n",
       "    <tr>\n",
       "      <th>0</th>\n",
       "      <td>Nikola Jokic</td>\n",
       "      <td>19-02-1995</td>\n",
       "      <td>SRB</td>\n",
       "      <td>C</td>\n",
       "      <td>63</td>\n",
       "      <td>93</td>\n",
       "      <td>False</td>\n",
       "    </tr>\n",
       "    <tr>\n",
       "      <th>1</th>\n",
       "      <td>Bruce Bowen</td>\n",
       "      <td>14-06-1971</td>\n",
       "      <td>USA</td>\n",
       "      <td>SF/SG</td>\n",
       "      <td>83</td>\n",
       "      <td>85</td>\n",
       "      <td>True</td>\n",
       "    </tr>\n",
       "    <tr>\n",
       "      <th>2</th>\n",
       "      <td>Giannis Antetokounmpo</td>\n",
       "      <td>06-12-1994</td>\n",
       "      <td>GRC</td>\n",
       "      <td>PF/C</td>\n",
       "      <td>90</td>\n",
       "      <td>94</td>\n",
       "      <td>False</td>\n",
       "    </tr>\n",
       "    <tr>\n",
       "      <th>3</th>\n",
       "      <td>Dirk Nowitzki</td>\n",
       "      <td>19-06-1978</td>\n",
       "      <td>DEU</td>\n",
       "      <td>PF/C</td>\n",
       "      <td>65</td>\n",
       "      <td>82</td>\n",
       "      <td>True</td>\n",
       "    </tr>\n",
       "    <tr>\n",
       "      <th>4</th>\n",
       "      <td>Manu Ginobili</td>\n",
       "      <td>28-07-1977</td>\n",
       "      <td>ARG</td>\n",
       "      <td>SG/SF</td>\n",
       "      <td>92</td>\n",
       "      <td>80</td>\n",
       "      <td>True</td>\n",
       "    </tr>\n",
       "  </tbody>\n",
       "</table>\n",
       "</div>"
      ],
      "text/plain": [
       "                    NAME         DOB NATIONALITY POSITION  SPEED  STRENGTH  \\\n",
       "0           Nikola Jokic  19-02-1995         SRB        C     63        93   \n",
       "1            Bruce Bowen  14-06-1971         USA    SF/SG     83        85   \n",
       "2  Giannis Antetokounmpo  06-12-1994         GRC     PF/C     90        94   \n",
       "3          Dirk Nowitzki  19-06-1978         DEU     PF/C     65        82   \n",
       "4          Manu Ginobili  28-07-1977         ARG    SG/SF     92        80   \n",
       "\n",
       "   RETIRED  \n",
       "0    False  \n",
       "1     True  \n",
       "2    False  \n",
       "3     True  \n",
       "4     True  "
      ]
     },
     "execution_count": 10,
     "metadata": {},
     "output_type": "execute_result"
    }
   ],
   "source": [
    "players_df = pd.read_csv('data/SportsDB/players.csv')\n",
    "players_df.head()"
   ]
  },
  {
   "cell_type": "markdown",
   "metadata": {
    "slideshow": {
     "slide_type": "subslide"
    },
    "tags": []
   },
   "source": [
    "Awesome! Since we already know some things about SQL, let's create a new `players` table, considering all the properties we mentioned before (data types, constraints, indices, keys)."
   ]
  },
  {
   "cell_type": "code",
   "execution_count": 11,
   "metadata": {
    "slideshow": {
     "slide_type": "fragment"
    },
    "tags": []
   },
   "outputs": [
    {
     "data": {
      "text/plain": [
       "<sqlite3.Cursor at 0x2226d076340>"
      ]
     },
     "execution_count": 11,
     "metadata": {},
     "output_type": "execute_result"
    }
   ],
   "source": [
    "# since we are re-running stuff multiple times in the notebook, better to have this to clean the table \n",
    "cur.execute('DROP TABLE IF EXISTS players')"
   ]
  },
  {
   "cell_type": "code",
   "execution_count": 12,
   "metadata": {
    "slideshow": {
     "slide_type": "subslide"
    },
    "tags": []
   },
   "outputs": [],
   "source": [
    "try:\n",
    "    cur.execute('''CREATE TABLE players (\n",
    "                    ID INTEGER PRIMARY KEY AUTOINCREMENT,\n",
    "                    NAME TEXT NOT NULL,\n",
    "                    DOB TEXT NOT NULL,\n",
    "                    NATIONALITY CHAR(3),\n",
    "                    POSITION VARCHAR(5),\n",
    "                    SPEED INT,\n",
    "                    STRENGTH INT,\n",
    "                    RETIRED INT CHECK (RETIRED IN (0, 1))\n",
    "                );\n",
    "            ''')\n",
    "except Exception as e:\n",
    "    print(e)"
   ]
  },
  {
   "cell_type": "markdown",
   "metadata": {
    "slideshow": {
     "slide_type": "subslide"
    },
    "tags": []
   },
   "source": [
    "Remember how we talked about the general idea of SQL and that each DMBS has its own specific implementation details? Well, SQLite has a couple of *[quirks](https://sqlite.org/quirks.html)* which you may not expect, including:\n",
    "  - SQLite doesn't support **native timestamp or date** data types (more on [docs](https://sqlite.org/lang_datefunc.html)).\n",
    "  - SQLite doesn't support a **native boolean** data type. Instead, we consider an INT taking the value of 0 or 1.\n",
    "\n",
    "\n",
    "There are somethings we haven't talked about yet:\n",
    "  1. What is the **AUTOINCREMENT** doing in the ID column?\n",
    "  2. What is the difference between **CHAR and VARCHAR**?\n",
    "  3. Why is NATIONALITY limited to 3 characters? [*hint*](https://en.wikipedia.org/wiki/ISO_3166-1_alpha-3)\n",
    "\n",
    "The table is created. Let's check its records."
   ]
  },
  {
   "cell_type": "code",
   "execution_count": 13,
   "metadata": {
    "slideshow": {
     "slide_type": "subslide"
    },
    "tags": []
   },
   "outputs": [
    {
     "data": {
      "text/plain": [
       "[]"
      ]
     },
     "execution_count": 13,
     "metadata": {},
     "output_type": "execute_result"
    }
   ],
   "source": [
    "# all right! we have an empty table\n",
    "cur.execute(\"SELECT * FROM players\").fetchall()"
   ]
  },
  {
   "cell_type": "markdown",
   "metadata": {
    "slideshow": {
     "slide_type": "subslide"
    },
    "tags": []
   },
   "source": [
    "Using the SQLite API, the **cursor executes SQLite statements and fetches data from queries results**. We can `.fetchone()`, `.fetchmany(size)` or `.fetchall()`. The drawback is that you will need to preprocess the data before you are able to use it to perform data analysis or calculate properties at a group/tabular level."
   ]
  },
  {
   "cell_type": "markdown",
   "metadata": {},
   "source": [
    "---"
   ]
  },
  {
   "cell_type": "markdown",
   "metadata": {
    "slideshow": {
     "slide_type": "subslide"
    },
    "tags": []
   },
   "source": [
    "To add data into our database, Pandas enables you to **write from a DataFrame directly to a SQL database** with `.to_sql` method ([API reference](https://pandas.pydata.org/pandas-docs/stable/reference/api/pandas.DataFrame.to_sql.html)). We had to change a couple of the parameters from their defaults for this to run."
   ]
  },
  {
   "cell_type": "code",
   "execution_count": 14,
   "metadata": {
    "slideshow": {
     "slide_type": "fragment"
    },
    "tags": []
   },
   "outputs": [
    {
     "data": {
      "text/plain": [
       "5"
      ]
     },
     "execution_count": 14,
     "metadata": {},
     "output_type": "execute_result"
    }
   ],
   "source": [
    "players_df.to_sql(\"players\", con=con, if_exists='append', index=False)"
   ]
  },
  {
   "cell_type": "markdown",
   "metadata": {
    "slideshow": {
     "slide_type": "subslide"
    },
    "tags": []
   },
   "source": [
    "Awesome! Your new table should be ready by now! Let's take a look and see if everything went right."
   ]
  },
  {
   "cell_type": "code",
   "execution_count": 15,
   "metadata": {
    "slideshow": {
     "slide_type": "fragment"
    },
    "tags": []
   },
   "outputs": [
    {
     "data": {
      "text/plain": [
       "[(1, 'Nikola Jokic', '19-02-1995', 'SRB', 'C', 63, 93, 0),\n",
       " (2, 'Bruce Bowen', '14-06-1971', 'USA', 'SF/SG', 83, 85, 1),\n",
       " (3, 'Giannis Antetokounmpo', '06-12-1994', 'GRC', 'PF/C', 90, 94, 0),\n",
       " (4, 'Dirk Nowitzki', '19-06-1978', 'DEU', 'PF/C', 65, 82, 1),\n",
       " (5, 'Manu Ginobili', '28-07-1977', 'ARG', 'SG/SF', 92, 80, 1)]"
      ]
     },
     "execution_count": 15,
     "metadata": {},
     "output_type": "execute_result"
    }
   ],
   "source": [
    "# now we have some records!\n",
    "cur.execute(\"SELECT * FROM players\").fetchall()"
   ]
  },
  {
   "cell_type": "markdown",
   "metadata": {
    "slideshow": {
     "slide_type": "subslide"
    },
    "tags": []
   },
   "source": [
    "Alternatively to the SQLite API, you can use pandas `.read_sql` to import the query results directly into a DataFrame and allow you to process data much more efficiently afterwards (in comparison to sqlite api)"
   ]
  },
  {
   "cell_type": "code",
   "execution_count": 9,
   "metadata": {
    "slideshow": {
     "slide_type": "fragment"
    },
    "tags": []
   },
   "outputs": [
    {
     "data": {
      "text/html": [
       "<div>\n",
       "<style scoped>\n",
       "    .dataframe tbody tr th:only-of-type {\n",
       "        vertical-align: middle;\n",
       "    }\n",
       "\n",
       "    .dataframe tbody tr th {\n",
       "        vertical-align: top;\n",
       "    }\n",
       "\n",
       "    .dataframe thead th {\n",
       "        text-align: right;\n",
       "    }\n",
       "</style>\n",
       "<table border=\"1\" class=\"dataframe\">\n",
       "  <thead>\n",
       "    <tr style=\"text-align: right;\">\n",
       "      <th></th>\n",
       "      <th>ID</th>\n",
       "      <th>NAME</th>\n",
       "      <th>DOB</th>\n",
       "      <th>NATIONALITY</th>\n",
       "      <th>POSITION</th>\n",
       "      <th>SPEED</th>\n",
       "      <th>STRENGTH</th>\n",
       "      <th>RETIRED</th>\n",
       "    </tr>\n",
       "  </thead>\n",
       "  <tbody>\n",
       "    <tr>\n",
       "      <th>0</th>\n",
       "      <td>1</td>\n",
       "      <td>Nikola Jokic</td>\n",
       "      <td>19-02-1995</td>\n",
       "      <td>SRB</td>\n",
       "      <td>C</td>\n",
       "      <td>63</td>\n",
       "      <td>93</td>\n",
       "      <td>0</td>\n",
       "    </tr>\n",
       "    <tr>\n",
       "      <th>1</th>\n",
       "      <td>2</td>\n",
       "      <td>Bruce Bowen</td>\n",
       "      <td>14-06-1971</td>\n",
       "      <td>USA</td>\n",
       "      <td>SF/SG</td>\n",
       "      <td>83</td>\n",
       "      <td>85</td>\n",
       "      <td>1</td>\n",
       "    </tr>\n",
       "    <tr>\n",
       "      <th>2</th>\n",
       "      <td>3</td>\n",
       "      <td>Giannis Antetokounmpo</td>\n",
       "      <td>06-12-1994</td>\n",
       "      <td>GRC</td>\n",
       "      <td>PF/C</td>\n",
       "      <td>90</td>\n",
       "      <td>94</td>\n",
       "      <td>0</td>\n",
       "    </tr>\n",
       "    <tr>\n",
       "      <th>3</th>\n",
       "      <td>4</td>\n",
       "      <td>Dirk Nowitzki</td>\n",
       "      <td>19-06-1978</td>\n",
       "      <td>DEU</td>\n",
       "      <td>PF/C</td>\n",
       "      <td>65</td>\n",
       "      <td>82</td>\n",
       "      <td>1</td>\n",
       "    </tr>\n",
       "    <tr>\n",
       "      <th>4</th>\n",
       "      <td>5</td>\n",
       "      <td>Manu Ginobili</td>\n",
       "      <td>28-07-1977</td>\n",
       "      <td>ARG</td>\n",
       "      <td>SG/SF</td>\n",
       "      <td>92</td>\n",
       "      <td>80</td>\n",
       "      <td>1</td>\n",
       "    </tr>\n",
       "  </tbody>\n",
       "</table>\n",
       "</div>"
      ],
      "text/plain": [
       "   ID                   NAME         DOB NATIONALITY POSITION  SPEED  \\\n",
       "0   1           Nikola Jokic  19-02-1995         SRB        C     63   \n",
       "1   2            Bruce Bowen  14-06-1971         USA    SF/SG     83   \n",
       "2   3  Giannis Antetokounmpo  06-12-1994         GRC     PF/C     90   \n",
       "3   4          Dirk Nowitzki  19-06-1978         DEU     PF/C     65   \n",
       "4   5          Manu Ginobili  28-07-1977         ARG    SG/SF     92   \n",
       "\n",
       "   STRENGTH  RETIRED  \n",
       "0        93        0  \n",
       "1        85        1  \n",
       "2        94        0  \n",
       "3        82        1  \n",
       "4        80        1  "
      ]
     },
     "execution_count": 9,
     "metadata": {},
     "output_type": "execute_result"
    }
   ],
   "source": [
    "# we can also run SQL queries into a DataFrame\n",
    "pd.read_sql(\"SELECT * from players\", con=con)"
   ]
  },
  {
   "cell_type": "markdown",
   "metadata": {
    "slideshow": {
     "slide_type": "slide"
    },
    "tags": []
   },
   "source": [
    "## SQL Queries\n",
    "\n",
    "A **query** is the operation of **retrieving data from a database**. Most of the SQL syntax leverages keywords that resemble English phrases, in such a way that reading a SQL query is (almost) self-explanatory of the operation you want to achieve.\n",
    "\n",
    "The majority of the DBMS provide a way for you to run queries, either graphically (UI) or programatically. For a Python approach, we will continue to use `pandas` as the interface that is 1. able to run SQL queries; and 2. retrieve results into a nice easy-to-use DataFrame."
   ]
  },
  {
   "cell_type": "markdown",
   "metadata": {
    "slideshow": {
     "slide_type": "subslide"
    },
    "tags": []
   },
   "source": [
    "### SELECT\n",
    "\n",
    "**SELECT** is the basic instruction to **retrieve data**. `*` is a wildcard that in conjunction with SELECT means to retrieve data from all columns in a table. Alternatively, you can specify specific columns to be retrieved."
   ]
  },
  {
   "cell_type": "code",
   "execution_count": 10,
   "metadata": {
    "slideshow": {
     "slide_type": "fragment"
    },
    "tags": []
   },
   "outputs": [
    {
     "data": {
      "text/html": [
       "<div>\n",
       "<style scoped>\n",
       "    .dataframe tbody tr th:only-of-type {\n",
       "        vertical-align: middle;\n",
       "    }\n",
       "\n",
       "    .dataframe tbody tr th {\n",
       "        vertical-align: top;\n",
       "    }\n",
       "\n",
       "    .dataframe thead th {\n",
       "        text-align: right;\n",
       "    }\n",
       "</style>\n",
       "<table border=\"1\" class=\"dataframe\">\n",
       "  <thead>\n",
       "    <tr style=\"text-align: right;\">\n",
       "      <th></th>\n",
       "      <th>ID</th>\n",
       "      <th>NAME</th>\n",
       "      <th>DOB</th>\n",
       "      <th>NATIONALITY</th>\n",
       "      <th>POSITION</th>\n",
       "      <th>SPEED</th>\n",
       "      <th>STRENGTH</th>\n",
       "      <th>RETIRED</th>\n",
       "    </tr>\n",
       "  </thead>\n",
       "  <tbody>\n",
       "    <tr>\n",
       "      <th>0</th>\n",
       "      <td>1</td>\n",
       "      <td>Nikola Jokic</td>\n",
       "      <td>19-02-1995</td>\n",
       "      <td>SRB</td>\n",
       "      <td>C</td>\n",
       "      <td>63</td>\n",
       "      <td>93</td>\n",
       "      <td>0</td>\n",
       "    </tr>\n",
       "    <tr>\n",
       "      <th>1</th>\n",
       "      <td>2</td>\n",
       "      <td>Bruce Bowen</td>\n",
       "      <td>14-06-1971</td>\n",
       "      <td>USA</td>\n",
       "      <td>SF/SG</td>\n",
       "      <td>83</td>\n",
       "      <td>85</td>\n",
       "      <td>1</td>\n",
       "    </tr>\n",
       "    <tr>\n",
       "      <th>2</th>\n",
       "      <td>3</td>\n",
       "      <td>Giannis Antetokounmpo</td>\n",
       "      <td>06-12-1994</td>\n",
       "      <td>GRC</td>\n",
       "      <td>PF/C</td>\n",
       "      <td>90</td>\n",
       "      <td>94</td>\n",
       "      <td>0</td>\n",
       "    </tr>\n",
       "    <tr>\n",
       "      <th>3</th>\n",
       "      <td>4</td>\n",
       "      <td>Dirk Nowitzki</td>\n",
       "      <td>19-06-1978</td>\n",
       "      <td>DEU</td>\n",
       "      <td>PF/C</td>\n",
       "      <td>65</td>\n",
       "      <td>82</td>\n",
       "      <td>1</td>\n",
       "    </tr>\n",
       "    <tr>\n",
       "      <th>4</th>\n",
       "      <td>5</td>\n",
       "      <td>Manu Ginobili</td>\n",
       "      <td>28-07-1977</td>\n",
       "      <td>ARG</td>\n",
       "      <td>SG/SF</td>\n",
       "      <td>92</td>\n",
       "      <td>80</td>\n",
       "      <td>1</td>\n",
       "    </tr>\n",
       "  </tbody>\n",
       "</table>\n",
       "</div>"
      ],
      "text/plain": [
       "   ID                   NAME         DOB NATIONALITY POSITION  SPEED  \\\n",
       "0   1           Nikola Jokic  19-02-1995         SRB        C     63   \n",
       "1   2            Bruce Bowen  14-06-1971         USA    SF/SG     83   \n",
       "2   3  Giannis Antetokounmpo  06-12-1994         GRC     PF/C     90   \n",
       "3   4          Dirk Nowitzki  19-06-1978         DEU     PF/C     65   \n",
       "4   5          Manu Ginobili  28-07-1977         ARG    SG/SF     92   \n",
       "\n",
       "   STRENGTH  RETIRED  \n",
       "0        93        0  \n",
       "1        85        1  \n",
       "2        94        0  \n",
       "3        82        1  \n",
       "4        80        1  "
      ]
     },
     "execution_count": 10,
     "metadata": {},
     "output_type": "execute_result"
    }
   ],
   "source": [
    "# retrieve all colums\n",
    "pd.read_sql('SELECT * FROM players', con=con)"
   ]
  },
  {
   "cell_type": "code",
   "execution_count": 11,
   "metadata": {
    "slideshow": {
     "slide_type": "subslide"
    },
    "tags": []
   },
   "outputs": [
    {
     "data": {
      "text/html": [
       "<div>\n",
       "<style scoped>\n",
       "    .dataframe tbody tr th:only-of-type {\n",
       "        vertical-align: middle;\n",
       "    }\n",
       "\n",
       "    .dataframe tbody tr th {\n",
       "        vertical-align: top;\n",
       "    }\n",
       "\n",
       "    .dataframe thead th {\n",
       "        text-align: right;\n",
       "    }\n",
       "</style>\n",
       "<table border=\"1\" class=\"dataframe\">\n",
       "  <thead>\n",
       "    <tr style=\"text-align: right;\">\n",
       "      <th></th>\n",
       "      <th>NAME</th>\n",
       "      <th>DOB</th>\n",
       "    </tr>\n",
       "  </thead>\n",
       "  <tbody>\n",
       "    <tr>\n",
       "      <th>0</th>\n",
       "      <td>Nikola Jokic</td>\n",
       "      <td>19-02-1995</td>\n",
       "    </tr>\n",
       "    <tr>\n",
       "      <th>1</th>\n",
       "      <td>Bruce Bowen</td>\n",
       "      <td>14-06-1971</td>\n",
       "    </tr>\n",
       "    <tr>\n",
       "      <th>2</th>\n",
       "      <td>Giannis Antetokounmpo</td>\n",
       "      <td>06-12-1994</td>\n",
       "    </tr>\n",
       "    <tr>\n",
       "      <th>3</th>\n",
       "      <td>Dirk Nowitzki</td>\n",
       "      <td>19-06-1978</td>\n",
       "    </tr>\n",
       "    <tr>\n",
       "      <th>4</th>\n",
       "      <td>Manu Ginobili</td>\n",
       "      <td>28-07-1977</td>\n",
       "    </tr>\n",
       "  </tbody>\n",
       "</table>\n",
       "</div>"
      ],
      "text/plain": [
       "                    NAME         DOB\n",
       "0           Nikola Jokic  19-02-1995\n",
       "1            Bruce Bowen  14-06-1971\n",
       "2  Giannis Antetokounmpo  06-12-1994\n",
       "3          Dirk Nowitzki  19-06-1978\n",
       "4          Manu Ginobili  28-07-1977"
      ]
     },
     "execution_count": 11,
     "metadata": {},
     "output_type": "execute_result"
    }
   ],
   "source": [
    "# select NAME, DOB columns\n",
    "pd.read_sql('SELECT NAME, DOB FROM players', con=con)"
   ]
  },
  {
   "cell_type": "markdown",
   "metadata": {
    "slideshow": {
     "slide_type": "subslide"
    },
    "tags": []
   },
   "source": [
    "### WHERE\n",
    "\n",
    "The conditioning for retrieving data is made available with **WHERE**. You can specify single conditions, or use AND/OR logical operators to combine WHERE conditions."
   ]
  },
  {
   "cell_type": "code",
   "execution_count": 12,
   "metadata": {
    "slideshow": {
     "slide_type": "fragment"
    },
    "tags": []
   },
   "outputs": [
    {
     "data": {
      "text/html": [
       "<div>\n",
       "<style scoped>\n",
       "    .dataframe tbody tr th:only-of-type {\n",
       "        vertical-align: middle;\n",
       "    }\n",
       "\n",
       "    .dataframe tbody tr th {\n",
       "        vertical-align: top;\n",
       "    }\n",
       "\n",
       "    .dataframe thead th {\n",
       "        text-align: right;\n",
       "    }\n",
       "</style>\n",
       "<table border=\"1\" class=\"dataframe\">\n",
       "  <thead>\n",
       "    <tr style=\"text-align: right;\">\n",
       "      <th></th>\n",
       "      <th>ID</th>\n",
       "      <th>NAME</th>\n",
       "      <th>DOB</th>\n",
       "      <th>NATIONALITY</th>\n",
       "      <th>POSITION</th>\n",
       "      <th>SPEED</th>\n",
       "      <th>STRENGTH</th>\n",
       "      <th>RETIRED</th>\n",
       "    </tr>\n",
       "  </thead>\n",
       "  <tbody>\n",
       "    <tr>\n",
       "      <th>0</th>\n",
       "      <td>2</td>\n",
       "      <td>Bruce Bowen</td>\n",
       "      <td>14-06-1971</td>\n",
       "      <td>USA</td>\n",
       "      <td>SF/SG</td>\n",
       "      <td>83</td>\n",
       "      <td>85</td>\n",
       "      <td>1</td>\n",
       "    </tr>\n",
       "    <tr>\n",
       "      <th>1</th>\n",
       "      <td>4</td>\n",
       "      <td>Dirk Nowitzki</td>\n",
       "      <td>19-06-1978</td>\n",
       "      <td>DEU</td>\n",
       "      <td>PF/C</td>\n",
       "      <td>65</td>\n",
       "      <td>82</td>\n",
       "      <td>1</td>\n",
       "    </tr>\n",
       "    <tr>\n",
       "      <th>2</th>\n",
       "      <td>5</td>\n",
       "      <td>Manu Ginobili</td>\n",
       "      <td>28-07-1977</td>\n",
       "      <td>ARG</td>\n",
       "      <td>SG/SF</td>\n",
       "      <td>92</td>\n",
       "      <td>80</td>\n",
       "      <td>1</td>\n",
       "    </tr>\n",
       "  </tbody>\n",
       "</table>\n",
       "</div>"
      ],
      "text/plain": [
       "   ID           NAME         DOB NATIONALITY POSITION  SPEED  STRENGTH  \\\n",
       "0   2    Bruce Bowen  14-06-1971         USA    SF/SG     83        85   \n",
       "1   4  Dirk Nowitzki  19-06-1978         DEU     PF/C     65        82   \n",
       "2   5  Manu Ginobili  28-07-1977         ARG    SG/SF     92        80   \n",
       "\n",
       "   RETIRED  \n",
       "0        1  \n",
       "1        1  \n",
       "2        1  "
      ]
     },
     "execution_count": 12,
     "metadata": {},
     "output_type": "execute_result"
    }
   ],
   "source": [
    "# retired players\n",
    "pd.read_sql('SELECT * FROM players WHERE RETIRED = 1', con=con)"
   ]
  },
  {
   "cell_type": "code",
   "execution_count": 13,
   "metadata": {
    "slideshow": {
     "slide_type": "subslide"
    },
    "tags": []
   },
   "outputs": [
    {
     "data": {
      "text/html": [
       "<div>\n",
       "<style scoped>\n",
       "    .dataframe tbody tr th:only-of-type {\n",
       "        vertical-align: middle;\n",
       "    }\n",
       "\n",
       "    .dataframe tbody tr th {\n",
       "        vertical-align: top;\n",
       "    }\n",
       "\n",
       "    .dataframe thead th {\n",
       "        text-align: right;\n",
       "    }\n",
       "</style>\n",
       "<table border=\"1\" class=\"dataframe\">\n",
       "  <thead>\n",
       "    <tr style=\"text-align: right;\">\n",
       "      <th></th>\n",
       "      <th>ID</th>\n",
       "      <th>NAME</th>\n",
       "      <th>DOB</th>\n",
       "      <th>NATIONALITY</th>\n",
       "      <th>POSITION</th>\n",
       "      <th>SPEED</th>\n",
       "      <th>STRENGTH</th>\n",
       "      <th>RETIRED</th>\n",
       "    </tr>\n",
       "  </thead>\n",
       "  <tbody>\n",
       "    <tr>\n",
       "      <th>0</th>\n",
       "      <td>4</td>\n",
       "      <td>Dirk Nowitzki</td>\n",
       "      <td>19-06-1978</td>\n",
       "      <td>DEU</td>\n",
       "      <td>PF/C</td>\n",
       "      <td>65</td>\n",
       "      <td>82</td>\n",
       "      <td>1</td>\n",
       "    </tr>\n",
       "  </tbody>\n",
       "</table>\n",
       "</div>"
      ],
      "text/plain": [
       "   ID           NAME         DOB NATIONALITY POSITION  SPEED  STRENGTH  \\\n",
       "0   4  Dirk Nowitzki  19-06-1978         DEU     PF/C     65        82   \n",
       "\n",
       "   RETIRED  \n",
       "0        1  "
      ]
     },
     "execution_count": 13,
     "metadata": {},
     "output_type": "execute_result"
    }
   ],
   "source": [
    "# retired, german players\n",
    "pd.read_sql('SELECT * FROM players WHERE RETIRED = 1 AND NATIONALITY = \"DEU\"', con=con)"
   ]
  },
  {
   "cell_type": "markdown",
   "metadata": {
    "slideshow": {
     "slide_type": "subslide"
    },
    "tags": []
   },
   "source": [
    "### LIMIT\n",
    "\n",
    "By default, the queries will retrieve **all records** from the table (which is not always a great thing). To limit the number of retrievable rows, we use the **LIMIT**."
   ]
  },
  {
   "cell_type": "code",
   "execution_count": 14,
   "metadata": {
    "slideshow": {
     "slide_type": "fragment"
    },
    "tags": []
   },
   "outputs": [
    {
     "data": {
      "text/html": [
       "<div>\n",
       "<style scoped>\n",
       "    .dataframe tbody tr th:only-of-type {\n",
       "        vertical-align: middle;\n",
       "    }\n",
       "\n",
       "    .dataframe tbody tr th {\n",
       "        vertical-align: top;\n",
       "    }\n",
       "\n",
       "    .dataframe thead th {\n",
       "        text-align: right;\n",
       "    }\n",
       "</style>\n",
       "<table border=\"1\" class=\"dataframe\">\n",
       "  <thead>\n",
       "    <tr style=\"text-align: right;\">\n",
       "      <th></th>\n",
       "      <th>ID</th>\n",
       "      <th>NAME</th>\n",
       "      <th>DOB</th>\n",
       "      <th>NATIONALITY</th>\n",
       "      <th>POSITION</th>\n",
       "      <th>SPEED</th>\n",
       "      <th>STRENGTH</th>\n",
       "      <th>RETIRED</th>\n",
       "    </tr>\n",
       "  </thead>\n",
       "  <tbody>\n",
       "    <tr>\n",
       "      <th>0</th>\n",
       "      <td>1</td>\n",
       "      <td>Nikola Jokic</td>\n",
       "      <td>19-02-1995</td>\n",
       "      <td>SRB</td>\n",
       "      <td>C</td>\n",
       "      <td>63</td>\n",
       "      <td>93</td>\n",
       "      <td>0</td>\n",
       "    </tr>\n",
       "    <tr>\n",
       "      <th>1</th>\n",
       "      <td>2</td>\n",
       "      <td>Bruce Bowen</td>\n",
       "      <td>14-06-1971</td>\n",
       "      <td>USA</td>\n",
       "      <td>SF/SG</td>\n",
       "      <td>83</td>\n",
       "      <td>85</td>\n",
       "      <td>1</td>\n",
       "    </tr>\n",
       "    <tr>\n",
       "      <th>2</th>\n",
       "      <td>3</td>\n",
       "      <td>Giannis Antetokounmpo</td>\n",
       "      <td>06-12-1994</td>\n",
       "      <td>GRC</td>\n",
       "      <td>PF/C</td>\n",
       "      <td>90</td>\n",
       "      <td>94</td>\n",
       "      <td>0</td>\n",
       "    </tr>\n",
       "  </tbody>\n",
       "</table>\n",
       "</div>"
      ],
      "text/plain": [
       "   ID                   NAME         DOB NATIONALITY POSITION  SPEED  \\\n",
       "0   1           Nikola Jokic  19-02-1995         SRB        C     63   \n",
       "1   2            Bruce Bowen  14-06-1971         USA    SF/SG     83   \n",
       "2   3  Giannis Antetokounmpo  06-12-1994         GRC     PF/C     90   \n",
       "\n",
       "   STRENGTH  RETIRED  \n",
       "0        93        0  \n",
       "1        85        1  \n",
       "2        94        0  "
      ]
     },
     "execution_count": 14,
     "metadata": {},
     "output_type": "execute_result"
    }
   ],
   "source": [
    "# get 3 players only\n",
    "pd.read_sql('SELECT * FROM players LIMIT 3', con=con)"
   ]
  },
  {
   "cell_type": "markdown",
   "metadata": {
    "slideshow": {
     "slide_type": "subslide"
    },
    "tags": []
   },
   "source": [
    "### ORDER BY\n",
    "\n",
    "In many analysis, it matters the order by which we retrieve data. As such, we tell SQL to **ORDER BY** some attributes. The **ASC**ending is the default, so it can be omitted; but the **DESC** must be specified for descending order."
   ]
  },
  {
   "cell_type": "code",
   "execution_count": 15,
   "metadata": {
    "slideshow": {
     "slide_type": "fragment"
    },
    "tags": []
   },
   "outputs": [
    {
     "data": {
      "text/html": [
       "<div>\n",
       "<style scoped>\n",
       "    .dataframe tbody tr th:only-of-type {\n",
       "        vertical-align: middle;\n",
       "    }\n",
       "\n",
       "    .dataframe tbody tr th {\n",
       "        vertical-align: top;\n",
       "    }\n",
       "\n",
       "    .dataframe thead th {\n",
       "        text-align: right;\n",
       "    }\n",
       "</style>\n",
       "<table border=\"1\" class=\"dataframe\">\n",
       "  <thead>\n",
       "    <tr style=\"text-align: right;\">\n",
       "      <th></th>\n",
       "      <th>ID</th>\n",
       "      <th>NAME</th>\n",
       "      <th>DOB</th>\n",
       "      <th>NATIONALITY</th>\n",
       "      <th>POSITION</th>\n",
       "      <th>SPEED</th>\n",
       "      <th>STRENGTH</th>\n",
       "      <th>RETIRED</th>\n",
       "    </tr>\n",
       "  </thead>\n",
       "  <tbody>\n",
       "    <tr>\n",
       "      <th>0</th>\n",
       "      <td>3</td>\n",
       "      <td>Giannis Antetokounmpo</td>\n",
       "      <td>06-12-1994</td>\n",
       "      <td>GRC</td>\n",
       "      <td>PF/C</td>\n",
       "      <td>90</td>\n",
       "      <td>94</td>\n",
       "      <td>0</td>\n",
       "    </tr>\n",
       "    <tr>\n",
       "      <th>1</th>\n",
       "      <td>1</td>\n",
       "      <td>Nikola Jokic</td>\n",
       "      <td>19-02-1995</td>\n",
       "      <td>SRB</td>\n",
       "      <td>C</td>\n",
       "      <td>63</td>\n",
       "      <td>93</td>\n",
       "      <td>0</td>\n",
       "    </tr>\n",
       "    <tr>\n",
       "      <th>2</th>\n",
       "      <td>2</td>\n",
       "      <td>Bruce Bowen</td>\n",
       "      <td>14-06-1971</td>\n",
       "      <td>USA</td>\n",
       "      <td>SF/SG</td>\n",
       "      <td>83</td>\n",
       "      <td>85</td>\n",
       "      <td>1</td>\n",
       "    </tr>\n",
       "  </tbody>\n",
       "</table>\n",
       "</div>"
      ],
      "text/plain": [
       "   ID                   NAME         DOB NATIONALITY POSITION  SPEED  \\\n",
       "0   3  Giannis Antetokounmpo  06-12-1994         GRC     PF/C     90   \n",
       "1   1           Nikola Jokic  19-02-1995         SRB        C     63   \n",
       "2   2            Bruce Bowen  14-06-1971         USA    SF/SG     83   \n",
       "\n",
       "   STRENGTH  RETIRED  \n",
       "0        94        0  \n",
       "1        93        0  \n",
       "2        85        1  "
      ]
     },
     "execution_count": 15,
     "metadata": {},
     "output_type": "execute_result"
    }
   ],
   "source": [
    "# top 3 strength\n",
    "pd.read_sql('SELECT * FROM players ORDER BY STRENGTH DESC LIMIT 3', con=con)"
   ]
  },
  {
   "cell_type": "markdown",
   "metadata": {
    "slideshow": {
     "slide_type": "subslide"
    },
    "tags": []
   },
   "source": [
    "### GROUP BY and aggregates\n",
    "\n",
    "We often want to analyze data **per a specific entity** (aka group), instead of at a row (aka record) level. The GROUP BY joins the records that have the same values for the field(s) we specify and we can perform aggregate calculations on top of such data (e.g. COUNT, AVG, MIN, MAX) "
   ]
  },
  {
   "cell_type": "code",
   "execution_count": 16,
   "metadata": {
    "slideshow": {
     "slide_type": "fragment"
    },
    "tags": []
   },
   "outputs": [
    {
     "data": {
      "text/html": [
       "<div>\n",
       "<style scoped>\n",
       "    .dataframe tbody tr th:only-of-type {\n",
       "        vertical-align: middle;\n",
       "    }\n",
       "\n",
       "    .dataframe tbody tr th {\n",
       "        vertical-align: top;\n",
       "    }\n",
       "\n",
       "    .dataframe thead th {\n",
       "        text-align: right;\n",
       "    }\n",
       "</style>\n",
       "<table border=\"1\" class=\"dataframe\">\n",
       "  <thead>\n",
       "    <tr style=\"text-align: right;\">\n",
       "      <th></th>\n",
       "      <th>RETIRED</th>\n",
       "      <th>avg_stg</th>\n",
       "      <th>max_speed</th>\n",
       "    </tr>\n",
       "  </thead>\n",
       "  <tbody>\n",
       "    <tr>\n",
       "      <th>0</th>\n",
       "      <td>0</td>\n",
       "      <td>93.500000</td>\n",
       "      <td>90</td>\n",
       "    </tr>\n",
       "    <tr>\n",
       "      <th>1</th>\n",
       "      <td>1</td>\n",
       "      <td>82.333333</td>\n",
       "      <td>92</td>\n",
       "    </tr>\n",
       "  </tbody>\n",
       "</table>\n",
       "</div>"
      ],
      "text/plain": [
       "   RETIRED    avg_stg  max_speed\n",
       "0        0  93.500000         90\n",
       "1        1  82.333333         92"
      ]
     },
     "execution_count": 16,
     "metadata": {},
     "output_type": "execute_result"
    }
   ],
   "source": [
    "# GROUP BY - With HAVING\n",
    "pd.read_sql('''\n",
    "            SELECT \n",
    "                RETIRED,\n",
    "                AVG(STRENGTH) AS avg_stg,\n",
    "                MAX(SPEED)    AS max_speed\n",
    "            FROM players\n",
    "            GROUP BY RETIRED\n",
    "            ''', con=con)"
   ]
  },
  {
   "cell_type": "markdown",
   "metadata": {
    "slideshow": {
     "slide_type": "fragment"
    },
    "tags": []
   },
   "source": [
    "See how we split our query into multiple lines for an easier reading?"
   ]
  },
  {
   "cell_type": "markdown",
   "metadata": {
    "slideshow": {
     "slide_type": "subslide"
    },
    "tags": []
   },
   "source": [
    "### HAVING\n",
    "\n",
    "The same way WHERE is used to filter rows, HAVING filters data at a group level."
   ]
  },
  {
   "cell_type": "code",
   "execution_count": 17,
   "metadata": {
    "slideshow": {
     "slide_type": "fragment"
    },
    "tags": []
   },
   "outputs": [
    {
     "data": {
      "text/html": [
       "<div>\n",
       "<style scoped>\n",
       "    .dataframe tbody tr th:only-of-type {\n",
       "        vertical-align: middle;\n",
       "    }\n",
       "\n",
       "    .dataframe tbody tr th {\n",
       "        vertical-align: top;\n",
       "    }\n",
       "\n",
       "    .dataframe thead th {\n",
       "        text-align: right;\n",
       "    }\n",
       "</style>\n",
       "<table border=\"1\" class=\"dataframe\">\n",
       "  <thead>\n",
       "    <tr style=\"text-align: right;\">\n",
       "      <th></th>\n",
       "      <th>RETIRED</th>\n",
       "      <th>avg_stg</th>\n",
       "      <th>max_speed</th>\n",
       "    </tr>\n",
       "  </thead>\n",
       "  <tbody>\n",
       "    <tr>\n",
       "      <th>0</th>\n",
       "      <td>1</td>\n",
       "      <td>82.333333</td>\n",
       "      <td>92</td>\n",
       "    </tr>\n",
       "  </tbody>\n",
       "</table>\n",
       "</div>"
      ],
      "text/plain": [
       "   RETIRED    avg_stg  max_speed\n",
       "0        1  82.333333         92"
      ]
     },
     "execution_count": 17,
     "metadata": {},
     "output_type": "execute_result"
    }
   ],
   "source": [
    "# GROUP BY - With HAVING\n",
    "pd.read_sql('''\n",
    "            SELECT \n",
    "                RETIRED,\n",
    "                AVG(STRENGTH) AS avg_stg,\n",
    "                MAX(SPEED)    AS max_speed\n",
    "            FROM players\n",
    "            GROUP BY RETIRED\n",
    "            HAVING max_speed > 91\n",
    "            ''', con=con)"
   ]
  },
  {
   "cell_type": "markdown",
   "metadata": {
    "slideshow": {
     "slide_type": "slide"
    },
    "tags": []
   },
   "source": [
    "## Databases vs Files\n",
    "\n",
    "We've seen how we can use Files in the previous unit to read and store data. Now, the Databases seem like they are also built for reading and writing data. Is one better than the other? When should we use Files and when should we use Databases?\n",
    "\n",
    "Typically, a **Database** is used for related and structured data. Databases are useful when you need to **relate tables**, perform **fast lookups/sorts** by more than one value (leveraging indexes) and perform **read/write** operations by **multiple users** at the same time. \n",
    "\n",
    "**Files** are more appropriate for **unstructed**, **arbitrary or unrelated data**, when you have chunks of data that grow frequently, need other applications to access your data without a specific API or want to use version control on your data.\n",
    "\n",
    "In short, the answer is ***it depends***. Understand your's and your team's need first, then you will be able to know whether Files or Databases are more appropriate."
   ]
  },
  {
   "cell_type": "markdown",
   "metadata": {
    "slideshow": {
     "slide_type": "slide"
    },
    "tags": []
   },
   "source": [
    "## Recap\n",
    "\n",
    "Congratulations, you made it all the way the \"Databases\" unit! By the end of this notebook, you should have a clear idea of:\n",
    "  1.  What are **Databases**;\n",
    "  2.  **Relational and Non-Relational** Databases;\n",
    "  3.  How to bootstrap a project with **SQLite**;\n",
    "  4.  SQL **Queries** and their purpose;\n",
    "  5.  How to decide between **Databases or Files**."
   ]
  }
 ],
 "metadata": {
  "interpreter": {
   "hash": "62450144029c700d9828a520a84c849f57ec997bbb5cd86252d9dcd358a93bcf"
  },
  "kernelspec": {
   "display_name": "Python 3 (ipykernel)",
   "language": "python",
   "name": "python3"
  },
  "language_info": {
   "codemirror_mode": {
    "name": "ipython",
    "version": 3
   },
   "file_extension": ".py",
   "mimetype": "text/x-python",
   "name": "python",
   "nbconvert_exporter": "python",
   "pygments_lexer": "ipython3",
   "version": "3.10.9"
  }
 },
 "nbformat": 4,
 "nbformat_minor": 4
}
