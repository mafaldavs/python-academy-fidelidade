{
 "cells": [
  {
   "cell_type": "markdown",
   "id": "6dc536ad-6d73-4049-a245-a8736190ac02",
   "metadata": {},
   "source": [
    "# Session 3 - Exercises"
   ]
  },
  {
   "cell_type": "markdown",
   "id": "fef98309-b711-423c-b526-1c47033112cd",
   "metadata": {},
   "source": [
    "## Exercise 1 - `open` all things\n",
    "\n",
    "1. Get the type of file `f`. Is this something we case use to get the contents directly?\n",
    "1. Call `f.read()` once. What do you get as a result?\n",
    "1. Call `f.read()` again. What do you get as a result? Were you expecting this?!\n",
    "1. Try reading with `f.readlines()` instead. What differs from the result in step \\#2? "
   ]
  },
  {
   "cell_type": "code",
   "execution_count": 1,
   "id": "7e1a875c-888b-41bd-a084-81021f97deef",
   "metadata": {},
   "outputs": [],
   "source": [
    "# uncomment this\n",
    "f = open('data/spotify_2.csv', 'r')"
   ]
  },
  {
   "cell_type": "code",
   "execution_count": 2,
   "id": "8e938dc7-9fc5-48b3-9d56-f9c52b9bcdfe",
   "metadata": {},
   "outputs": [
    {
     "data": {
      "text/plain": [
       "\"title;artist;top genre;year released;added;bpm;nrgy;dnce;dB;live;val;dur;acous;spch;pop;top year;artist type\\nSTARSTRUKK (feat. Katy Perry);3OH!3;dance pop;2009;2022â€‘02â€‘17;140;81;61;-6;23;23;203;0;6;70;2010;Duo\\nMy First Kiss (feat. Ke$ha);3OH!3;dance pop;2010;2022â€‘02â€‘17;138;89;68;-4;36;83;192;1;8;68;2010;Duo\\nI Need A Dollar;Aloe Blacc;pop soul;2010;2022â€‘02â€‘17;95;48;84;-7;9;96;243;20;3;72;2010;Solo\\nAirplanes (feat. Hayley Williams of Paramore);B.o.B;atl hip hop;2010;2022â€‘02â€‘17;93;87;66;-4;4;38;180;11;12;80;2010;Solo\\nNothin' on You (feat. Bruno Mars);B.o.B;atl hip hop;2010;2022â€‘02â€‘17;104;85;69;-6;9;74;268;39;5;79;2010;Solo\\nMagic (feat. Rivers Cuomo);B.o.B;atl hip hop;2010;2022â€‘02â€‘17;82;93;55;-4;35;79;196;1;34;71;2010;Solo\\nThe Time (Dirty Bit);Black Eyed Peas;dance pop;2010;2022â€‘02â€‘17;128;81;82;-8;60;44;308;7;7;75;2010;Band/Group\\nImma Be;Black Eyed Peas;dance pop;2009;2022â€‘02â€‘17;92;52;60;-7;31;41;258;18;37;71;2010;Band/Group\\nTalking to the Moon;Bruno Mars;dance pop;2010;2022â€‘02â€‘17;146;59;50;-5;11;8;218;51;3;87;2010;Solo\\nJust the Way You Are;Bruno Mars;dance pop;2010;2022â€‘02â€‘17;109;84;64;-5;6;42;221;1;4;86;2010;Solo\\n\""
      ]
     },
     "execution_count": 2,
     "metadata": {},
     "output_type": "execute_result"
    }
   ],
   "source": [
    "### BEGIN SOLUTION\n",
    "#2.\n",
    "f.read()"
   ]
  },
  {
   "cell_type": "code",
   "execution_count": 3,
   "id": "9511c4b0-2afa-44aa-aeb7-d9a58397bb4f",
   "metadata": {},
   "outputs": [
    {
     "data": {
      "text/plain": [
       "''"
      ]
     },
     "execution_count": 3,
     "metadata": {},
     "output_type": "execute_result"
    }
   ],
   "source": [
    "#3.\n",
    "f.read()"
   ]
  },
  {
   "cell_type": "code",
   "execution_count": 4,
   "id": "31f2eacb-6001-4cae-8e2d-ca72080b3c6e",
   "metadata": {},
   "outputs": [
    {
     "data": {
      "text/plain": [
       "[]"
      ]
     },
     "execution_count": 4,
     "metadata": {},
     "output_type": "execute_result"
    }
   ],
   "source": [
    "f.readlines()"
   ]
  },
  {
   "cell_type": "markdown",
   "id": "f3487b25-e4a2-435b-9bbd-0f65a96994a9",
   "metadata": {},
   "source": [
    "### Exercise 2 - `open_file` function\n",
    "\n",
    "As we've seen, the way we open files in python built-in functions is pretty much standardized: we open the file, read its contents into a list of lines, and close the file afterwards. In the \"Functions\" unit, we saw that each code that is reusable for the future should be encapsulated in the future. So, try to:\n",
    "  1. Define the `open_file` function\n",
    "  2. The function should receive a file path as an argument and return a list of strings as content\n",
    "  3. Make sure you *automatically* close the file after usage\n",
    "  4. Bonus. Add the encoding and access mode (used in `open()`) as optional parameters of `open_file`"
   ]
  },
  {
   "cell_type": "markdown",
   "id": "974c66bf-116f-4b73-b045-c538959577d6",
   "metadata": {},
   "source": [
    "# <span style=\"color:red\"> Não consegui o encoding pq nao sei qual usar </span>"
   ]
  },
  {
   "cell_type": "code",
   "execution_count": 15,
   "id": "c3f55996",
   "metadata": {},
   "outputs": [],
   "source": [
    "### BEGIN SOLUTION\n",
    "def open_file(path , mode='r'):\n",
    "    f = open(path,  mode)\n",
    "\n",
    "    # create a list of lines\n",
    "    content = f.readlines()\n",
    "\n",
    "    # close the connection\n",
    "    f.close()\n",
    "    \n",
    "    return content\n",
    "    "
   ]
  },
  {
   "cell_type": "code",
   "execution_count": 16,
   "id": "2d93c0df-a4e0-4593-a5f2-ef5403e6357a",
   "metadata": {},
   "outputs": [
    {
     "data": {
      "text/plain": [
       "['title;artist;top genre;year released;added;bpm;nrgy;dnce;dB;live;val;dur;acous;spch;pop;top year;artist type\\n',\n",
       " 'STARSTRUKK (feat. Katy Perry);3OH!3;dance pop;2009;2022â€‘02â€‘17;140;81;61;-6;23;23;203;0;6;70;2010;Duo\\n',\n",
       " 'My First Kiss (feat. Ke$ha);3OH!3;dance pop;2010;2022â€‘02â€‘17;138;89;68;-4;36;83;192;1;8;68;2010;Duo\\n',\n",
       " 'I Need A Dollar;Aloe Blacc;pop soul;2010;2022â€‘02â€‘17;95;48;84;-7;9;96;243;20;3;72;2010;Solo\\n',\n",
       " 'Airplanes (feat. Hayley Williams of Paramore);B.o.B;atl hip hop;2010;2022â€‘02â€‘17;93;87;66;-4;4;38;180;11;12;80;2010;Solo\\n',\n",
       " \"Nothin' on You (feat. Bruno Mars);B.o.B;atl hip hop;2010;2022â€‘02â€‘17;104;85;69;-6;9;74;268;39;5;79;2010;Solo\\n\",\n",
       " 'Magic (feat. Rivers Cuomo);B.o.B;atl hip hop;2010;2022â€‘02â€‘17;82;93;55;-4;35;79;196;1;34;71;2010;Solo\\n',\n",
       " 'The Time (Dirty Bit);Black Eyed Peas;dance pop;2010;2022â€‘02â€‘17;128;81;82;-8;60;44;308;7;7;75;2010;Band/Group\\n',\n",
       " 'Imma Be;Black Eyed Peas;dance pop;2009;2022â€‘02â€‘17;92;52;60;-7;31;41;258;18;37;71;2010;Band/Group\\n',\n",
       " 'Talking to the Moon;Bruno Mars;dance pop;2010;2022â€‘02â€‘17;146;59;50;-5;11;8;218;51;3;87;2010;Solo\\n',\n",
       " 'Just the Way You Are;Bruno Mars;dance pop;2010;2022â€‘02â€‘17;109;84;64;-5;6;42;221;1;4;86;2010;Solo\\n']"
      ]
     },
     "execution_count": 16,
     "metadata": {},
     "output_type": "execute_result"
    }
   ],
   "source": [
    "open_file('data/spotify_2.csv')"
   ]
  },
  {
   "cell_type": "markdown",
   "id": "d379fb40-b5ca-457d-a0be-efc84dc19152",
   "metadata": {},
   "source": [
    "## Assessment - Data Pre-processing\n",
    "\n",
    "Based on our SportsDB database, calculate the following new columns:\n",
    "- Split the NAME column into FIRST_NAME and LAST_NAME columns\n",
    "- Calculate a boolean column if a player plays in multiple positions (e.g. C is False, but SF/SG is True)\n",
    "- Calculate a PHYSICAL STATS column that sums SPEED and STRENGTH\n",
    "- Bonus: Calculate each player's age"
   ]
  },
  {
   "cell_type": "code",
   "execution_count": 18,
   "id": "c0a05e0c-ae95-4c1f-9e62-c0fb0a1fa788",
   "metadata": {},
   "outputs": [],
   "source": [
    "import sqlite3\n",
    "import pandas as pd"
   ]
  },
  {
   "cell_type": "code",
   "execution_count": 19,
   "id": "05eada82-f432-4358-ae1c-340b71614df3",
   "metadata": {},
   "outputs": [],
   "source": [
    "# establish a connection. creates database if doesn't exist\n",
    "con = sqlite3.connect('data/SportsDB/SportsDB.db')\n",
    "\n",
    "# get the cursor\n",
    "cur = con.cursor()"
   ]
  },
  {
   "cell_type": "code",
   "execution_count": 20,
   "id": "53bb0a7d-5046-4bcc-82cd-310b024815be",
   "metadata": {},
   "outputs": [
    {
     "data": {
      "text/html": [
       "<div>\n",
       "<style scoped>\n",
       "    .dataframe tbody tr th:only-of-type {\n",
       "        vertical-align: middle;\n",
       "    }\n",
       "\n",
       "    .dataframe tbody tr th {\n",
       "        vertical-align: top;\n",
       "    }\n",
       "\n",
       "    .dataframe thead th {\n",
       "        text-align: right;\n",
       "    }\n",
       "</style>\n",
       "<table border=\"1\" class=\"dataframe\">\n",
       "  <thead>\n",
       "    <tr style=\"text-align: right;\">\n",
       "      <th></th>\n",
       "      <th>NAME</th>\n",
       "      <th>DOB</th>\n",
       "      <th>NATIONALITY</th>\n",
       "      <th>POSITION</th>\n",
       "      <th>SPEED</th>\n",
       "      <th>STRENGTH</th>\n",
       "      <th>RETIRED</th>\n",
       "    </tr>\n",
       "  </thead>\n",
       "  <tbody>\n",
       "    <tr>\n",
       "      <th>0</th>\n",
       "      <td>Nikola Jokic</td>\n",
       "      <td>19-02-1995</td>\n",
       "      <td>SRB</td>\n",
       "      <td>C</td>\n",
       "      <td>63</td>\n",
       "      <td>93</td>\n",
       "      <td>False</td>\n",
       "    </tr>\n",
       "    <tr>\n",
       "      <th>1</th>\n",
       "      <td>Bruce Bowen</td>\n",
       "      <td>14-06-1971</td>\n",
       "      <td>USA</td>\n",
       "      <td>SF/SG</td>\n",
       "      <td>83</td>\n",
       "      <td>85</td>\n",
       "      <td>True</td>\n",
       "    </tr>\n",
       "    <tr>\n",
       "      <th>2</th>\n",
       "      <td>Giannis Antetokounmpo</td>\n",
       "      <td>06-12-1994</td>\n",
       "      <td>GRC</td>\n",
       "      <td>PF/C</td>\n",
       "      <td>90</td>\n",
       "      <td>94</td>\n",
       "      <td>False</td>\n",
       "    </tr>\n",
       "    <tr>\n",
       "      <th>3</th>\n",
       "      <td>Dirk Nowitzki</td>\n",
       "      <td>19-06-1978</td>\n",
       "      <td>DEU</td>\n",
       "      <td>PF/C</td>\n",
       "      <td>65</td>\n",
       "      <td>82</td>\n",
       "      <td>True</td>\n",
       "    </tr>\n",
       "    <tr>\n",
       "      <th>4</th>\n",
       "      <td>Manu Ginobili</td>\n",
       "      <td>28-07-1977</td>\n",
       "      <td>ARG</td>\n",
       "      <td>SG/SF</td>\n",
       "      <td>92</td>\n",
       "      <td>80</td>\n",
       "      <td>True</td>\n",
       "    </tr>\n",
       "  </tbody>\n",
       "</table>\n",
       "</div>"
      ],
      "text/plain": [
       "                    NAME         DOB NATIONALITY POSITION  SPEED  STRENGTH  \\\n",
       "0           Nikola Jokic  19-02-1995         SRB        C     63        93   \n",
       "1            Bruce Bowen  14-06-1971         USA    SF/SG     83        85   \n",
       "2  Giannis Antetokounmpo  06-12-1994         GRC     PF/C     90        94   \n",
       "3          Dirk Nowitzki  19-06-1978         DEU     PF/C     65        82   \n",
       "4          Manu Ginobili  28-07-1977         ARG    SG/SF     92        80   \n",
       "\n",
       "   RETIRED  \n",
       "0    False  \n",
       "1     True  \n",
       "2    False  \n",
       "3     True  \n",
       "4     True  "
      ]
     },
     "execution_count": 20,
     "metadata": {},
     "output_type": "execute_result"
    }
   ],
   "source": [
    "players_df = pd.read_csv('data/SportsDB/players.csv')\n",
    "players_df.head()"
   ]
  },
  {
   "cell_type": "code",
   "execution_count": 37,
   "id": "c5eed5f8-1ee5-4673-89b1-ef59d4df5526",
   "metadata": {},
   "outputs": [
    {
     "name": "stderr",
     "output_type": "stream",
     "text": [
      "C:\\Users\\f004658\\AppData\\Local\\Temp\\ipykernel_1364\\3724715770.py:1: FutureWarning: In a future version of pandas all arguments of StringMethods.split except for the argument 'pat' will be keyword-only.\n",
      "  players_df[['FIRST_NAME','LAST_NAME']] = players_df[\"NAME\"].str.split(\" \", 1, expand=True)\n"
     ]
    }
   ],
   "source": [
    "#1 Split the NAME column into FIRST_NAME and LAST_NAME columns\n",
    "players_df[['FIRST_NAME','LAST_NAME']] = players_df[\"NAME\"].str.split(\" \", 1, expand=True)"
   ]
  },
  {
   "cell_type": "code",
   "execution_count": 48,
   "id": "ab91e9d2-a7af-45f0-9a7f-6dfe5a42c5b6",
   "metadata": {},
   "outputs": [],
   "source": [
    "#2 Calculate a boolean column if a player plays in multiple positions (e.g. C is False, but SF/SG is True)\n",
    "players_df['FLAG_MULTIPLE_POS'] = players_df['POSITION'].str.contains(pat='/')"
   ]
  },
  {
   "cell_type": "code",
   "execution_count": 50,
   "id": "026493ab-fab9-43c1-8604-4f4f3737400a",
   "metadata": {},
   "outputs": [],
   "source": [
    "#3 Calculate a PHYSICAL STATS column that sums SPEED and STRENGTH\n",
    "players_df['PHYSICAL_STATS'] = players_df['SPEED'] + players_df['STRENGTH']"
   ]
  },
  {
   "cell_type": "code",
   "execution_count": 52,
   "id": "3fbdc4c8-35ac-4de6-91d7-e792dd90ac34",
   "metadata": {},
   "outputs": [],
   "source": [
    "# 4 Bonus: Calculate each player's age\n",
    "players_df[\"age\"] = players_df[\"dob_datetime\"].apply(lambda x : (pd.datetime.now().year - x.year))"
   ]
  },
  {
   "cell_type": "code",
   "execution_count": 76,
   "id": "af2bd586-1f35-4e71-983c-89e37dbabf9a",
   "metadata": {},
   "outputs": [
    {
     "data": {
      "text/html": [
       "<div>\n",
       "<style scoped>\n",
       "    .dataframe tbody tr th:only-of-type {\n",
       "        vertical-align: middle;\n",
       "    }\n",
       "\n",
       "    .dataframe tbody tr th {\n",
       "        vertical-align: top;\n",
       "    }\n",
       "\n",
       "    .dataframe thead th {\n",
       "        text-align: right;\n",
       "    }\n",
       "</style>\n",
       "<table border=\"1\" class=\"dataframe\">\n",
       "  <thead>\n",
       "    <tr style=\"text-align: right;\">\n",
       "      <th></th>\n",
       "      <th>NAME</th>\n",
       "      <th>DOB</th>\n",
       "      <th>NATIONALITY</th>\n",
       "      <th>POSITION</th>\n",
       "      <th>SPEED</th>\n",
       "      <th>STRENGTH</th>\n",
       "      <th>RETIRED</th>\n",
       "      <th>FIRST_NAME</th>\n",
       "      <th>LAST_NAME</th>\n",
       "      <th>FLAG_MULTIPLE_POS</th>\n",
       "      <th>PHYSICAL_STATS</th>\n",
       "      <th>dob_datetime</th>\n",
       "      <th>age</th>\n",
       "    </tr>\n",
       "  </thead>\n",
       "  <tbody>\n",
       "    <tr>\n",
       "      <th>0</th>\n",
       "      <td>Nikola Jokic</td>\n",
       "      <td>19-02-1995</td>\n",
       "      <td>SRB</td>\n",
       "      <td>C</td>\n",
       "      <td>63</td>\n",
       "      <td>93</td>\n",
       "      <td>False</td>\n",
       "      <td>Nikola</td>\n",
       "      <td>Jokic</td>\n",
       "      <td>False</td>\n",
       "      <td>156</td>\n",
       "      <td>1995-02-19</td>\n",
       "      <td>28</td>\n",
       "    </tr>\n",
       "    <tr>\n",
       "      <th>1</th>\n",
       "      <td>Bruce Bowen</td>\n",
       "      <td>14-06-1971</td>\n",
       "      <td>USA</td>\n",
       "      <td>SF/SG</td>\n",
       "      <td>83</td>\n",
       "      <td>85</td>\n",
       "      <td>True</td>\n",
       "      <td>Bruce</td>\n",
       "      <td>Bowen</td>\n",
       "      <td>True</td>\n",
       "      <td>168</td>\n",
       "      <td>1971-06-14</td>\n",
       "      <td>52</td>\n",
       "    </tr>\n",
       "    <tr>\n",
       "      <th>2</th>\n",
       "      <td>Giannis Antetokounmpo</td>\n",
       "      <td>06-12-1994</td>\n",
       "      <td>GRC</td>\n",
       "      <td>PF/C</td>\n",
       "      <td>90</td>\n",
       "      <td>94</td>\n",
       "      <td>False</td>\n",
       "      <td>Giannis</td>\n",
       "      <td>Antetokounmpo</td>\n",
       "      <td>True</td>\n",
       "      <td>184</td>\n",
       "      <td>1994-12-06</td>\n",
       "      <td>29</td>\n",
       "    </tr>\n",
       "    <tr>\n",
       "      <th>3</th>\n",
       "      <td>Dirk Nowitzki</td>\n",
       "      <td>19-06-1978</td>\n",
       "      <td>DEU</td>\n",
       "      <td>PF/C</td>\n",
       "      <td>65</td>\n",
       "      <td>82</td>\n",
       "      <td>True</td>\n",
       "      <td>Dirk</td>\n",
       "      <td>Nowitzki</td>\n",
       "      <td>True</td>\n",
       "      <td>147</td>\n",
       "      <td>1978-06-19</td>\n",
       "      <td>45</td>\n",
       "    </tr>\n",
       "    <tr>\n",
       "      <th>4</th>\n",
       "      <td>Manu Ginobili</td>\n",
       "      <td>28-07-1977</td>\n",
       "      <td>ARG</td>\n",
       "      <td>SG/SF</td>\n",
       "      <td>92</td>\n",
       "      <td>80</td>\n",
       "      <td>True</td>\n",
       "      <td>Manu</td>\n",
       "      <td>Ginobili</td>\n",
       "      <td>True</td>\n",
       "      <td>172</td>\n",
       "      <td>1977-07-28</td>\n",
       "      <td>46</td>\n",
       "    </tr>\n",
       "  </tbody>\n",
       "</table>\n",
       "</div>"
      ],
      "text/plain": [
       "                    NAME         DOB NATIONALITY POSITION  SPEED  STRENGTH  \\\n",
       "0           Nikola Jokic  19-02-1995         SRB        C     63        93   \n",
       "1            Bruce Bowen  14-06-1971         USA    SF/SG     83        85   \n",
       "2  Giannis Antetokounmpo  06-12-1994         GRC     PF/C     90        94   \n",
       "3          Dirk Nowitzki  19-06-1978         DEU     PF/C     65        82   \n",
       "4          Manu Ginobili  28-07-1977         ARG    SG/SF     92        80   \n",
       "\n",
       "   RETIRED FIRST_NAME      LAST_NAME  FLAG_MULTIPLE_POS  PHYSICAL_STATS  \\\n",
       "0    False     Nikola          Jokic              False             156   \n",
       "1     True      Bruce          Bowen               True             168   \n",
       "2    False    Giannis  Antetokounmpo               True             184   \n",
       "3     True       Dirk       Nowitzki               True             147   \n",
       "4     True       Manu       Ginobili               True             172   \n",
       "\n",
       "  dob_datetime  age  \n",
       "0   1995-02-19   28  \n",
       "1   1971-06-14   52  \n",
       "2   1994-12-06   29  \n",
       "3   1978-06-19   45  \n",
       "4   1977-07-28   46  "
      ]
     },
     "execution_count": 76,
     "metadata": {},
     "output_type": "execute_result"
    }
   ],
   "source": [
    "players_df.head()"
   ]
  },
  {
   "cell_type": "markdown",
   "id": "437b194d-ff1d-4fcd-a2b4-7f8b7c430f2b",
   "metadata": {},
   "source": [
    "## Session 2 - Databases\n",
    "\n",
    "*Make sure you run the Learning Notebook 03-databases first to guarantee the SportsDb database is created.*\n",
    "\n",
    "Using `pandas` and `sqlite3`, perform the following Data Analysis in our dataset:\n",
    "- What is the strongest player? What about the fastest?\n",
    "- Get the retired players born outside the USA\n",
    "- What is the average speed and strength?\n",
    "- What is the max speed and strength per RETIRED status?\n",
    "- Add the `new_players` DataFrame (code below) to our Database. Do not override the data we already have. Check insert operation was correct."
   ]
  },
  {
   "cell_type": "code",
   "execution_count": 78,
   "id": "4fe65586-bd1e-4f74-a3dd-75f1718f2ed6",
   "metadata": {},
   "outputs": [],
   "source": [
    "import sqlite3\n",
    "import pandas as pd"
   ]
  },
  {
   "cell_type": "code",
   "execution_count": 79,
   "id": "3007e302-58bf-4249-94fe-55ecce0536c2",
   "metadata": {},
   "outputs": [],
   "source": [
    "# establish a connection. creates database if doesn't exist\n",
    "con = sqlite3.connect('data/SportsDB/SportsDB.db')\n",
    "\n",
    "# get the cursor\n",
    "cur = con.cursor()"
   ]
  },
  {
   "cell_type": "code",
   "execution_count": 90,
   "id": "ef5c9015-756b-4d71-9122-a9d8df86e701",
   "metadata": {},
   "outputs": [],
   "source": [
    "# new players dataframe\n",
    "new_players = pd.DataFrame.from_dict(\n",
    "    {'NAME': ['Tony Parker'],\n",
    "     'DOB': ['17-05-1982'],\n",
    "     'NATIONALITY': ['FRA'],\n",
    "     'POSITION': ['PG'],\n",
    "     'SPEED': [99],\n",
    "     'STRENGTH': [50],\n",
    "     'RETIRED': [1]}\n",
    ")"
   ]
  },
  {
   "cell_type": "code",
   "execution_count": 84,
   "id": "6f879271-6623-457f-b43b-1d0fa8969143",
   "metadata": {},
   "outputs": [
    {
     "data": {
      "text/html": [
       "<div>\n",
       "<style scoped>\n",
       "    .dataframe tbody tr th:only-of-type {\n",
       "        vertical-align: middle;\n",
       "    }\n",
       "\n",
       "    .dataframe tbody tr th {\n",
       "        vertical-align: top;\n",
       "    }\n",
       "\n",
       "    .dataframe thead th {\n",
       "        text-align: right;\n",
       "    }\n",
       "</style>\n",
       "<table border=\"1\" class=\"dataframe\">\n",
       "  <thead>\n",
       "    <tr style=\"text-align: right;\">\n",
       "      <th></th>\n",
       "      <th>ID</th>\n",
       "      <th>NAME</th>\n",
       "      <th>DOB</th>\n",
       "      <th>NATIONALITY</th>\n",
       "      <th>POSITION</th>\n",
       "      <th>SPEED</th>\n",
       "      <th>STRENGTH</th>\n",
       "      <th>RETIRED</th>\n",
       "    </tr>\n",
       "  </thead>\n",
       "  <tbody>\n",
       "    <tr>\n",
       "      <th>0</th>\n",
       "      <td>1</td>\n",
       "      <td>Nikola Jokic</td>\n",
       "      <td>19-02-1995</td>\n",
       "      <td>SRB</td>\n",
       "      <td>C</td>\n",
       "      <td>63</td>\n",
       "      <td>93</td>\n",
       "      <td>0</td>\n",
       "    </tr>\n",
       "    <tr>\n",
       "      <th>1</th>\n",
       "      <td>2</td>\n",
       "      <td>Bruce Bowen</td>\n",
       "      <td>14-06-1971</td>\n",
       "      <td>USA</td>\n",
       "      <td>SF/SG</td>\n",
       "      <td>83</td>\n",
       "      <td>85</td>\n",
       "      <td>1</td>\n",
       "    </tr>\n",
       "    <tr>\n",
       "      <th>2</th>\n",
       "      <td>3</td>\n",
       "      <td>Giannis Antetokounmpo</td>\n",
       "      <td>06-12-1994</td>\n",
       "      <td>GRC</td>\n",
       "      <td>PF/C</td>\n",
       "      <td>90</td>\n",
       "      <td>94</td>\n",
       "      <td>0</td>\n",
       "    </tr>\n",
       "    <tr>\n",
       "      <th>3</th>\n",
       "      <td>4</td>\n",
       "      <td>Dirk Nowitzki</td>\n",
       "      <td>19-06-1978</td>\n",
       "      <td>DEU</td>\n",
       "      <td>PF/C</td>\n",
       "      <td>65</td>\n",
       "      <td>82</td>\n",
       "      <td>1</td>\n",
       "    </tr>\n",
       "    <tr>\n",
       "      <th>4</th>\n",
       "      <td>5</td>\n",
       "      <td>Manu Ginobili</td>\n",
       "      <td>28-07-1977</td>\n",
       "      <td>ARG</td>\n",
       "      <td>SG/SF</td>\n",
       "      <td>92</td>\n",
       "      <td>80</td>\n",
       "      <td>1</td>\n",
       "    </tr>\n",
       "  </tbody>\n",
       "</table>\n",
       "</div>"
      ],
      "text/plain": [
       "   ID                   NAME         DOB NATIONALITY POSITION  SPEED  \\\n",
       "0   1           Nikola Jokic  19-02-1995         SRB        C     63   \n",
       "1   2            Bruce Bowen  14-06-1971         USA    SF/SG     83   \n",
       "2   3  Giannis Antetokounmpo  06-12-1994         GRC     PF/C     90   \n",
       "3   4          Dirk Nowitzki  19-06-1978         DEU     PF/C     65   \n",
       "4   5          Manu Ginobili  28-07-1977         ARG    SG/SF     92   \n",
       "\n",
       "   STRENGTH  RETIRED  \n",
       "0        93        0  \n",
       "1        85        1  \n",
       "2        94        0  \n",
       "3        82        1  \n",
       "4        80        1  "
      ]
     },
     "execution_count": 84,
     "metadata": {},
     "output_type": "execute_result"
    }
   ],
   "source": [
    "pd.read_sql('''\n",
    "            SELECT *\n",
    "            FROM  players\n",
    "            \n",
    "            ''', con=con)"
   ]
  },
  {
   "cell_type": "code",
   "execution_count": 85,
   "id": "53a7fd00-5149-4812-a8a4-7758565fa4da",
   "metadata": {},
   "outputs": [
    {
     "data": {
      "text/html": [
       "<div>\n",
       "<style scoped>\n",
       "    .dataframe tbody tr th:only-of-type {\n",
       "        vertical-align: middle;\n",
       "    }\n",
       "\n",
       "    .dataframe tbody tr th {\n",
       "        vertical-align: top;\n",
       "    }\n",
       "\n",
       "    .dataframe thead th {\n",
       "        text-align: right;\n",
       "    }\n",
       "</style>\n",
       "<table border=\"1\" class=\"dataframe\">\n",
       "  <thead>\n",
       "    <tr style=\"text-align: right;\">\n",
       "      <th></th>\n",
       "      <th>NAME</th>\n",
       "      <th>max_strength</th>\n",
       "    </tr>\n",
       "  </thead>\n",
       "  <tbody>\n",
       "    <tr>\n",
       "      <th>0</th>\n",
       "      <td>Giannis Antetokounmpo</td>\n",
       "      <td>94</td>\n",
       "    </tr>\n",
       "  </tbody>\n",
       "</table>\n",
       "</div>"
      ],
      "text/plain": [
       "                    NAME  max_strength\n",
       "0  Giannis Antetokounmpo            94"
      ]
     },
     "execution_count": 85,
     "metadata": {},
     "output_type": "execute_result"
    }
   ],
   "source": [
    "### What is the strongest player? \n",
    "pd.read_sql('''\n",
    "            SELECT name, max(strength) as max_strength\n",
    "            FROM  players\n",
    "            group by 1\n",
    "            ORDER BY max_strength DESC\n",
    "            limit 1\n",
    "            \n",
    "            ''', con=con)"
   ]
  },
  {
   "cell_type": "code",
   "execution_count": 86,
   "id": "72848f5f-0ce2-4b1d-a28a-9929e27a11e7",
   "metadata": {},
   "outputs": [
    {
     "data": {
      "text/html": [
       "<div>\n",
       "<style scoped>\n",
       "    .dataframe tbody tr th:only-of-type {\n",
       "        vertical-align: middle;\n",
       "    }\n",
       "\n",
       "    .dataframe tbody tr th {\n",
       "        vertical-align: top;\n",
       "    }\n",
       "\n",
       "    .dataframe thead th {\n",
       "        text-align: right;\n",
       "    }\n",
       "</style>\n",
       "<table border=\"1\" class=\"dataframe\">\n",
       "  <thead>\n",
       "    <tr style=\"text-align: right;\">\n",
       "      <th></th>\n",
       "      <th>NAME</th>\n",
       "      <th>max_speed</th>\n",
       "    </tr>\n",
       "  </thead>\n",
       "  <tbody>\n",
       "    <tr>\n",
       "      <th>0</th>\n",
       "      <td>Manu Ginobili</td>\n",
       "      <td>92</td>\n",
       "    </tr>\n",
       "  </tbody>\n",
       "</table>\n",
       "</div>"
      ],
      "text/plain": [
       "            NAME  max_speed\n",
       "0  Manu Ginobili         92"
      ]
     },
     "execution_count": 86,
     "metadata": {},
     "output_type": "execute_result"
    }
   ],
   "source": [
    "###  What about the fastest?\n",
    "pd.read_sql('''\n",
    "            SELECT name, max(speed) as max_speed\n",
    "            FROM  players\n",
    "            group by 1\n",
    "            ORDER BY max_speed DESC\n",
    "            limit 1\n",
    "            \n",
    "            ''', con=con)"
   ]
  },
  {
   "cell_type": "code",
   "execution_count": 87,
   "id": "d7a13a54-d5d3-41d2-b78b-f22b8eff741a",
   "metadata": {},
   "outputs": [
    {
     "data": {
      "text/html": [
       "<div>\n",
       "<style scoped>\n",
       "    .dataframe tbody tr th:only-of-type {\n",
       "        vertical-align: middle;\n",
       "    }\n",
       "\n",
       "    .dataframe tbody tr th {\n",
       "        vertical-align: top;\n",
       "    }\n",
       "\n",
       "    .dataframe thead th {\n",
       "        text-align: right;\n",
       "    }\n",
       "</style>\n",
       "<table border=\"1\" class=\"dataframe\">\n",
       "  <thead>\n",
       "    <tr style=\"text-align: right;\">\n",
       "      <th></th>\n",
       "      <th>ID</th>\n",
       "      <th>NAME</th>\n",
       "      <th>DOB</th>\n",
       "      <th>NATIONALITY</th>\n",
       "      <th>POSITION</th>\n",
       "      <th>SPEED</th>\n",
       "      <th>STRENGTH</th>\n",
       "      <th>RETIRED</th>\n",
       "    </tr>\n",
       "  </thead>\n",
       "  <tbody>\n",
       "    <tr>\n",
       "      <th>0</th>\n",
       "      <td>4</td>\n",
       "      <td>Dirk Nowitzki</td>\n",
       "      <td>19-06-1978</td>\n",
       "      <td>DEU</td>\n",
       "      <td>PF/C</td>\n",
       "      <td>65</td>\n",
       "      <td>82</td>\n",
       "      <td>1</td>\n",
       "    </tr>\n",
       "    <tr>\n",
       "      <th>1</th>\n",
       "      <td>5</td>\n",
       "      <td>Manu Ginobili</td>\n",
       "      <td>28-07-1977</td>\n",
       "      <td>ARG</td>\n",
       "      <td>SG/SF</td>\n",
       "      <td>92</td>\n",
       "      <td>80</td>\n",
       "      <td>1</td>\n",
       "    </tr>\n",
       "  </tbody>\n",
       "</table>\n",
       "</div>"
      ],
      "text/plain": [
       "   ID           NAME         DOB NATIONALITY POSITION  SPEED  STRENGTH  \\\n",
       "0   4  Dirk Nowitzki  19-06-1978         DEU     PF/C     65        82   \n",
       "1   5  Manu Ginobili  28-07-1977         ARG    SG/SF     92        80   \n",
       "\n",
       "   RETIRED  \n",
       "0        1  \n",
       "1        1  "
      ]
     },
     "execution_count": 87,
     "metadata": {},
     "output_type": "execute_result"
    }
   ],
   "source": [
    "#Get the retired players born outside the USA\n",
    "pd.read_sql('''\n",
    "            SELECT *\n",
    "            FROM  players\n",
    "            where retired = 1 and nationality not in ('USA')            \n",
    "            ''', con=con)"
   ]
  },
  {
   "cell_type": "code",
   "execution_count": 88,
   "id": "bc6b2ad1-1ae4-4ea4-975d-04196df64614",
   "metadata": {},
   "outputs": [
    {
     "data": {
      "text/html": [
       "<div>\n",
       "<style scoped>\n",
       "    .dataframe tbody tr th:only-of-type {\n",
       "        vertical-align: middle;\n",
       "    }\n",
       "\n",
       "    .dataframe tbody tr th {\n",
       "        vertical-align: top;\n",
       "    }\n",
       "\n",
       "    .dataframe thead th {\n",
       "        text-align: right;\n",
       "    }\n",
       "</style>\n",
       "<table border=\"1\" class=\"dataframe\">\n",
       "  <thead>\n",
       "    <tr style=\"text-align: right;\">\n",
       "      <th></th>\n",
       "      <th>avg_speed</th>\n",
       "      <th>avg_strenght</th>\n",
       "    </tr>\n",
       "  </thead>\n",
       "  <tbody>\n",
       "    <tr>\n",
       "      <th>0</th>\n",
       "      <td>78.6</td>\n",
       "      <td>86.8</td>\n",
       "    </tr>\n",
       "  </tbody>\n",
       "</table>\n",
       "</div>"
      ],
      "text/plain": [
       "   avg_speed  avg_strenght\n",
       "0       78.6          86.8"
      ]
     },
     "execution_count": 88,
     "metadata": {},
     "output_type": "execute_result"
    }
   ],
   "source": [
    "#What is the average speed and strength?\n",
    "pd.read_sql('''\n",
    "            SELECT avg(speed) as avg_speed, avg(strength) as avg_strenght\n",
    "            FROM  players       \n",
    "            ''', con=con)"
   ]
  },
  {
   "cell_type": "code",
   "execution_count": null,
   "id": "849437f5-5fd8-4459-8f19-4749f80eed1a",
   "metadata": {},
   "outputs": [],
   "source": [
    "# What is the max speed and strength per RETIRED status?"
   ]
  },
  {
   "cell_type": "code",
   "execution_count": 89,
   "id": "748c8ab2-de8f-4af4-95d4-997e4e1c0ab3",
   "metadata": {},
   "outputs": [
    {
     "data": {
      "text/html": [
       "<div>\n",
       "<style scoped>\n",
       "    .dataframe tbody tr th:only-of-type {\n",
       "        vertical-align: middle;\n",
       "    }\n",
       "\n",
       "    .dataframe tbody tr th {\n",
       "        vertical-align: top;\n",
       "    }\n",
       "\n",
       "    .dataframe thead th {\n",
       "        text-align: right;\n",
       "    }\n",
       "</style>\n",
       "<table border=\"1\" class=\"dataframe\">\n",
       "  <thead>\n",
       "    <tr style=\"text-align: right;\">\n",
       "      <th></th>\n",
       "      <th>RETIRED</th>\n",
       "      <th>avg_speed</th>\n",
       "      <th>avg_strenght</th>\n",
       "    </tr>\n",
       "  </thead>\n",
       "  <tbody>\n",
       "    <tr>\n",
       "      <th>0</th>\n",
       "      <td>0</td>\n",
       "      <td>76.5</td>\n",
       "      <td>93.500000</td>\n",
       "    </tr>\n",
       "    <tr>\n",
       "      <th>1</th>\n",
       "      <td>1</td>\n",
       "      <td>80.0</td>\n",
       "      <td>82.333333</td>\n",
       "    </tr>\n",
       "  </tbody>\n",
       "</table>\n",
       "</div>"
      ],
      "text/plain": [
       "   RETIRED  avg_speed  avg_strenght\n",
       "0        0       76.5     93.500000\n",
       "1        1       80.0     82.333333"
      ]
     },
     "execution_count": 89,
     "metadata": {},
     "output_type": "execute_result"
    }
   ],
   "source": [
    "pd.read_sql('''\n",
    "            SELECT retired, avg(speed) as avg_speed, avg(strength) as avg_strenght\n",
    "            FROM  players \n",
    "            group by 1\n",
    "            ''', con=con)"
   ]
  },
  {
   "cell_type": "code",
   "execution_count": 91,
   "id": "afc3508c-e6fb-41f7-abba-503120bb233a",
   "metadata": {},
   "outputs": [
    {
     "data": {
      "text/plain": [
       "[(1, 'Nikola Jokic', '19-02-1995', 'SRB', 'C', 63, 93, 0),\n",
       " (2, 'Bruce Bowen', '14-06-1971', 'USA', 'SF/SG', 83, 85, 1),\n",
       " (3, 'Giannis Antetokounmpo', '06-12-1994', 'GRC', 'PF/C', 90, 94, 0),\n",
       " (4, 'Dirk Nowitzki', '19-06-1978', 'DEU', 'PF/C', 65, 82, 1),\n",
       " (5, 'Manu Ginobili', '28-07-1977', 'ARG', 'SG/SF', 92, 80, 1),\n",
       " (6, 'Tony Parker', '17-05-1982', 'FRA', 'PG', 99, 50, 1)]"
      ]
     },
     "execution_count": 91,
     "metadata": {},
     "output_type": "execute_result"
    }
   ],
   "source": [
    "#Add the new_players DataFrame (code below) to our Database. Do not override the data we already have. Check insert operation was correct.\n",
    "new_players.to_sql(\"players\", con=con, if_exists='append', index=False)\n",
    "cur.execute(\"SELECT * FROM players\").fetchall()"
   ]
  }
 ],
 "metadata": {
  "kernelspec": {
   "display_name": "Python 3 (ipykernel)",
   "language": "python",
   "name": "python3"
  },
  "language_info": {
   "codemirror_mode": {
    "name": "ipython",
    "version": 3
   },
   "file_extension": ".py",
   "mimetype": "text/x-python",
   "name": "python",
   "nbconvert_exporter": "python",
   "pygments_lexer": "ipython3",
   "version": "3.10.9"
  }
 },
 "nbformat": 4,
 "nbformat_minor": 5
}
