{
 "cells": [
  {
   "cell_type": "markdown",
   "metadata": {
    "slideshow": {
     "slide_type": "slide"
    },
    "tags": []
   },
   "source": [
    "# Python Environments\n",
    "\n",
    "Welcome to the \"Python Environments\" unit! In this unit, we will learn:\n",
    "- Environments 101\n",
    "- Environment Managers for Python\n",
    "- Collaboration with Environments"
   ]
  },
  {
   "cell_type": "code",
   "execution_count": null,
   "metadata": {
    "slideshow": {
     "slide_type": "skip"
    },
    "tags": []
   },
   "outputs": [],
   "source": [
    "import pandas as pd\n",
    "import numpy as np"
   ]
  },
  {
   "cell_type": "markdown",
   "metadata": {
    "slideshow": {
     "slide_type": "slide"
    },
    "tags": []
   },
   "source": [
    "## Environments 101"
   ]
  },
  {
   "cell_type": "markdown",
   "metadata": {
    "slideshow": {
     "slide_type": "notes"
    },
    "tags": []
   },
   "source": [
    "Imagine the following scenarios:\n",
    "\n",
    "1. You just developed an awesome model, you send it to your colleague and it crashes\n",
    "2. You receive a brand new laptop, and it takes you 2 days to configure your Python to work as before\n",
    "3. You need to develop locally and upload your application to somewhere else\n",
    "\n",
    "What do they all have in common? That's right, **they could be all solved by using environments**."
   ]
  },
  {
   "cell_type": "markdown",
   "metadata": {},
   "source": [
    "<div class=\"alert alert-info\">\n",
    "    &#9432; <strong>Environments</strong> are collections of packages, dependencies, libraries, and all the software you need to run code. \n",
    "</div>"
   ]
  },
  {
   "cell_type": "markdown",
   "metadata": {
    "slideshow": {
     "slide_type": "notes"
    },
    "tags": []
   },
   "source": [
    "Applications will often use packages that don't come as part of the standard library (i.e. Python vanilla) and they sometimes require specific version of a library. This means it may not be possible for one Python installation to meet the requirements of every application. Also, packages evolve through time and their changes may break your code if we are not careful enough."
   ]
  },
  {
   "cell_type": "markdown",
   "metadata": {
    "slideshow": {
     "slide_type": "notes"
    },
    "tags": []
   },
   "source": [
    "Seems complicated? Let's get a real life example."
   ]
  },
  {
   "cell_type": "markdown",
   "metadata": {
    "slideshow": {
     "slide_type": "subslide"
    },
    "tags": []
   },
   "source": [
    "### Natural Environments\n",
    "\n",
    "\n",
    "<p float=\"left\">\n",
    "    <img src=media/beach-water.jpg alt=\"Photo by Mink Mingle on Unsplash\" width=200>\n",
    "    <img src=media/forest.jpg alt=\"Photo by Federico Bottos on Unsplash\" width=200>\n",
    "</p>"
   ]
  },
  {
   "cell_type": "markdown",
   "metadata": {
    "slideshow": {
     "slide_type": "notes"
    },
    "tags": []
   },
   "source": [
    "Let's say we have two natural environments: a beach and a forest, that are far apart. The beach has water, sand, seashells; while the forest has plenty of wood, leaves and grass available.\n",
    "\n",
    "**Environments are great because we can know what surround us**, what we can (and cannot) use. \n",
    "We can build a nice sand sculpture in the beach, using the water and the sand. And we can build a nice picnic table in the forest, using the wood.\n",
    "But we cannot craft boats in the beach, because we don't have the wood to do it. Nor can we craft seashell necklaces in the forest, because we lack the specific resources in that environment. \n",
    "\n",
    "So, we need to move stuff around. We can plant trees near the beach to have the wood for the canoes. And we can move some seashells back to the forest to decorate our picnic table."
   ]
  },
  {
   "cell_type": "markdown",
   "metadata": {
    "slideshow": {
     "slide_type": "notes"
    },
    "tags": []
   },
   "source": [
    "The wood for the canoe is a **dependency**: you need (i.e. depend on) wood to build your boat. Without wood, there is no canoe."
   ]
  },
  {
   "cell_type": "markdown",
   "metadata": {
    "slideshow": {
     "slide_type": "subslide"
    },
    "tags": []
   },
   "source": [
    "<img src=media/beach-trees.jpg title=\"Photo by Matthew Brodeur on Unsplash\" width=300 />"
   ]
  },
  {
   "cell_type": "markdown",
   "metadata": {
    "slideshow": {
     "slide_type": "notes"
    },
    "tags": []
   },
   "source": [
    "A dependency can target multiple things: if instead of a canoe we want to build a sailboat, we will need the tree leaves on top of the wood to build the sails."
   ]
  },
  {
   "cell_type": "markdown",
   "metadata": {
    "slideshow": {
     "slide_type": "fragment"
    },
    "tags": []
   },
   "source": [
    "**Different environments are useful for different stuff**: a boat is awesome to have on a beach but it is useless in the forest."
   ]
  },
  {
   "cell_type": "markdown",
   "metadata": {
    "slideshow": {
     "slide_type": "subslide"
    },
    "tags": []
   },
   "source": [
    "### Coding Environments"
   ]
  },
  {
   "cell_type": "markdown",
   "metadata": {
    "slideshow": {
     "slide_type": "notes"
    },
    "tags": []
   },
   "source": [
    "Now let's go back to the code. \n",
    "\n",
    "Some packages work as useful resources: we'll need scikit-learn to build ML models, pandas to handle data, etc.."
   ]
  },
  {
   "cell_type": "code",
   "execution_count": null,
   "metadata": {
    "slideshow": {
     "slide_type": "fragment"
    },
    "tags": []
   },
   "outputs": [],
   "source": [
    "# Typical DS import\n",
    "import pandas as pd\n",
    "from sklearn.linear_model import LinearRegression"
   ]
  },
  {
   "cell_type": "markdown",
   "metadata": {
    "slideshow": {
     "slide_type": "notes"
    },
    "tags": []
   },
   "source": [
    "Instead of the natural environments, we can create our own **development environments**: virtual habitats were can do stuff and build applications **IF** we have the resources to do them."
   ]
  },
  {
   "cell_type": "markdown",
   "metadata": {
    "slideshow": {
     "slide_type": "fragment"
    },
    "tags": []
   },
   "source": [
    "\n",
    "<div class=\"alert alert-info\">\n",
    "    &#9432; An <strong>environment</strong> should be self-contained: everything inside it depends only on things that are within the same environment.\n",
    "</div>"
   ]
  },
  {
   "cell_type": "markdown",
   "metadata": {
    "slideshow": {
     "slide_type": "fragment"
    },
    "tags": []
   },
   "source": [
    "<img src=media/envsAB.png width=400>"
   ]
  },
  {
   "cell_type": "markdown",
   "metadata": {
    "slideshow": {
     "slide_type": "notes"
    },
    "tags": []
   },
   "source": [
    "Just like the natural environments, resources (i.e. packages) that exist only in one environment will (and should) not be available outside the environment's scope. We can run `pandas` and `scikit-learn` code on `EnvironmentA` but we cannot plot graphs with `altair`, because this package is only available in `EnvironmentB`.\n",
    "\n",
    "The usefulness will be clearer in later stages. For now, just remember: **everything to its environment**."
   ]
  },
  {
   "cell_type": "markdown",
   "metadata": {
    "slideshow": {
     "slide_type": "slide"
    },
    "tags": []
   },
   "source": [
    "## Environment Managers for Python\n",
    "\n"
   ]
  },
  {
   "cell_type": "markdown",
   "metadata": {
    "slideshow": {
     "slide_type": "fragment"
    },
    "tags": []
   },
   "source": [
    "We leverage **Environment Managers** to handle all the heavy stuff of dealing with virtual environments. They allow us to:\n",
    "\n",
    "1. Install/upgrade/downgrade/delete **packages**;\n",
    "2. **Dependency** resolution, i.e. determining which version of a dependency to install;\n",
    "3. **Reproduction** of environments, allowing to run projects with different dependencies on the same machine;"
   ]
  },
  {
   "cell_type": "markdown",
   "metadata": {
    "slideshow": {
     "slide_type": "skip"
    },
    "tags": []
   },
   "source": [
    "We will focus on [Conda](https://docs.conda.io/en/latest/), an open source environment management system that runs on multiple operating systems (Windows, macOS, Linux) for any language (e.g. Python, R, Julia).\n",
    "\n",
    "For completeness, there are other alternatives you can also explore on your own like [venv](https://docs.python.org/3/library/venv.html), [Virtualenv](https://virtualenv.pypa.io/en/latest/), [Pipenv](https://pypi.org/project/pipenv/) or [Poetry](https://python-poetry.org/docs/)."
   ]
  },
  {
   "cell_type": "markdown",
   "metadata": {
    "slideshow": {
     "slide_type": "subslide"
    },
    "tags": []
   },
   "source": [
    "Since notebooks are not very useful for running the next set of commands, **let's switch to a terminal**! "
   ]
  },
  {
   "cell_type": "markdown",
   "metadata": {
    "slideshow": {
     "slide_type": "notes"
    },
    "tags": []
   },
   "source": [
    "You should have something available like the screen below, a command line interface where you can run text commands."
   ]
  },
  {
   "cell_type": "markdown",
   "metadata": {
    "slideshow": {
     "slide_type": "fragment"
    },
    "tags": []
   },
   "source": [
    "![terminal](media/terminal.png)"
   ]
  },
  {
   "cell_type": "markdown",
   "metadata": {
    "slideshow": {
     "slide_type": "skip"
    },
    "tags": []
   },
   "source": [
    "### Verify installation\n",
    "\n",
    "Make sure conda is installed and running. You should get the number of the Anaconda version installed, like \"conda 4.12.0\".\n",
    "\n",
    "```\n",
    "$ conda --version\n",
    "```\n"
   ]
  },
  {
   "cell_type": "markdown",
   "metadata": {
    "slideshow": {
     "slide_type": "skip"
    },
    "tags": []
   },
   "source": [
    "![conda version](media/conda-version.png)"
   ]
  },
  {
   "cell_type": "markdown",
   "metadata": {
    "slideshow": {
     "slide_type": "skip"
    },
    "tags": []
   },
   "source": [
    "### Create an environment\n",
    "\n",
    "The first step is to establish a new environment. Separate environments contain files, packages and their dependencies that don't interact with the other environments."
   ]
  },
  {
   "cell_type": "markdown",
   "metadata": {
    "slideshow": {
     "slide_type": "skip"
    },
    "tags": []
   },
   "source": [
    "```\n",
    "$ conda create --name awesome python=3.8\n",
    "```"
   ]
  },
  {
   "cell_type": "markdown",
   "metadata": {
    "slideshow": {
     "slide_type": "skip"
    },
    "tags": []
   },
   "source": [
    "Notice we **fully specified which Python we want** (3.8), despite the fact that **newer alternatives already exist** (3.10). This is much useful if you want to develop something to use in other machines, which are typically older and more stable (production grade) than your laptop used for different experiments."
   ]
  },
  {
   "cell_type": "markdown",
   "metadata": {
    "slideshow": {
     "slide_type": "skip"
    },
    "tags": []
   },
   "source": [
    "Let's check everything went well and that our environment is ready to use.\n",
    "\n",
    "We can list all the environments available and see if our *awesome* environment exists.\n",
    "\n",
    "`$ conda info --envs`\n",
    "\n",
    "![](media/conda-envs.png)"
   ]
  },
  {
   "cell_type": "markdown",
   "metadata": {
    "slideshow": {
     "slide_type": "skip"
    },
    "tags": []
   },
   "source": [
    "Notice we have 3 environments available: the conda default `base`, `awesome` for this specific unit and `data-academy` for the whole set of workshops."
   ]
  },
  {
   "cell_type": "markdown",
   "metadata": {
    "slideshow": {
     "slide_type": "skip"
    },
    "tags": []
   },
   "source": [
    "Now that we have our environment installed, we should `activate` it. \n",
    "\n",
    "`$ conda activate awesome`\n",
    "\n",
    "This is essentialy saying to conda *\"Jump into my awesome virtual environment so that every action that impacts my environment doesn't affect the rest of the world!\"*"
   ]
  },
  {
   "cell_type": "markdown",
   "metadata": {},
   "source": [
    "# <span style=\"color:red\"> O WHICH PYTHON NAO FUNCIONOU....??</span>"
   ]
  },
  {
   "cell_type": "markdown",
   "metadata": {
    "slideshow": {
     "slide_type": "skip"
    },
    "tags": []
   },
   "source": [
    "After you activate the environment, you will see the active environment displayed in (parentheses).\n",
    "\n",
    "Too be extra sure, you can ask `$ which python` you are using. Notice that our python comes from the `awesome` folder under the conda environments folder."
   ]
  },
  {
   "cell_type": "markdown",
   "metadata": {
    "slideshow": {
     "slide_type": "skip"
    },
    "tags": []
   },
   "source": [
    "![conda activate](media/conda-activate.png)"
   ]
  },
  {
   "cell_type": "markdown",
   "metadata": {
    "slideshow": {
     "slide_type": "skip"
    },
    "tags": []
   },
   "source": [
    "Remember that when you are done with your environment (no más!), it's a good practice to `deactivate`.\n",
    "\n",
    "`$ conda deactivate`\n",
    "\n",
    "![conda deactivate](media/conda-deactivate.png)\n",
    "\n",
    "Notice how the (parentheses) disappear, which means my awesome environment stops being active."
   ]
  },
  {
   "cell_type": "markdown",
   "metadata": {
    "slideshow": {
     "slide_type": "skip"
    },
    "tags": []
   },
   "source": [
    "### Installing a package"
   ]
  },
  {
   "cell_type": "markdown",
   "metadata": {
    "slideshow": {
     "slide_type": "skip"
    },
    "tags": []
   },
   "source": [
    "Let's start developing our data application. As any good Data Scientist, we will use `pandas` for data manipulation and `scikit-learn` for general machine learning.\n",
    "\n",
    "`$ conda install pandas scikit-learn`\n"
   ]
  },
  {
   "cell_type": "markdown",
   "metadata": {},
   "source": [
    "# <span style=\"color:red\"> PQQ HEI DE INSTALAR O PANDAS E SCKITLEARN SE JA O INSTALEI QUANDO DEFINI O ENVIRONMENT?....??</span>"
   ]
  },
  {
   "cell_type": "markdown",
   "metadata": {
    "slideshow": {
     "slide_type": "skip"
    },
    "tags": []
   },
   "source": [
    "![](media/conda-install.png)"
   ]
  },
  {
   "cell_type": "markdown",
   "metadata": {
    "slideshow": {
     "slide_type": "skip"
    },
    "tags": []
   },
   "source": [
    "After that, we can check if everything went well and import our packages.\n",
    "\n",
    "![pd version](media/pd-version.png)"
   ]
  },
  {
   "cell_type": "markdown",
   "metadata": {
    "slideshow": {
     "slide_type": "skip"
    },
    "tags": []
   },
   "source": [
    "### Create from `environment.yml`\n",
    "\n",
    "An awesome feature of conda is that we can specify everything we need in a single [YAML](https://en.wikipedia.org/wiki/YAML) file, called `environment.yml`. This file is easily shareable and maintainable on the top of the repository (just like the one we are using!) to let everyone know what they'll need to run the application.\n",
    "\n",
    "It is a good practice to have a single environment file per repository, that contains all the necessary dependencies to run your code. If you have multiple environments, it is also feasible to have a `prod.yml` and a `dev.yml` for the production and development machines, respectively."
   ]
  },
  {
   "cell_type": "markdown",
   "metadata": {
    "slideshow": {
     "slide_type": "skip"
    },
    "tags": []
   },
   "source": [
    "```yaml\n",
    "# environment.yml\n",
    "name: awesome\n",
    "dependencies:\n",
    "  - python=3.8\n",
    "  - pandas\n",
    "  - scikit-learn\n",
    "```"
   ]
  },
  {
   "cell_type": "markdown",
   "metadata": {
    "slideshow": {
     "slide_type": "skip"
    },
    "tags": []
   },
   "source": [
    "After we specify everything we need, we can create the environment with:\n",
    "\n",
    "`$ conda env create -f environment.yml`"
   ]
  },
  {
   "cell_type": "markdown",
   "metadata": {},
   "source": [
    "## More on Conda"
   ]
  },
  {
   "cell_type": "markdown",
   "metadata": {
    "slideshow": {
     "slide_type": "skip"
    },
    "tags": []
   },
   "source": [
    "### conda base\n",
    "\n",
    "The default environment when working with anaconda is called `base`, and it works just like any other conda environment. This is the default environment you get when you install conda. \n",
    "\n",
    "<div class=\"alert alert-warning\">\n",
    "    ⚠️ <strong>Warning:</strong> Don't put all your programs in base environment!.\n",
    "</div>\n",
    "\n",
    "Think of `base` like your home ground: it's the place you start from, from where you build. Anytime you mess up and need to restart, you return to `base`. **So keep your house clean to guarantee you can return safely.**\n",
    "\n",
    "Anytime you want to develop, you should move to some other environment (creating a new one if needed)."
   ]
  },
  {
   "cell_type": "markdown",
   "metadata": {
    "slideshow": {
     "slide_type": "skip"
    },
    "tags": []
   },
   "source": [
    "### conda install vs pip"
   ]
  },
  {
   "cell_type": "markdown",
   "metadata": {
    "slideshow": {
     "slide_type": "skip"
    },
    "tags": []
   },
   "source": [
    "A lot of Python programmers already used `pip` sometime in their life, the Package Installer for Python (pip). While `pip` and `conda` seem similar, they have key differences that are worth to mention:\n",
    "\n",
    "1. `conda` is language agnostic, while `pip` supports only Python libraries\n",
    "2. `conda` installs Python as a package and typically includes `pip` as just another package\n",
    "3. `pip` installs from [PyPI](https://pypi.org/), `conda` supports multiple channels hosted on [Anaconda](https://anaconda.org/)\n",
    "4. `conda` allows for portability, reproducibility and consistent configurations with a single `environment.yml`\n",
    "5. `pip` allows for traceability with a `requirements.txt`\n",
    "\n",
    "So, it is preferable that we use **`conda` first** for all the Python and non-Python dependencies we need (e.g. `gcc`). But because not all packages may be available in `conda`, `pip` can (but should't!) be used as a last resort. The **workflow** should follow something like this:\n",
    "\n",
    "1. Create a conda environment\n",
    "2. `conda install` as many packages you can\n",
    "3. if package is not found in default conda, search alternative channels (e.g. conda-forge)\n",
    "4. if you REALLY need, `pip install` the rest of the dependencies\n",
    "5. Track the dependencies using an `environment.yml` for conda and `requirements.txt` for pip\n"
   ]
  },
  {
   "cell_type": "markdown",
   "metadata": {},
   "source": [
    "### Workflow"
   ]
  },
  {
   "cell_type": "markdown",
   "metadata": {
    "slideshow": {
     "slide_type": "notes"
    },
    "tags": []
   },
   "source": [
    "As you can imagine, coding in Python with other people and without environments is AWESOME! (You got the irony, right?!)\n",
    "\n",
    "Seasoned Python developers are full with nightmares about broken dependencies, trying stuff locally that breaks in another machine and all those sweet examples that can take you long hours of work (and years of life in stress). There is no need for that, so let's talk about how we can implement simple workflows."
   ]
  },
  {
   "cell_type": "markdown",
   "metadata": {
    "slideshow": {
     "slide_type": "fragment"
    },
    "tags": []
   },
   "source": [
    "<img src=media/dont-need-envs.png alt=\"you need environments\" width=300>"
   ]
  },
  {
   "cell_type": "markdown",
   "metadata": {
    "slideshow": {
     "slide_type": "notes"
    },
    "tags": []
   },
   "source": [
    "A first requirement is that **everyone can install conda environments** in their machine or in the machine you want to deploy your application. Conda is far from the perfect manager for production grade, but it's a start."
   ]
  },
  {
   "cell_type": "markdown",
   "metadata": {
    "slideshow": {
     "slide_type": "notes"
    },
    "tags": []
   },
   "source": [
    "Now we have the environment manager ready, let's think about how to start developing. There are important questions one should ask theirselves before writing even a line of code."
   ]
  },
  {
   "cell_type": "markdown",
   "metadata": {
    "slideshow": {
     "slide_type": "subslide"
    },
    "tags": []
   },
   "source": [
    "- Are you going to build on top of code from others? **Ask for the requirements.**\n",
    "- Do you have any **restrictions** about the machine where you are deploying the code?\n",
    "- What is the meaning of life? \n"
   ]
  },
  {
   "cell_type": "markdown",
   "metadata": {
    "slideshow": {
     "slide_type": "notes"
    },
    "tags": []
   },
   "source": [
    "If the machine is not allowed to install conda, we can use **conda** instead to **replicate the environment of that machine** and, (fingers crossed) pray that code we develop on that replication environment will also work directly on our target machine."
   ]
  },
  {
   "cell_type": "markdown",
   "metadata": {
    "slideshow": {
     "slide_type": "fragment"
    },
    "tags": []
   },
   "source": [
    "> `conda` doesn't work only as a creator, but also as a replicator of environments"
   ]
  },
  {
   "cell_type": "markdown",
   "metadata": {
    "slideshow": {
     "slide_type": "slide"
    },
    "tags": []
   },
   "source": [
    "## Recap\n",
    "Congratulations! You made it all the way \"Python Environments\" unit! Right now, you should have a clear idea of:\n",
    "\n",
    "1. What are **environments**, virtual or real\n",
    "2. Why **versions** are important\n",
    "3. How to develop with **`conda`** and its caveats\n",
    "4. **Collaborating** with others using environments"
   ]
  },
  {
   "cell_type": "markdown",
   "metadata": {},
   "source": []
  }
 ],
 "metadata": {
  "interpreter": {
   "hash": "b67ac31420623b3c4edcc9b3c2b1b7e9c543a5fb3fa24bc65868c028653e1419"
  },
  "kernelspec": {
   "display_name": "Python 3 (ipykernel)",
   "language": "python",
   "name": "python3"
  },
  "language_info": {
   "codemirror_mode": {
    "name": "ipython",
    "version": 3
   },
   "file_extension": ".py",
   "mimetype": "text/x-python",
   "name": "python",
   "nbconvert_exporter": "python",
   "pygments_lexer": "ipython3",
   "version": "3.10.9"
  }
 },
 "nbformat": 4,
 "nbformat_minor": 4
}
