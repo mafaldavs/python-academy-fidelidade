{
 "cells": [
  {
   "cell_type": "markdown",
   "metadata": {
    "slideshow": {
     "slide_type": "slide"
    },
    "tags": []
   },
   "source": [
    "# Functions\n",
    "\n",
    "Welcome to the \"Functions\" unit of the Python Academy! In this notebook, you will learn:\n",
    "  - Function Fundamentals\n",
    "  - `return` and `print`\n",
    "  - Positional and Keyword Arguments\n",
    "  - f-strings\n",
    "  - Global and Local Scope\n",
    "  - Built-in Functions\n",
    "  - Iteration, Flow and Functions"
   ]
  },
  {
   "cell_type": "markdown",
   "metadata": {
    "slideshow": {
     "slide_type": "slide"
    },
    "tags": []
   },
   "source": [
    "## Function Fundamentals\n",
    "\n",
    "Functions are one of the most powerful concepts in programming. They allow us to **avoid repeatable code by clearly defining how we process inputs into outputs.**\n",
    "\n",
    "<p float=\"left\">\n",
    "    <img src=media/grinder.jpg alt=\"\" title=\"Photo by Crew on Unsplash\" width=200>\n",
    "    <img src=media/engine.jpg alt=\"\" title=\"Photo by Garett Mizunaka on Unsplash\" width=200>\n",
    "    <img src=media/coding.jpg  alt=\"\" title=\"Photo by Danial Igdery on Unsplash\" width=200>\n",
    "</p>"
   ]
  },
  {
   "cell_type": "markdown",
   "metadata": {
    "slideshow": {
     "slide_type": "notes"
    },
    "tags": []
   },
   "source": [
    "Creating a **function** is establishing the machinery that transforms inputs into outputs. Similar to real life, establishing such machineries enabling the conversion between different stuff. A coffee grinder takes coffee beans and outputs ground coffee. A car engine drinks fuel (plus oil and spare parts) to generate mechanical energy to drive the wheels. A programmer takes coffee and outputs some weird code."
   ]
  },
  {
   "cell_type": "markdown",
   "metadata": {
    "slideshow": {
     "slide_type": "subslide"
    },
    "tags": []
   },
   "source": [
    "For Python, a simplified version of the syntax is provided below. \n",
    "\n",
    "- Python's keyword `def` to start defining a function;\n",
    "- we choose a `function_name`;\n",
    "- inside parenthesis we provide some inputs (positional or keyword arguments). \n",
    "- inside the function (the indented block), we define the machinery that process our inputs and, afterwards, we `return` the outputs.\n",
    "\n",
    "```python\n",
    "def function_name(inputs):\n",
    "    output = machinery(inputs)\n",
    "    return output\n",
    "```"
   ]
  },
  {
   "cell_type": "markdown",
   "metadata": {
    "slideshow": {
     "slide_type": "notes"
    },
    "tags": []
   },
   "source": [
    "This may seem tricky at first, so let's start with simpler examples and move from there. Let's build a simple function that sums two numbers."
   ]
  },
  {
   "cell_type": "code",
   "execution_count": 14,
   "metadata": {
    "slideshow": {
     "slide_type": "subslide"
    },
    "tags": []
   },
   "outputs": [],
   "source": [
    "# function definition\n",
    "def add_two_numbers(number1, number2):\n",
    "    return number1 + number2"
   ]
  },
  {
   "cell_type": "markdown",
   "metadata": {},
   "source": [
    "<div class=\"alert alert-warning\">\n",
    "    🎙️ <strong>QUIZ</strong>: Can you identify the elements of this function?\n",
    "</div>"
   ]
  },
  {
   "cell_type": "markdown",
   "metadata": {
    "slideshow": {
     "slide_type": "notes"
    },
    "tags": []
   },
   "source": [
    "Great, we defined our first function! Looking back, can you clearly identify the function details we mentioned before? Try to identify the name, input, machinery and output.\n",
    "\n",
    "After we establish a function, it's now ready to use. In Python, we say that you need to \"call\" a function to use it."
   ]
  },
  {
   "cell_type": "code",
   "execution_count": 15,
   "metadata": {
    "slideshow": {
     "slide_type": "fragment"
    },
    "tags": []
   },
   "outputs": [
    {
     "data": {
      "text/plain": [
       "17"
      ]
     },
     "execution_count": 15,
     "metadata": {},
     "output_type": "execute_result"
    }
   ],
   "source": [
    "# function call\n",
    "add_two_numbers(5, 12)"
   ]
  },
  {
   "cell_type": "markdown",
   "metadata": {
    "slideshow": {
     "slide_type": "fragment"
    },
    "tags": []
   },
   "source": [
    "<div class=\"alert alert-warning\">\n",
    "    🎙️ <strong>QUIZ</strong>: Why do you think functions are useful? What is their purpose?\n",
    "</div>"
   ]
  },
  {
   "cell_type": "markdown",
   "metadata": {
    "slideshow": {
     "slide_type": "subslide"
    },
    "tags": []
   },
   "source": [
    "The inputs don't have to be specific values themselves directly. If you remember, **variables are what we use to avoid referring to specific values directly**. So, what happens when we use variables in a function?"
   ]
  },
  {
   "cell_type": "code",
   "execution_count": 16,
   "metadata": {
    "slideshow": {
     "slide_type": "fragment"
    },
    "tags": []
   },
   "outputs": [
    {
     "data": {
      "text/plain": [
       "8"
      ]
     },
     "execution_count": 16,
     "metadata": {},
     "output_type": "execute_result"
    }
   ],
   "source": [
    "# variables as arguments\n",
    "one = 3\n",
    "two = 5\n",
    "add_two_numbers(one, two)"
   ]
  },
  {
   "cell_type": "markdown",
   "metadata": {
    "slideshow": {
     "slide_type": "notes"
    },
    "tags": []
   },
   "source": [
    "Sweet! The function recognized the values attributed to each variable and sums them. This is the power of **abstraction** working in our favour. "
   ]
  },
  {
   "cell_type": "markdown",
   "metadata": {
    "slideshow": {
     "slide_type": "fragment"
    },
    "tags": []
   },
   "source": [
    "<div class=\"alert alert-info\">\n",
    "📚 Passing variables (abstracting values) through functions (abstracting machinery) give us the ability to re-use code written once to run a million times, in ways you may not have thought in the first place.\n",
    "</div>"
   ]
  },
  {
   "cell_type": "markdown",
   "metadata": {
    "slideshow": {
     "slide_type": "notes"
    },
    "tags": []
   },
   "source": [
    "By the way, those variables are (severely) poorly named. Referring to 'one' and 'two' as variable names induces your colleague (or your future self) to have the idea they are valued 1 and 2, which they are not.\n",
    "\n",
    "*What about the result? Can I use it somehow afterwards?* Correct! You can **store the result** to a variable to use later. Whenever a function returns a value (surprise surprise, it may not!), you can capture it and store it."
   ]
  },
  {
   "cell_type": "code",
   "execution_count": null,
   "metadata": {
    "slideshow": {
     "slide_type": "fragment"
    },
    "tags": []
   },
   "outputs": [],
   "source": [
    "output1 = add_two_numbers(one, one)\n",
    "output2 = add_two_numbers(two, two)\n",
    "output3 = add_two_numbers(output1, output2)\n",
    "output3"
   ]
  },
  {
   "cell_type": "markdown",
   "metadata": {
    "slideshow": {
     "slide_type": "slide"
    },
    "tags": []
   },
   "source": [
    "## More Complex Functions\n",
    "\n",
    "Besides the educational one-liners, functions can increase in complexity. Any amount of code you want can be put inside the machinery, as long as they are properly indented.\n",
    "\n",
    "> *4 spaces. No tabs. Please.*"
   ]
  },
  {
   "cell_type": "code",
   "execution_count": null,
   "metadata": {
    "slideshow": {
     "slide_type": "subslide"
    },
    "tags": []
   },
   "outputs": [],
   "source": [
    "# complex machinery\n",
    "def super_stuff(arg1, arg2):\n",
    "    added = add_two_numbers(arg1, arg2)   # no 'sum' as variable name. why?\n",
    "    subtracted = arg1 - arg2\n",
    "    multiplied = added * subtracted\n",
    "    div_by_4 = multiplied / 4\n",
    "    return div_by_4\n",
    "\n",
    "super_stuff(24, 2)"
   ]
  },
  {
   "cell_type": "markdown",
   "metadata": {
    "slideshow": {
     "slide_type": "notes"
    },
    "tags": []
   },
   "source": [
    "Here we go. A really complex function that does a bunch of stuff. Do we really need it? Not really. But it is cool, and it works the same forever. Also, it helps you wrap your head around these concepts.\n",
    "\n",
    "Also, notice how we leveraged the previously defined `add_two_numbers` function. You can call functions inside other functions!"
   ]
  },
  {
   "cell_type": "markdown",
   "metadata": {
    "slideshow": {
     "slide_type": "slide"
    },
    "tags": []
   },
   "source": [
    "## Outputs\n",
    "\n",
    "Take your time around this one. Understanding the difference between `return` and `print` will be crucial to code Python.\n",
    "  - `return` defines what you should receive from a function \n",
    "  - `print` displays the result in the standard output (e.g. screen)"
   ]
  },
  {
   "cell_type": "markdown",
   "metadata": {
    "slideshow": {
     "slide_type": "notes"
    },
    "tags": []
   },
   "source": [
    "Let's go through with an example."
   ]
  },
  {
   "cell_type": "code",
   "execution_count": null,
   "metadata": {
    "slideshow": {
     "slide_type": "subslide"
    },
    "tags": []
   },
   "outputs": [],
   "source": [
    "def what_is_what(input1, input2):\n",
    "    print(input2)\n",
    "    return input1\n",
    "\n",
    "output1 = what_is_what(20, 30)"
   ]
  },
  {
   "cell_type": "markdown",
   "metadata": {
    "slideshow": {
     "slide_type": "notes"
    },
    "tags": []
   },
   "source": [
    "So, without running this through code, what do you expect to happen? Do we ever see the value '20' after the function call?  What about '30'?"
   ]
  },
  {
   "cell_type": "markdown",
   "metadata": {
    "slideshow": {
     "slide_type": "slide"
    },
    "tags": []
   },
   "source": [
    "## Inputs\n",
    "\n",
    "<div class=\"alert alert-info\">\n",
    "    📚 <b>Arguments</b><p> Inputs you give between parenthesis when defining a function</b>. You can add as many arguments as you want, if you keep them separated by a comma. \n",
    "</div>"
   ]
  },
  {
   "cell_type": "markdown",
   "metadata": {
    "slideshow": {
     "slide_type": "subslide"
    },
    "tags": []
   },
   "source": [
    "    \n",
    "Arguments are often referred interchangeably with **parameters**, but they essentially mean the same thing: data that gets passed into a function. If you want to get specific, you can differ from:\n",
    "  - **parameter**: variable used during the function definition\n",
    "  - **argument**: expression used when calling the function\n",
    "\n",
    "```python\n",
    "def mult(a):            # a is the parameter\n",
    "    return a * 2\n",
    "\n",
    "mult(3)                 # 3 is the argument       \n",
    "``` "
   ]
  },
  {
   "cell_type": "markdown",
   "metadata": {
    "slideshow": {
     "slide_type": "notes"
    },
    "tags": []
   },
   "source": [
    "To simplify, we will refer them interchangeably for now. Unless something is really specific and we need to differentiate between these two concepts, arguments and parameters are the same.\n",
    "\n",
    "(Advanced) Also, we often see **methods** when talking about functions, but they do differ. Methods are similar to functions but they are **associated with object/classes**. They are used implicitly for an object for which it is called, and they are accessible to data contained within the class."
   ]
  },
  {
   "cell_type": "markdown",
   "metadata": {
    "slideshow": {
     "slide_type": "subslide"
    },
    "tags": []
   },
   "source": [
    "### Positional, Keyword Arguments\n",
    "\n",
    "The type of arguments we have seen so far are called **positional arguments**. This means that when you call a function, **the arguments you pass are in the same order (position) in which they were defined**. "
   ]
  },
  {
   "cell_type": "code",
   "execution_count": null,
   "metadata": {
    "slideshow": {
     "slide_type": "fragment"
    },
    "tags": []
   },
   "outputs": [],
   "source": [
    "# positional arguments\n",
    "def divide(a, b):\n",
    "    return a / b\n",
    "\n",
    "# divide(0, 1)            # allowed\n",
    "# divide(1, 0)            # nope. cannot divide by zero"
   ]
  },
  {
   "cell_type": "markdown",
   "metadata": {
    "slideshow": {
     "slide_type": "subslide"
    },
    "tags": []
   },
   "source": [
    "The alternative are **keyword arguments**, which are more verbose but much more powerful. *Keyword* means that they are **referred by their parameter name, instead of their order** within the function definition."
   ]
  },
  {
   "cell_type": "markdown",
   "metadata": {
    "slideshow": {
     "slide_type": "notes"
    },
    "tags": []
   },
   "source": [
    "In addition, *kwargs* (as they are often referred to) allow to provide **default values** whenever the parameters (on definition) are not fully specified as arguments (when calling). "
   ]
  },
  {
   "cell_type": "code",
   "execution_count": null,
   "metadata": {
    "slideshow": {
     "slide_type": "fragment"
    },
    "tags": []
   },
   "outputs": [],
   "source": [
    "# a is positional, b is keyword\n",
    "def multiply(a, b=2):\n",
    "    return a * b"
   ]
  },
  {
   "cell_type": "markdown",
   "metadata": {
    "slideshow": {
     "slide_type": "notes"
    },
    "tags": []
   },
   "source": [
    "By default, our `multiply` function will double the value provided in the first argument. This means we can just pass `multiply(1)`, or whatever other argument (besides 1) we specify for the parameter *a*. When `b` is provided, the default no longer applies and you can multiply by some other value, like `multiply(3,4)`.\n",
    "\n",
    "Notice in this last example that `b` is a keyword argument but it is recognized by its order in the function, not the name. We can also call `multiply(3, b=4)` that we'll get the same result. Even with kwargs, Python by default recognizes them by position if no keyword is specified for a given argument."
   ]
  },
  {
   "cell_type": "markdown",
   "metadata": {
    "slideshow": {
     "slide_type": "subslide"
    },
    "tags": []
   },
   "source": [
    "<div class=\"alert alert-success\">\n",
    "    🧠 <b>Kwargs</b> start to get really powerful when we code complex functions with a <b>lot of parameters</b>, specially when they are <b>optional</b>.\n",
    "</div>"
   ]
  },
  {
   "cell_type": "code",
   "execution_count": 2,
   "metadata": {
    "slideshow": {
     "slide_type": "fragment"
    },
    "tags": []
   },
   "outputs": [],
   "source": [
    "def translate(text, source='en', dest='nl'):\n",
    "    return f\"Translating '{text}' from '{source}' to '{dest}'.\""
   ]
  },
  {
   "cell_type": "markdown",
   "metadata": {
    "slideshow": {
     "slide_type": "notes"
    },
    "tags": []
   },
   "source": [
    "Notice we are using an [f-string](https://realpython.com/python-f-strings/), a really powerful string formatting functionality that appeared with Python 3.6. For now, we are using them to create a long string with the variables inside it. Whenever the string is evaluated, it will fetch the variables' values (given by the function definition) and outputs the properly formatted string. If this doesn't seem much, take a look back and check how strings were formatted with Python in the past. We mean it. Try googling 'str.format()' or '%-formatting' and then take a minute to appreciate this new standard."
   ]
  },
  {
   "cell_type": "markdown",
   "metadata": {
    "slideshow": {
     "slide_type": "notes"
    },
    "tags": []
   },
   "source": [
    "Back to args and kwargs. Let's see a couple of function call variations with the `translate` function defined above to see how *args* and *kwargs* work in practice. We hadn't seen so far functions with other arguments besides numerical types, but **functions can work with any data type**."
   ]
  },
  {
   "cell_type": "code",
   "execution_count": 8,
   "metadata": {
    "slideshow": {
     "slide_type": "skip"
    },
    "tags": []
   },
   "outputs": [],
   "source": [
    "# translate scenarios\n",
    "# translate()                       => throws TypeError. missing positional argument 'text'. positional args cannot be missing\n",
    "# translate(\"Hamlet\")               => \"Translating 'Hamlet' from 'en' to 'nl'.\"    Ok, that works. All default values\n",
    "# translate(\"Hamlet\", \"pt\")         => \"Translating 'Hamlet' from 'pt' to 'nl'.\"    Works, but wrong. It's Hamlet, not \"Os Lusíadas\"\n",
    "# translate(\"Hamlet\", dest=\"es\")    => \"Translating 'Hamlet' from 'en' to 'es'.\"    Ser o no ser, esa es la cuestión. \n",
    "#                                                                                   source defaults to 'en', but dest is overriden to 'es'\n",
    "# translate(text=\"Hamlet\")          => We can specify also positional as keyword arguments for clarity\n"
   ]
  },
  {
   "cell_type": "markdown",
   "metadata": {
    "slideshow": {
     "slide_type": "slide"
    },
    "tags": []
   },
   "source": [
    "## Scope\n",
    "\n",
    "<div class=\"alert alert-success\">\n",
    "    🧠 Unofficially, you can think of scope has someone <b>trying to remember something</b>. <p><i>Have I seen this in the past? Where have I seen it? Have I seen it in multiple contexts?</i>\n",
    "</div>\n",
    "\n",
    "<img src=media/photos.jpg title=\"Photo by Robert Linder on Unsplash\" width=300/>"
   ]
  },
  {
   "cell_type": "markdown",
   "metadata": {
    "slideshow": {
     "slide_type": "notes"
    },
    "tags": []
   },
   "source": [
    "Scope is a fundamental concept in software engineering that is really powerful and can get really messy, really fast. To simplify, let's start with discussing **global scope** and **local scope**. "
   ]
  },
  {
   "cell_type": "markdown",
   "metadata": {
    "slideshow": {
     "slide_type": "subslide"
    },
    "tags": []
   },
   "source": [
    "*Think of it like this. **Friends and family are your global scope**: you want to remind them forever and they are always there for you. Your **local scope is more like high-school reunions or company dinners**: you kinda need to deal with those people in specific circumstances but you don't want them to stick around much.*"
   ]
  },
  {
   "cell_type": "markdown",
   "metadata": {
    "slideshow": {
     "slide_type": "notes"
    },
    "tags": []
   },
   "source": [
    "*Sure, you can bring your significant other to a reunion, but you do not want to invite Mark from HR to your Sunday barbecue parties. No one likes Mark. For legal purposes, Mark from HR is a made-up character. If you are named Mark and work in HR, we're sure you are a wonderful person and shouldn't take this personally.*"
   ]
  },
  {
   "cell_type": "markdown",
   "metadata": {
    "slideshow": {
     "slide_type": "subslide"
    },
    "tags": []
   },
   "source": [
    "### Global Scope\n",
    "\n",
    "Something is stored in **global scope** when it is available to use in whichever part of the Python code. Global scope, global availability."
   ]
  },
  {
   "cell_type": "markdown",
   "metadata": {
    "slideshow": {
     "slide_type": "notes"
    },
    "tags": []
   },
   "source": [
    "When we define a value in a notebook (like `my_var` below), it means that the whole notebook can use its value (as long as it is defined). "
   ]
  },
  {
   "cell_type": "code",
   "execution_count": null,
   "metadata": {
    "slideshow": {
     "slide_type": "notes"
    },
    "tags": []
   },
   "outputs": [],
   "source": [
    "# Uncomment this after defining my_var\n",
    "# my_var + 3 \n",
    "\n",
    "# WOW. Weird, rigth?! Somehow, someone thought that notebooks shouldn't be ordered. This can get your experiments REALLY messy"
   ]
  },
  {
   "cell_type": "code",
   "execution_count": null,
   "metadata": {
    "slideshow": {
     "slide_type": "fragment"
    },
    "tags": []
   },
   "outputs": [],
   "source": [
    "my_var = 3"
   ]
  },
  {
   "cell_type": "code",
   "execution_count": null,
   "metadata": {
    "slideshow": {
     "slide_type": "notes"
    },
    "tags": []
   },
   "outputs": [],
   "source": [
    "print(my_var + 2)               # we can use my_var in a different place it was defined. it is globally available"
   ]
  },
  {
   "cell_type": "markdown",
   "metadata": {
    "slideshow": {
     "slide_type": "subslide"
    },
    "tags": []
   },
   "source": [
    "### Local Scope\n",
    "\n",
    "We will often want to use variables just for the specific purposes they were intended to. **Local scope** is what allows you to *containerize* the variables availability and guaranteeing you do not mix stuff that shouldn't be mixed."
   ]
  },
  {
   "cell_type": "code",
   "execution_count": 9,
   "metadata": {
    "slideshow": {
     "slide_type": "fragment"
    },
    "tags": []
   },
   "outputs": [
    {
     "data": {
      "text/plain": [
       "3"
      ]
     },
     "execution_count": 9,
     "metadata": {},
     "output_type": "execute_result"
    }
   ],
   "source": [
    "# Whaat?? A function without parameters?\n",
    "def weird_function():\n",
    "    a = 1\n",
    "    b = 2\n",
    "    return a + b\n",
    "\n",
    "# no parameters, no arguments. let's call it!\n",
    "weird_function()"
   ]
  },
  {
   "cell_type": "markdown",
   "metadata": {
    "slideshow": {
     "slide_type": "notes"
    },
    "tags": []
   },
   "source": [
    "All right. We've seen that `a` and `b` are locally defined inside the `weird_function` body because we used them to add. But can we use `a` and `b` outside their *comfort zone*?"
   ]
  },
  {
   "cell_type": "code",
   "execution_count": 10,
   "metadata": {
    "slideshow": {
     "slide_type": "notes"
    },
    "tags": []
   },
   "outputs": [
    {
     "ename": "NameError",
     "evalue": "name 'a' is not defined",
     "output_type": "error",
     "traceback": [
      "\u001b[1;31m---------------------------------------------------------------------------\u001b[0m",
      "\u001b[1;31mNameError\u001b[0m                                 Traceback (most recent call last)",
      "Cell \u001b[1;32mIn[10], line 1\u001b[0m\n\u001b[1;32m----> 1\u001b[0m \u001b[39mprint\u001b[39m(a)\n",
      "\u001b[1;31mNameError\u001b[0m: name 'a' is not defined"
     ]
    }
   ],
   "source": [
    "print(a)"
   ]
  },
  {
   "cell_type": "code",
   "execution_count": null,
   "metadata": {
    "slideshow": {
     "slide_type": "notes"
    },
    "tags": []
   },
   "outputs": [],
   "source": [
    "print(b)"
   ]
  },
  {
   "cell_type": "markdown",
   "metadata": {
    "slideshow": {
     "slide_type": "notes"
    },
    "tags": []
   },
   "source": [
    "I guess we can't. Variables defined inside functions are not made available to the global scope. This means that we use them **just** for what they were intended to."
   ]
  },
  {
   "cell_type": "markdown",
   "metadata": {
    "slideshow": {
     "slide_type": "subslide"
    },
    "tags": []
   },
   "source": [
    "### Mixing Global and Local Scope\n",
    "\n",
    "What about the reverse? Can we use globally defined variables when declaring a function?"
   ]
  },
  {
   "cell_type": "code",
   "execution_count": 17,
   "metadata": {
    "slideshow": {
     "slide_type": "fragment"
    },
    "tags": []
   },
   "outputs": [
    {
     "data": {
      "text/plain": [
       "3"
      ]
     },
     "execution_count": 17,
     "metadata": {},
     "output_type": "execute_result"
    }
   ],
   "source": [
    "aa = 1\n",
    "\n",
    "def weird_function():\n",
    "    bb = 2\n",
    "    return aa + bb\n",
    "\n",
    "weird_function()"
   ]
  },
  {
   "cell_type": "markdown",
   "metadata": {
    "slideshow": {
     "slide_type": "notes"
    },
    "tags": []
   },
   "source": [
    "Oh boy! That should have not happened! We shouldn't be allowed to mix global and local scope. But turn's out we are, so **we need to be really careful about this!**.\n",
    "\n",
    "Local scope can access the global scope, but not the other way around. Everything you define at global scope can be used anywhere. Remember the `one`, `two` variables we defined earlier in this notebook? Guess what, they can make unexpected returns!"
   ]
  },
  {
   "cell_type": "code",
   "execution_count": 18,
   "metadata": {
    "slideshow": {
     "slide_type": "subslide"
    },
    "tags": []
   },
   "outputs": [
    {
     "data": {
      "text/plain": [
       "8"
      ]
     },
     "execution_count": 18,
     "metadata": {},
     "output_type": "execute_result"
    }
   ],
   "source": [
    "def add(c, d):\n",
    "    return one + two\n",
    "\n",
    "add(1, 6)"
   ]
  },
  {
   "cell_type": "markdown",
   "metadata": {
    "slideshow": {
     "slide_type": "notes"
    },
    "tags": []
   },
   "source": [
    "Yeah, we messed this up! Turns out `1 + 6 = 8`."
   ]
  },
  {
   "cell_type": "markdown",
   "metadata": {
    "slideshow": {
     "slide_type": "subslide"
    },
    "tags": []
   },
   "source": [
    "As take-home messages, please remember that:\n",
    "  - Functions should **NEVER, EVER, EVER** depend on the global namespace for access to variables.\n",
    "  - Functions should be **self-explanatory in their parameters**, always take arguments they need. No more, no less.\n",
    "  - Function paremeters should try to have **different names than variables in the global namespace**."
   ]
  },
  {
   "cell_type": "markdown",
   "metadata": {
    "slideshow": {
     "slide_type": "slide"
    },
    "tags": []
   },
   "source": [
    "## Built-in Functions\n",
    "\n",
    "<img src=media/builtin.png width=400 />"
   ]
  },
  {
   "cell_type": "markdown",
   "metadata": {
    "slideshow": {
     "slide_type": "notes"
    },
    "tags": []
   },
   "source": [
    "Python provides a bunch of built-in functions by default. You can check their [docs](https://docs.python.org/3.10/library/functions.html). They are simple, yet powerful for the most generic stuff we want to achieve. "
   ]
  },
  {
   "cell_type": "markdown",
   "metadata": {
    "slideshow": {
     "slide_type": "fragment"
    },
    "tags": []
   },
   "source": [
    "<div class=\"alert alert-warning\">\n",
    "    💡 When defining a new function, <b>check whether Python already has a similar built-in function</b>. It is a good practice to reuse code, as long as it suits the purpose you want.\n",
    "</div>"
   ]
  },
  {
   "cell_type": "markdown",
   "metadata": {
    "slideshow": {
     "slide_type": "slide"
    },
    "tags": []
   },
   "source": [
    "## Iteration, Flow and Functions\n",
    "\n",
    "Now that we know how to make our code *flow*, and we know why functions are so useful, we shall combine both.\n",
    "\n",
    "<div class=\"alert alert-success\">\n",
    "📚 Similar to the control flow defined outside a function, <b>indentation is key to define the code blocks and their structure.</b>\n",
    "</div>"
   ]
  },
  {
   "cell_type": "code",
   "execution_count": null,
   "metadata": {
    "slideshow": {
     "slide_type": "subslide"
    },
    "tags": []
   },
   "outputs": [],
   "source": [
    "def is_millionaire(wealth):\n",
    "    if wealth > 1_000_000:\n",
    "        return True\n",
    "    else:\n",
    "        return False"
   ]
  },
  {
   "cell_type": "code",
   "execution_count": null,
   "metadata": {
    "slideshow": {
     "slide_type": "fragment"
    },
    "tags": []
   },
   "outputs": [],
   "source": [
    "GARY_DAHL = 1_300_000\n",
    "MY_COUSIN = 400\n",
    "\n",
    "print(is_millionaire(GARY_DAHL))\n",
    "print(is_millionaire(MY_COUSIN))"
   ]
  },
  {
   "cell_type": "markdown",
   "metadata": {
    "slideshow": {
     "slide_type": "notes"
    },
    "tags": []
   },
   "source": [
    "*Turns out my cousin hasn't invented anything, so is not really a millionaire. But Gary Dahl was the founder of [Pet Rock](https://en.wikipedia.org/wiki/Pet_Rock), a company that sold rocks marketed as live pets, which did made him a millionaire.*\n",
    "\n",
    "To the point, you can use the statements we've seen before in the \"Iteration & Flow\" section to add flow control to your functions. Make their output available with `return` or `print` them along the way."
   ]
  },
  {
   "cell_type": "markdown",
   "metadata": {
    "slideshow": {
     "slide_type": "slide"
    },
    "tags": []
   },
   "source": [
    "## Recap\n",
    "\n",
    "Congratulations, you made it all the way \"Functions\" unit! By the end of this notebook, you should have a clear idea of:\n",
    "  1. Functions and why do we need it\n",
    "  2. Difference between `return` and `print`\n",
    "  3. Difference between args and kwargs\n",
    "  4. Global and Local Scope\n",
    "  5. Built-in Functions\n",
    "  6. Spicying up functions with flow"
   ]
  }
 ],
 "metadata": {
  "interpreter": {
   "hash": "62450144029c700d9828a520a84c849f57ec997bbb5cd86252d9dcd358a93bcf"
  },
  "kernelspec": {
   "display_name": "Python 3 (ipykernel)",
   "language": "python",
   "name": "python3"
  },
  "language_info": {
   "codemirror_mode": {
    "name": "ipython",
    "version": 3
   },
   "file_extension": ".py",
   "mimetype": "text/x-python",
   "name": "python",
   "nbconvert_exporter": "python",
   "pygments_lexer": "ipython3",
   "version": "3.10.9"
  }
 },
 "nbformat": 4,
 "nbformat_minor": 4
}
