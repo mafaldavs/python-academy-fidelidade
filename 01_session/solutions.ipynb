{
 "cells": [
  {
   "cell_type": "markdown",
   "metadata": {},
   "source": [
    "# Exercises\n",
    "\n",
    "## General Python\n",
    "\n",
    "Let's build a simple **form application**. Your task will be to **ask the users some information**, **store it** in variables, perform **simple operations** and **display a user report** in the end. The form must:\n",
    "  1. Ask for the user's name, weirdest habit, favourite hobbie and best quality;\n",
    "  2. Store the informations in variables, which are easily readable;\n",
    "  3. Display a profile report about the user."
   ]
  },
  {
   "cell_type": "code",
   "execution_count": 1,
   "metadata": {},
   "outputs": [
    {
     "name": "stdout",
     "output_type": "stream",
     "text": [
      "What is your name? Mary\n",
      "What is your weirdest habit? Chewing nails\n",
      "What is your favourite hobbie? Singing\n",
      "What is your best quality? Forgiveness\n"
     ]
    }
   ],
   "source": [
    "### BUILD YOUR APP HERE\n",
    "name = input(\"What is your name?\")\n",
    "habit = input(\"What is your weirdest habit?\")\n",
    "hobbie = input(\"What is your favourite hobbie?\")\n",
    "quality = input(\"What is your best quality?\")"
   ]
  },
  {
   "cell_type": "code",
   "execution_count": 2,
   "metadata": {},
   "outputs": [
    {
     "name": "stdout",
     "output_type": "stream",
     "text": [
      "User Profile \n",
      "\n",
      "Name: Mary\n",
      "Weirdest Habit: Chewing nails\n",
      "Favourite Hobbie: Singing\n",
      "Best Quality: Forgiveness\n"
     ]
    }
   ],
   "source": [
    "print(\"User Profile \\n\")\n",
    "print(\"Name: \" + name)\n",
    "print(\"Weirdest Habit: \" + habit)\n",
    "print(\"Favourite Hobbie: \" + hobbie)\n",
    "print(\"Best Quality: \" + quality)"
   ]
  },
  {
   "cell_type": "markdown",
   "metadata": {},
   "source": [
    "## Data Types\n",
    "\n",
    "For the following variables, assign the most appropriate data type:\n",
    "\n",
    "  1. A cat's name;\n",
    "  2. Personality traits of your colleague;\n",
    "  3. Conversion rate between kilometer and mile;\n",
    "  4. Translation between spanish and english, word by word (like in the old-time Google Translate);\n",
    "  5. Number of olympic swimming pools in the world"
   ]
  },
  {
   "cell_type": "code",
   "execution_count": 3,
   "metadata": {},
   "outputs": [],
   "source": [
    "### ASSIGN DATA TYPES HERE\n",
    "# Cat's name - string\n",
    "# Personality traits - set/list\n",
    "# Conversion rate km/mile - float\n",
    "# Translation es/en - dictionary\n",
    "# Swimming pools - int"
   ]
  },
  {
   "cell_type": "markdown",
   "metadata": {},
   "source": [
    "\n",
    "## Googling Skills\n",
    "\n",
    "Search what is the Pythonic way to\n",
    "- Get the number of items in a dict, set, tuple and list\n",
    "- Check if an element exists in a dict, set, tuple or list\n",
    "- Change the value of a specific element in a list (e.g. 2nd item) \n",
    "- Reverse the items in a list"
   ]
  },
  {
   "cell_type": "code",
   "execution_count": null,
   "metadata": {
    "slideshow": {
     "slide_type": "slide"
    },
    "tags": []
   },
   "outputs": [],
   "source": [
    "### SOLUTION\n",
    "# number of items - len\n",
    "# element exists - in\n",
    "# change value - l[1] = -1\n",
    "# reverse items - l.reverse(), list(reversed(l))"
   ]
  },
  {
   "cell_type": "markdown",
   "metadata": {},
   "source": [
    "##  Iteration Flow"
   ]
  },
  {
   "cell_type": "markdown",
   "metadata": {},
   "source": [
    "### Exercise 1 - Choice Master\n",
    "\n",
    "**(NO CODE)** Choose the most appropriate flow control for the imaginary applications below. Choose from if-else, while, for, continue, break.\n",
    "\n",
    "- Given a list of people `['John', 'Maggie', 'Mark']`, greet them by name (print \"Hi\" + name) \n",
    "- Wait until the user gives you a correct input.\n",
    "- Between 1 and 10, print the numbers 6 and 7. Skip everything else."
   ]
  },
  {
   "cell_type": "code",
   "execution_count": null,
   "metadata": {},
   "outputs": [],
   "source": [
    "### INSERT SOLUTION\n",
    "# 1. list of people: for-loop\n",
    "# 2. wait correct input: while\n",
    "# 3. print 6 & 7: for-loop, followed by if-else or continue-break"
   ]
  },
  {
   "cell_type": "markdown",
   "metadata": {},
   "source": [
    "### Exercise 2 - Happy New Year\n",
    "\n",
    "Create two New Year's Countdowns, one with `while` and one with `for` loops. At \"midnight\", print \"HAPPY NEW YEAR FOLKS!\".\n",
    "\n",
    "*Tip: don't forget the `range` from Session 1."
   ]
  },
  {
   "cell_type": "code",
   "execution_count": null,
   "metadata": {},
   "outputs": [],
   "source": [
    "#### INSERT SOLUTION\n",
    "\n",
    "# with for loop\n",
    "for second in range(10, 0, -1):\n",
    "    print(second)\n",
    "print(\"HAPPY NEW YEAR FOLKS!\")\n",
    "\n",
    "# with while loop\n",
    "sec_to_midnight = 10\n",
    "while sec_to_midnight > 0:\n",
    "    print(sec_to_midnight)\n",
    "    sec_to_midnight -= 1\n",
    "print(\"HAPPY NEW YEAR FOLKS!\")"
   ]
  },
  {
   "cell_type": "markdown",
   "metadata": {},
   "source": [
    "### Exercise 3 - Large Caps\n",
    "\n",
    "Given the dict below of companies with largest market cap, create a new `marketcap_large` dictionary containing only companies above 2$T.\n"
   ]
  },
  {
   "cell_type": "code",
   "execution_count": null,
   "metadata": {},
   "outputs": [],
   "source": [
    "# Market Capitalization, in $T\n",
    "marketcap = {\n",
    "    \"Apple\": 2.537, \n",
    "    \"Saudi Aramco\": 2.392, \n",
    "    \"Microsoft\": 2.074, \n",
    "    \"Alphabet\": 1.535, \n",
    "    \"Amazon\": 1.184\n",
    "}"
   ]
  },
  {
   "cell_type": "code",
   "execution_count": null,
   "metadata": {},
   "outputs": [],
   "source": [
    "# using dict comprehension\n",
    "marketcap_large = {k: v for (k,v) in marketcap.items() if v > 2}"
   ]
  },
  {
   "cell_type": "code",
   "execution_count": null,
   "metadata": {},
   "outputs": [],
   "source": [
    "# using for-loop\n",
    "marketcap_large = {}\n",
    "for company, valuation in marketcap.items():\n",
    "    if valuation > 2:\n",
    "        marketcap_large[company] = valuation"
   ]
  },
  {
   "cell_type": "code",
   "execution_count": null,
   "metadata": {},
   "outputs": [],
   "source": [
    "marketcap_large\n"
   ]
  }
 ],
 "metadata": {
  "interpreter": {
   "hash": "62450144029c700d9828a520a84c849f57ec997bbb5cd86252d9dcd358a93bcf"
  },
  "kernelspec": {
   "display_name": "Python 3 (ipykernel)",
   "language": "python",
   "name": "python3"
  },
  "language_info": {
   "codemirror_mode": {
    "name": "ipython",
    "version": 3
   },
   "file_extension": ".py",
   "mimetype": "text/x-python",
   "name": "python",
   "nbconvert_exporter": "python",
   "pygments_lexer": "ipython3",
   "version": "3.10.9"
  }
 },
 "nbformat": 4,
 "nbformat_minor": 4
}
