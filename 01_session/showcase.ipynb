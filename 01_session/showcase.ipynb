{
 "cells": [
  {
   "cell_type": "markdown",
   "id": "66ce68a2-1e56-4825-b178-3bd72d165531",
   "metadata": {},
   "source": [
    "# Showcase\n",
    "\n",
    "## Data Types"
   ]
  },
  {
   "cell_type": "markdown",
   "id": "840e1079-409d-49ec-8a38-f847b2f1733d",
   "metadata": {},
   "source": [
    "1. Create the following list [50, 60, 70, 80, 90, 100]\n",
    "1. Create a countdown from 10 to 0 with range (like New Year's Eve!!)\n",
    "1. Given an empty list \n",
    "    1. Add the following two elements: 2, 3, 5, 8, 13\n",
    "    1. Store the first element in the 'first' variable\n",
    "    1. Store the last element in the  'last' variable\n",
    "    1. Store the third element in the  'third' variable\n",
    "    1. Store the second to last element in the  'second_to_last' variable"
   ]
  },
  {
   "cell_type": "code",
   "execution_count": 2,
   "id": "d2debe92-5cf8-45b5-92dd-5a187d0f9f30",
   "metadata": {},
   "outputs": [
    {
     "data": {
      "text/plain": [
       "[50, 60, 70, 80, 90]"
      ]
     },
     "execution_count": 2,
     "metadata": {},
     "output_type": "execute_result"
    }
   ],
   "source": [
    "# 1\n",
    "list(range(50, 100, 10))"
   ]
  },
  {
   "cell_type": "code",
   "execution_count": 6,
   "id": "d3e0a5dc-4824-45f9-a63f-345e9a88fc75",
   "metadata": {},
   "outputs": [
    {
     "data": {
      "text/plain": [
       "[10, 9, 8, 7, 6, 5, 4, 3, 2, 1, 0]"
      ]
     },
     "execution_count": 6,
     "metadata": {},
     "output_type": "execute_result"
    }
   ],
   "source": [
    "# 2 \n",
    "list(range(10, -1, -1))"
   ]
  },
  {
   "cell_type": "code",
   "execution_count": 13,
   "id": "c10598d5-ba7a-4668-afc3-bcd6f6f80cdb",
   "metadata": {},
   "outputs": [],
   "source": [
    "# 3\n",
    "l = []"
   ]
  },
  {
   "cell_type": "code",
   "execution_count": 14,
   "id": "550168d0-70a8-4491-ae94-b64c4858ba0f",
   "metadata": {},
   "outputs": [],
   "source": [
    "# 3.A\n",
    "l.extend([2, 3, 5, 8, 13])"
   ]
  },
  {
   "cell_type": "code",
   "execution_count": 17,
   "id": "115d1549-980f-4c5a-a763-526174ca7e68",
   "metadata": {},
   "outputs": [
    {
     "data": {
      "text/plain": [
       "2"
      ]
     },
     "execution_count": 17,
     "metadata": {},
     "output_type": "execute_result"
    }
   ],
   "source": [
    "# 3.B\n",
    "first = l[0]\n",
    "first"
   ]
  },
  {
   "cell_type": "code",
   "execution_count": 18,
   "id": "0c0b6180-fc6b-4bfd-94e6-e74a97043362",
   "metadata": {},
   "outputs": [
    {
     "data": {
      "text/plain": [
       "13"
      ]
     },
     "execution_count": 18,
     "metadata": {},
     "output_type": "execute_result"
    }
   ],
   "source": [
    "# 3.C\n",
    "last = l[-1]\n",
    "last"
   ]
  },
  {
   "cell_type": "code",
   "execution_count": 19,
   "id": "060767ed-405f-43ff-979d-dc8dd0dd886b",
   "metadata": {},
   "outputs": [
    {
     "data": {
      "text/plain": [
       "5"
      ]
     },
     "execution_count": 19,
     "metadata": {},
     "output_type": "execute_result"
    }
   ],
   "source": [
    "# 3.D\n",
    "third = l[2]\n",
    "third"
   ]
  },
  {
   "cell_type": "code",
   "execution_count": 20,
   "id": "ff5937d3-764c-4b62-bd33-d4164e564d35",
   "metadata": {},
   "outputs": [
    {
     "data": {
      "text/plain": [
       "8"
      ]
     },
     "execution_count": 20,
     "metadata": {},
     "output_type": "execute_result"
    }
   ],
   "source": [
    "# 3.E\n",
    "second_to_last = l[-2]\n",
    "second_to_last"
   ]
  }
 ],
 "metadata": {
  "kernelspec": {
   "display_name": "Python 3 (ipykernel)",
   "language": "python",
   "name": "python3"
  },
  "language_info": {
   "codemirror_mode": {
    "name": "ipython",
    "version": 3
   },
   "file_extension": ".py",
   "mimetype": "text/x-python",
   "name": "python",
   "nbconvert_exporter": "python",
   "pygments_lexer": "ipython3",
   "version": "3.10.9"
  }
 },
 "nbformat": 4,
 "nbformat_minor": 5
}
