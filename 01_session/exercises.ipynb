{
 "cells": [
  {
   "cell_type": "markdown",
   "metadata": {},
   "source": [
    "# Exercises\n",
    "\n",
    "\n",
    "## General Python\n",
    "\n",
    "Let's build a simple **form application**. Your task will be to **ask the users some information**, **store it** in variables, perform **simple operations** and **display a user report** in the end. The form must:\n",
    "  1. Ask for the user's name, weirdest habit, favourite hobbie and best quality;\n",
    "  2. Store the informations in variables, which are easily readable;\n",
    "  3. Display a profile report about the user."
   ]
  },
  {
   "cell_type": "code",
   "execution_count": 1,
   "metadata": {},
   "outputs": [
    {
     "name": "stdin",
     "output_type": "stream",
     "text": [
      "Name: Joao\n",
      "weirdest habit: aaa\n",
      "favourite hobbie: bbb\n",
      "best quality: ccc\n"
     ]
    }
   ],
   "source": [
    "name = input('Name:')\n",
    "w_habit = input('weirdest habit:')\n",
    "fav_hobbie = input('favourite hobbie:')\n",
    "quality = input('best quality:')"
   ]
  },
  {
   "cell_type": "code",
   "execution_count": 20,
   "metadata": {},
   "outputs": [
    {
     "name": "stdout",
     "output_type": "stream",
     "text": [
      " Name: Joao\n",
      " Weirdest habit: aaa \n",
      " favourite hobbie: bbb \n",
      " best quality: ccc\n"
     ]
    }
   ],
   "source": [
    "print(f' Name: {name}\\n Weirdest habit: {w_habit} \\n favourite hobbie: {fav_hobbie} \\n best quality: {quality}')"
   ]
  },
  {
   "cell_type": "code",
   "execution_count": 2,
   "metadata": {},
   "outputs": [],
   "source": [
    "user_specs = [name, w_habit, fav_hobbie, quality]"
   ]
  },
  {
   "cell_type": "code",
   "execution_count": 32,
   "metadata": {},
   "outputs": [],
   "source": [
    "user_specs_dict = {'Name':name, 'weirdest habit':w_habit, 'favourite hobbie':fav_hobbie, 'best quality':quality}"
   ]
  },
  {
   "cell_type": "code",
   "execution_count": 33,
   "metadata": {},
   "outputs": [
    {
     "data": {
      "text/plain": [
       "{'Name': 'Joao',\n",
       " 'weirdest habit': 'aaa',\n",
       " 'favourite hobbie': 'bbb',\n",
       " 'best quality': 'ccc'}"
      ]
     },
     "execution_count": 33,
     "metadata": {},
     "output_type": "execute_result"
    }
   ],
   "source": [
    "user_specs_dict"
   ]
  },
  {
   "cell_type": "code",
   "execution_count": 34,
   "metadata": {},
   "outputs": [],
   "source": [
    "user_specs_dict['Age'] = 18"
   ]
  },
  {
   "cell_type": "code",
   "execution_count": 35,
   "metadata": {},
   "outputs": [
    {
     "data": {
      "text/plain": [
       "{'Name': 'Joao',\n",
       " 'weirdest habit': 'aaa',\n",
       " 'favourite hobbie': 'bbb',\n",
       " 'best quality': 'ccc',\n",
       " 'Age': 18}"
      ]
     },
     "execution_count": 35,
     "metadata": {},
     "output_type": "execute_result"
    }
   ],
   "source": [
    "user_specs_dict"
   ]
  },
  {
   "cell_type": "code",
   "execution_count": 36,
   "metadata": {},
   "outputs": [],
   "source": [
    "user_specs_dict['Age'] = 40"
   ]
  },
  {
   "cell_type": "code",
   "execution_count": 37,
   "metadata": {},
   "outputs": [
    {
     "data": {
      "text/plain": [
       "{'Name': 'Joao',\n",
       " 'weirdest habit': 'aaa',\n",
       " 'favourite hobbie': 'bbb',\n",
       " 'best quality': 'ccc',\n",
       " 'Age': 40}"
      ]
     },
     "execution_count": 37,
     "metadata": {},
     "output_type": "execute_result"
    }
   ],
   "source": [
    "user_specs_dict"
   ]
  },
  {
   "cell_type": "code",
   "execution_count": 38,
   "metadata": {},
   "outputs": [
    {
     "data": {
      "text/plain": [
       "40"
      ]
     },
     "execution_count": 38,
     "metadata": {},
     "output_type": "execute_result"
    }
   ],
   "source": [
    "user_specs_dict.pop('Age')"
   ]
  },
  {
   "cell_type": "code",
   "execution_count": 39,
   "metadata": {},
   "outputs": [
    {
     "data": {
      "text/plain": [
       "{'Name': 'Joao',\n",
       " 'weirdest habit': 'aaa',\n",
       " 'favourite hobbie': 'bbb',\n",
       " 'best quality': 'ccc'}"
      ]
     },
     "execution_count": 39,
     "metadata": {},
     "output_type": "execute_result"
    }
   ],
   "source": [
    "user_specs_dict"
   ]
  },
  {
   "cell_type": "code",
   "execution_count": 55,
   "metadata": {},
   "outputs": [],
   "source": [
    "chaves = list(user_specs_dict.keys())\n",
    "valores = list(user_specs_dict.values())"
   ]
  },
  {
   "cell_type": "code",
   "execution_count": 56,
   "metadata": {},
   "outputs": [
    {
     "name": "stdout",
     "output_type": "stream",
     "text": [
      "['Name', 'weirdest habit', 'favourite hobbie', 'best quality']\n",
      "['Joao', 'aaa', 'bbb', 'ccc']\n"
     ]
    }
   ],
   "source": [
    "print(chaves)\n",
    "print(valores)"
   ]
  },
  {
   "cell_type": "code",
   "execution_count": 59,
   "metadata": {},
   "outputs": [
    {
     "data": {
      "text/plain": [
       "{'Name', 'best quality', 'favourite hobbie', 'weirdest habit'}"
      ]
     },
     "execution_count": 59,
     "metadata": {},
     "output_type": "execute_result"
    }
   ],
   "source": [
    "chaves_set = set(chaves)\n",
    "chaves_set"
   ]
  },
  {
   "cell_type": "code",
   "execution_count": 63,
   "metadata": {},
   "outputs": [],
   "source": [
    "other_set = {'Name', 'profession', 'height', 'hobbie'}"
   ]
  },
  {
   "cell_type": "code",
   "execution_count": 64,
   "metadata": {},
   "outputs": [
    {
     "data": {
      "text/plain": [
       "{'Name'}"
      ]
     },
     "execution_count": 64,
     "metadata": {},
     "output_type": "execute_result"
    }
   ],
   "source": [
    "chaves_set.intersection(other_set)"
   ]
  },
  {
   "cell_type": "code",
   "execution_count": 68,
   "metadata": {},
   "outputs": [
    {
     "data": {
      "text/plain": [
       "{'height', 'hobbie', 'profession'}"
      ]
     },
     "execution_count": 68,
     "metadata": {},
     "output_type": "execute_result"
    }
   ],
   "source": [
    "other_set.difference(chaves_set)"
   ]
  },
  {
   "cell_type": "markdown",
   "metadata": {},
   "source": [
    "## Choosing Data Types\n",
    "\n",
    "For the following variables, assign the most appropriate data type:\n",
    "\n",
    "  1. A cat's name;\n",
    "  2. Personality traits of your colleague;\n",
    "  3. Conversion rate mile to kilometer;\n",
    "  4. Translation between spanish and english, word by word (like in the old-time Google Translate);\n",
    "  5. Number of olympic swimming pools in the world"
   ]
  },
  {
   "cell_type": "code",
   "execution_count": 2,
   "metadata": {},
   "outputs": [],
   "source": [
    "### ASSIGN DATA TYPES HERE\n",
    "# Cat's name -\n",
    "# Personality traits -\n",
    "# Conversion rate km/mile -\n",
    "# Translation es/en -\n",
    "# Swimming pools -"
   ]
  },
  {
   "cell_type": "markdown",
   "metadata": {},
   "source": [
    "\n",
    "## Googling Skills\n",
    "\n",
    "Search what is the Pythonic way to\n",
    "- Get the number of items in a dict, set, tuple and list\n",
    "- Check if an element exists in a dict, set, tuple or list\n",
    "- Change the value of a specific element in a list (e.g. 2nd item) \n",
    "- Reverse the items in a list"
   ]
  },
  {
   "cell_type": "code",
   "execution_count": 3,
   "metadata": {
    "slideshow": {
     "slide_type": "slide"
    },
    "tags": []
   },
   "outputs": [],
   "source": [
    "### SOLUTION\n",
    "# number of items -\n",
    "# element exists -\n",
    "# change value - \n",
    "# reverse items - "
   ]
  },
  {
   "cell_type": "code",
   "execution_count": null,
   "metadata": {},
   "outputs": [],
   "source": []
  },
  {
   "cell_type": "markdown",
   "metadata": {},
   "source": [
    "## Iteration Flow"
   ]
  },
  {
   "cell_type": "markdown",
   "metadata": {},
   "source": [
    "### Exercise 1 - Choice Master\n",
    "\n",
    "**(NO CODE)** Choose the most appropriate flow control for the imaginary applications below. Choose from if-else, while, for, continue, break.\n",
    "\n",
    "- 1: Given a list of people `['John', 'Maggie', 'Mark']`, greet them by name (print \"Hi\" + name) \n",
    "- 2: Wait until the user gives you a correct input.\n",
    "- 3: Between 1 and 10, print the numbers 6 and 7. Skip everything else."
   ]
  },
  {
   "cell_type": "code",
   "execution_count": 71,
   "metadata": {},
   "outputs": [
    {
     "name": "stdout",
     "output_type": "stream",
     "text": [
      "6\n",
      "7\n"
     ]
    }
   ],
   "source": [
    "### INSERT SOLUTION\n",
    "\n",
    "#1- for \n",
    "#2- while\n",
    "#3- \n",
    "\n",
    "for i in range(1,11):\n",
    "    if i == 6 or i ==7:\n",
    "        print(i)\n",
    "    else:\n",
    "        continue\n"
   ]
  },
  {
   "cell_type": "markdown",
   "metadata": {},
   "source": [
    "### Exercise 2 - Happy New Year\n",
    "\n",
    "Create two New Year's Countdowns, one with `while` and one with `for` loops. At \"midnight\", print \"HAPPY NEW YEAR FOLKS!\".\n",
    "\n",
    "*Tip: don't forget the `range` from Session 1."
   ]
  },
  {
   "cell_type": "code",
   "execution_count": null,
   "metadata": {},
   "outputs": [],
   "source": [
    "### INSERT SOLUTION"
   ]
  },
  {
   "cell_type": "markdown",
   "metadata": {},
   "source": [
    "### Exercise 3 - Large Caps\n",
    "\n",
    "Given the dict below of companies with largest market cap, create a new `marketcap_large` dictionary containing only companies above 2$T."
   ]
  },
  {
   "cell_type": "code",
   "execution_count": null,
   "metadata": {},
   "outputs": [],
   "source": [
    "# Market Capitalization, in $T\n",
    "marketcap = {\n",
    "    \"Apple\": 2.537, \n",
    "    \"Saudi Aramco\": 2.392, \n",
    "    \"Microsoft\": 2.074, \n",
    "    \"Alphabet\": 1.535, \n",
    "    \"Amazon\": 1.184\n",
    "}"
   ]
  },
  {
   "cell_type": "code",
   "execution_count": null,
   "metadata": {},
   "outputs": [],
   "source": [
    "### INSERT SOLUTION"
   ]
  },
  {
   "cell_type": "markdown",
   "metadata": {},
   "source": [
    "### Exercise 4 - Months\n",
    "\n",
    "test_list = [\"Jan\",\"Feb\",\"Mar\",\"Apr\",\"May\",\"Jun\",Jul\",\"Aug\",\"Sep\",\"Oct\",\"Nov\",\"Dec\"]\n",
    "\n",
    "using this test_list, print all months in the year that have 31 days. If they start with an M, print them uppercased"
   ]
  },
  {
   "cell_type": "code",
   "execution_count": null,
   "metadata": {},
   "outputs": [],
   "source": [
    "### INSERT SOLUTION"
   ]
  },
  {
   "cell_type": "markdown",
   "metadata": {},
   "source": [
    "<img src=media/congratulations.png width=900/>"
   ]
  },
  {
   "cell_type": "markdown",
   "metadata": {},
   "source": [
    "### Congratulations!! You've successfully finished the first session of Python 101! \n",
    "\n",
    "#### Go take a rest and we'll see again in session 02\n",
    "\n"
   ]
  },
  {
   "cell_type": "markdown",
   "metadata": {},
   "source": [
    "<img src=media/session1_ending.png width=900/>"
   ]
  },
  {
   "cell_type": "markdown",
   "metadata": {},
   "source": []
  }
 ],
 "metadata": {
  "interpreter": {
   "hash": "62450144029c700d9828a520a84c849f57ec997bbb5cd86252d9dcd358a93bcf"
  },
  "kernelspec": {
   "display_name": "Python 3 (ipykernel)",
   "language": "python",
   "name": "python3"
  },
  "language_info": {
   "codemirror_mode": {
    "name": "ipython",
    "version": 3
   },
   "file_extension": ".py",
   "mimetype": "text/x-python",
   "name": "python",
   "nbconvert_exporter": "python",
   "pygments_lexer": "ipython3",
   "version": "3.10.9"
  }
 },
 "nbformat": 4,
 "nbformat_minor": 4
}
